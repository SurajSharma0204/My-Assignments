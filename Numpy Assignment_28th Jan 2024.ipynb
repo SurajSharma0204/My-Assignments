{
 "cells": [
  {
   "cell_type": "code",
   "execution_count": 23,
   "id": "73ec5c5f-eca0-420a-a22a-e215a4bd9470",
   "metadata": {},
   "outputs": [],
   "source": [
    "#1. What is a Python library? Why do we use Python libraries?\n",
    "\n",
    "#Collection of functions called as Python Library. Python functions are reusable and optimized version in Python libraries. \n"
   ]
  },
  {
   "cell_type": "code",
   "execution_count": 24,
   "id": "c96fe040-3817-439d-89d9-f64da8de741c",
   "metadata": {},
   "outputs": [],
   "source": [
    "#2. What is the difference between Numpy array and List?\n",
    "\n",
    "#NumPy arrays have a fixed data type, enabling efficient numerical operations and reduced memory usage, while Python lists can store elements of varying data types and are more general-purpose but may be less efficient for numerical computations. NumPy also provides concise syntax for array operations, whereas lists often require explicit iteration."
   ]
  },
  {
   "cell_type": "code",
   "execution_count": 25,
   "id": "b552a1dc-3d4f-4ad1-b26f-8fee0c290ebc",
   "metadata": {},
   "outputs": [
    {
     "name": "stdout",
     "output_type": "stream",
     "text": [
      "Shape: (3, 4)\n",
      "Size: 12\n",
      "Dimension: 2\n"
     ]
    }
   ],
   "source": [
    "#3. Find the shape, size and dimension of the following array?\n",
    "\n",
    "import numpy as np\n",
    "\n",
    "arr = np.array([[1, 2, 3, 4],\n",
    "\n",
    "                [5, 6, 7, 8],\n",
    "\n",
    "                [9, 10, 11, 12]\n",
    "               ])\n",
    "\n",
    "# Shape function\n",
    "shape = arr.shape\n",
    "\n",
    "# Size function\n",
    "size = arr.size\n",
    "\n",
    "# Dimension function\n",
    "dimension = arr.ndim\n",
    "\n",
    "print(\"Shape:\", shape)\n",
    "print(\"Size:\", size)\n",
    "print(\"Dimension:\", dimension)"
   ]
  },
  {
   "cell_type": "code",
   "execution_count": 26,
   "id": "f2a2dbc5-b8ee-4de7-be2e-62668affb378",
   "metadata": {},
   "outputs": [
    {
     "data": {
      "text/plain": [
       "array([1, 2, 3, 4])"
      ]
     },
     "execution_count": 26,
     "metadata": {},
     "output_type": "execute_result"
    }
   ],
   "source": [
    "#4. Write python code to access the first row of the following array?\n",
    "\n",
    "import numpy as np\n",
    "\n",
    "arr1 = np.array([[1, 2, 3, 4],\n",
    "                 [5, 6, 7, 8],\n",
    "                 [9, 10, 11, 12]\n",
    "                ])\n",
    "\n",
    "arr1[0]"
   ]
  },
  {
   "cell_type": "code",
   "execution_count": 27,
   "id": "30b6da59-7777-4326-ab3d-69a512138ed0",
   "metadata": {},
   "outputs": [
    {
     "data": {
      "text/plain": [
       "12"
      ]
     },
     "execution_count": 27,
     "metadata": {},
     "output_type": "execute_result"
    }
   ],
   "source": [
    "#5. How do you access the element at the third row and fourth column from the given numpy array?\n",
    "\n",
    "\n",
    "arr1[2][3]\n",
    "\n"
   ]
  },
  {
   "cell_type": "code",
   "execution_count": 28,
   "id": "fc87de36-5ca4-42fc-abf9-074ad0b69595",
   "metadata": {},
   "outputs": [
    {
     "data": {
      "text/plain": [
       "array([ 2,  4,  6,  8, 10, 12])"
      ]
     },
     "execution_count": 28,
     "metadata": {},
     "output_type": "execute_result"
    }
   ],
   "source": [
    "#6. Write code to extract all odd-ineexed elements from the given numpy array?\n",
    "\n",
    "import numpy as np\n",
    "\n",
    "arr2 = np.array([[1, 2, 3, 4],\n",
    "                [5, 6, 7, 8],\n",
    "                [9, 10, 11, 12]])\n",
    "\n",
    "arr2[:, 1::2].flatten()\n",
    "\n"
   ]
  },
  {
   "cell_type": "code",
   "execution_count": 29,
   "id": "2481a823-e646-480e-aebb-c4786c3deeb3",
   "metadata": {},
   "outputs": [
    {
     "data": {
      "text/plain": [
       "array([[0.17641103, 0.42540785, 0.33875835],\n",
       "       [0.85746248, 0.34127667, 0.6384248 ],\n",
       "       [0.88672515, 0.1902777 , 0.60172656]])"
      ]
     },
     "execution_count": 29,
     "metadata": {},
     "output_type": "execute_result"
    }
   ],
   "source": [
    "#7. How can you generate a random 3x3 matrix with values between 0 and 1?\n",
    "\n",
    "import numpy as np\n",
    "\n",
    "np.random.rand(3, 3)\n",
    "\n"
   ]
  },
  {
   "cell_type": "code",
   "execution_count": 30,
   "id": "87304f1b-29e3-4e98-8cfc-6ec28157d884",
   "metadata": {},
   "outputs": [],
   "source": [
    "#8. Describe the difference between np.random.rand and np.random.randn?\n",
    "\n",
    "\n",
    "#np.random.rand generates random numbers from a uniform distribution between 0 and 1, while np.random.randn generates numbers from a standard normal distribution with mean 0 and standard deviation 1"
   ]
  },
  {
   "cell_type": "code",
   "execution_count": 31,
   "id": "7e41d0c8-4c9a-4490-9716-bad2f42a03b4",
   "metadata": {},
   "outputs": [
    {
     "ename": "ValueError",
     "evalue": "cannot reshape array of size 12 into shape (2,2)",
     "output_type": "error",
     "traceback": [
      "\u001b[0;31m---------------------------------------------------------------------------\u001b[0m",
      "\u001b[0;31mValueError\u001b[0m                                Traceback (most recent call last)",
      "Cell \u001b[0;32mIn[31], line 10\u001b[0m\n\u001b[1;32m      5\u001b[0m darray \u001b[38;5;241m=\u001b[39m np\u001b[38;5;241m.\u001b[39marray([[\u001b[38;5;241m1\u001b[39m, \u001b[38;5;241m2\u001b[39m, \u001b[38;5;241m3\u001b[39m, \u001b[38;5;241m4\u001b[39m],\n\u001b[1;32m      6\u001b[0m                    [\u001b[38;5;241m5\u001b[39m, \u001b[38;5;241m6\u001b[39m, \u001b[38;5;241m7\u001b[39m, \u001b[38;5;241m8\u001b[39m],\n\u001b[1;32m      7\u001b[0m                    [\u001b[38;5;241m9\u001b[39m, \u001b[38;5;241m10\u001b[39m, \u001b[38;5;241m11\u001b[39m, \u001b[38;5;241m12\u001b[39m]])\n\u001b[1;32m      9\u001b[0m \u001b[38;5;66;03m# Increase dimension along a new axis (for example, adding a new axis at the end)\u001b[39;00m\n\u001b[0;32m---> 10\u001b[0m \u001b[43mdarray\u001b[49m\u001b[38;5;241;43m.\u001b[39;49m\u001b[43mreshape\u001b[49m\u001b[43m(\u001b[49m\u001b[38;5;241;43m2\u001b[39;49m\u001b[43m,\u001b[49m\u001b[38;5;241;43m2\u001b[39;49m\u001b[43m)\u001b[49m\n",
      "\u001b[0;31mValueError\u001b[0m: cannot reshape array of size 12 into shape (2,2)"
     ]
    }
   ],
   "source": [
    "#9. Write code to increase the dimension of the following array?\n",
    "\n",
    "import numpy as np\n",
    "\n",
    "darray = np.array([[1, 2, 3, 4],\n",
    "                   [5, 6, 7, 8],\n",
    "                   [9, 10, 11, 12]])\n",
    "\n",
    "# Increase dimension along a new axis (for example, adding a new axis at the end)\n",
    "darray.reshape(2,2)\n",
    "\n"
   ]
  },
  {
   "cell_type": "code",
   "execution_count": 32,
   "id": "5dfd60e1-07c6-49ef-bc03-f799708a8c1e",
   "metadata": {},
   "outputs": [
    {
     "data": {
      "text/plain": [
       "array([[ 1,  5,  9],\n",
       "       [ 2,  6, 10],\n",
       "       [ 3,  7, 11],\n",
       "       [ 4,  8, 12]])"
      ]
     },
     "execution_count": 32,
     "metadata": {},
     "output_type": "execute_result"
    }
   ],
   "source": [
    "#10. How to transpose the following array in NumPy?\n",
    "o_array = np.array([[1, 2, 3, 4],\n",
    "                    [5, 6, 7, 8],\n",
    "                    [9, 10, 11, 12]])\n",
    "\n",
    "o_array.T"
   ]
  },
  {
   "cell_type": "code",
   "execution_count": 33,
   "id": "2f26fab4-51f8-4581-ab3d-0fb921fb1f3e",
   "metadata": {},
   "outputs": [],
   "source": [
    "#11. Consider the following matrix:\n",
    "#Matrix A2 [[1, 2, 3, 4] [5, 6, 7, 8],[9, 10, 11, 12]]\n",
    "#Matrix B2 [[1, 2, 3, 4] [5, 6, 7, 8],[9, 10, 11, 12]]\n",
    "\n",
    "#Perform the following operation using Python1\n",
    "\n",
    "#1. Index wise multiplication\n",
    "#2. Matix multiplication\n",
    "#3. Add both the matrics\n",
    "#4. Subtract matrix B from A \n",
    "#5. Divide Matix B by A\n"
   ]
  },
  {
   "cell_type": "code",
   "execution_count": 34,
   "id": "6cac451e-92b7-4eb5-b3b9-df8e8c144c5e",
   "metadata": {},
   "outputs": [],
   "source": [
    "#1. Index wise multiplication\n",
    "\n",
    "import numpy as np\n",
    "\n",
    "\n",
    "arrayA2 = np.array([[1, 2, 3, 4], [5, 6, 7, 8],[9, 10, 11, 12]])\n",
    "arrayB2 = np.array([[1, 2, 3, 4], [5, 6, 7, 8],[9, 10, 11, 12]])\n",
    "\n"
   ]
  },
  {
   "cell_type": "code",
   "execution_count": 35,
   "id": "27bed7ec-a85a-41e4-8988-887c82bb7cad",
   "metadata": {},
   "outputs": [
    {
     "data": {
      "text/plain": [
       "array([[  1,   4,   9,  16],\n",
       "       [ 25,  36,  49,  64],\n",
       "       [ 81, 100, 121, 144]])"
      ]
     },
     "execution_count": 35,
     "metadata": {},
     "output_type": "execute_result"
    }
   ],
   "source": [
    "arrayA2 * arrayB2"
   ]
  },
  {
   "cell_type": "code",
   "execution_count": 36,
   "id": "fa655960-aa42-4f34-a7f2-cd03c0f2df1e",
   "metadata": {},
   "outputs": [
    {
     "ename": "ValueError",
     "evalue": "matmul: Input operand 1 has a mismatch in its core dimension 0, with gufunc signature (n?,k),(k,m?)->(n?,m?) (size 3 is different from 4)",
     "output_type": "error",
     "traceback": [
      "\u001b[0;31m---------------------------------------------------------------------------\u001b[0m",
      "\u001b[0;31mValueError\u001b[0m                                Traceback (most recent call last)",
      "Cell \u001b[0;32mIn[36], line 3\u001b[0m\n\u001b[1;32m      1\u001b[0m \u001b[38;5;66;03m#2. Matix multiplication\u001b[39;00m\n\u001b[0;32m----> 3\u001b[0m \u001b[43marrayA2\u001b[49m\u001b[43m \u001b[49m\u001b[38;5;241;43m@\u001b[39;49m\u001b[43m \u001b[49m\u001b[43marrayB2\u001b[49m\n",
      "\u001b[0;31mValueError\u001b[0m: matmul: Input operand 1 has a mismatch in its core dimension 0, with gufunc signature (n?,k),(k,m?)->(n?,m?) (size 3 is different from 4)"
     ]
    }
   ],
   "source": [
    "#2. Matix multiplication\n",
    "\n",
    "arrayA2 @ arrayB2"
   ]
  },
  {
   "cell_type": "code",
   "execution_count": null,
   "id": "4cacd50f-ee20-46eb-a5da-81951e586e6c",
   "metadata": {},
   "outputs": [],
   "source": []
  },
  {
   "cell_type": "code",
   "execution_count": 37,
   "id": "f596585b-b144-45f9-bbde-09ba4d8eef24",
   "metadata": {},
   "outputs": [
    {
     "data": {
      "text/plain": [
       "array([[ 2,  4,  6,  8],\n",
       "       [10, 12, 14, 16],\n",
       "       [18, 20, 22, 24]])"
      ]
     },
     "execution_count": 37,
     "metadata": {},
     "output_type": "execute_result"
    }
   ],
   "source": [
    "#3. Add both the matrics\n",
    "\n",
    "arrayA2 + arrayB2"
   ]
  },
  {
   "cell_type": "code",
   "execution_count": 38,
   "id": "d6f09f3b-6068-441e-9459-90c1b439e17e",
   "metadata": {},
   "outputs": [
    {
     "data": {
      "text/plain": [
       "array([[0, 0, 0, 0],\n",
       "       [0, 0, 0, 0],\n",
       "       [0, 0, 0, 0]])"
      ]
     },
     "execution_count": 38,
     "metadata": {},
     "output_type": "execute_result"
    }
   ],
   "source": [
    "#4. Subtract matrix B from A \n",
    "\n",
    "arrayA2 - arrayB2"
   ]
  },
  {
   "cell_type": "code",
   "execution_count": 39,
   "id": "5418f4ae-07eb-40a9-8b31-f8dd76251c72",
   "metadata": {},
   "outputs": [
    {
     "data": {
      "text/plain": [
       "array([[1., 1., 1., 1.],\n",
       "       [1., 1., 1., 1.],\n",
       "       [1., 1., 1., 1.]])"
      ]
     },
     "execution_count": 39,
     "metadata": {},
     "output_type": "execute_result"
    }
   ],
   "source": [
    "#5. Divide Matix B by A\n",
    "\n",
    "\n",
    "arrayB2 /  arrayA2\n"
   ]
  },
  {
   "cell_type": "code",
   "execution_count": 40,
   "id": "06750f74-444e-40f0-bb90-88046e25ee47",
   "metadata": {},
   "outputs": [],
   "source": [
    "#12. Which function in Numpy can be used to swap the byte order of an array?\n",
    "\n",
    "#Ans - In NumPy, you can use the byteswap function to swap the byte order of an array. The byteswap function swaps the byte order of the elements in the array in place.\n"
   ]
  },
  {
   "cell_type": "code",
   "execution_count": 41,
   "id": "e81e8c2b-7dab-4905-90fa-5e03127bd276",
   "metadata": {
    "jupyter": {
     "source_hidden": true
    },
    "tags": []
   },
   "outputs": [],
   "source": [
    "#13. What is the significance of the np.linalg.inv function?\n",
    "\n",
    "#Ans - The np.linalg.inv function in NumPy is used to compute the (multiplicative) inverse of a square matrix. In other words, if you have a square matrix A, then np.linalg.inv(A) will give you a matrix B such that the product of A and B is the identity matrix."
   ]
  },
  {
   "cell_type": "code",
   "execution_count": 42,
   "id": "8921df34-bff7-48d4-b42a-1ac180e552f7",
   "metadata": {},
   "outputs": [],
   "source": [
    "#14. What does the np.reshape function do, and how is it used?\n",
    "\n",
    "#Ans - The np.reshape function in NumPy is used to give a new shape to an array without changing its data. It returns a new array with the specified shape. The new shape should have the same number of elements as the original array."
   ]
  },
  {
   "cell_type": "code",
   "execution_count": 22,
   "id": "8af1ff22-5020-40c8-abc8-cb79d0c84aa2",
   "metadata": {},
   "outputs": [],
   "source": [
    "#15. What is broadcasting in Numpy?\n",
    "\n",
    "#Ans - The broadcasting rules in NumPy allow arrays with different shapes to be combined in a way that makes sense for arithmetic operations(subtract,addition,multiplication,divide of each elements). The smaller array is \"broadcast\" across the larger one so that they have compatible shapes."
   ]
  },
  {
   "cell_type": "code",
   "execution_count": null,
   "id": "861c6b1f-fd8a-4b18-8dff-9f5fa27934cd",
   "metadata": {},
   "outputs": [],
   "source": []
  },
  {
   "cell_type": "code",
   "execution_count": null,
   "id": "80109fd7-f5ac-460f-9e84-ada87f8b4534",
   "metadata": {},
   "outputs": [],
   "source": []
  },
  {
   "cell_type": "code",
   "execution_count": null,
   "id": "2dc0e538-7c95-4170-b778-4da2ac970386",
   "metadata": {},
   "outputs": [],
   "source": []
  }
 ],
 "metadata": {
  "kernelspec": {
   "display_name": "Python 3 (ipykernel)",
   "language": "python",
   "name": "python3"
  },
  "language_info": {
   "codemirror_mode": {
    "name": "ipython",
    "version": 3
   },
   "file_extension": ".py",
   "mimetype": "text/x-python",
   "name": "python",
   "nbconvert_exporter": "python",
   "pygments_lexer": "ipython3",
   "version": "3.10.8"
  }
 },
 "nbformat": 4,
 "nbformat_minor": 5
}
