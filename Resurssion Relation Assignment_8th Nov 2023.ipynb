{
 "cells": [
  {
   "cell_type": "code",
   "execution_count": 16,
   "id": "c1c4d3c0-455c-4e1b-89d8-a5c158a8a58e",
   "metadata": {},
   "outputs": [
    {
     "name": "stdout",
     "output_type": "stream",
     "text": [
      "T(2) = 105\n"
     ]
    }
   ],
   "source": [
    "# Find the value of T(2) for the recurrence relation T(n) = 3T(n-1) + 12n, given that T(0)=5.\n",
    "\n",
    "#To find the value of  T(2) for the given recurrence relation  T(n)=3T(n−1)+12n with the initial condition  T(0)=5, we can recursively apply the relation:\n",
    "    \n",
    "def T(n):\n",
    "    if n == 0:\n",
    "        return 5\n",
    "    else:\n",
    "        return 3 * T(n - 1) + 12 * n\n",
    " \n",
    "\n",
    "\n",
    "\n",
    "\n",
    "T_2 = T(2)\n",
    "print(\"T(2) =\", T_2)\n",
    " \n",
    "\n",
    "\n"
   ]
  },
  {
   "cell_type": "code",
   "execution_count": null,
   "id": "91e5c33d-f314-430f-948e-599e8f4323fc",
   "metadata": {},
   "outputs": [],
   "source": []
  },
  {
   "cell_type": "code",
   "execution_count": 43,
   "id": "66c0917f-092b-47cb-8574-d5efacc1783d",
   "metadata": {},
   "outputs": [],
   "source": [
    "#2. Given a recurrence relation, solve it using the substitution method:\n",
    "#a. T(n) = T(n-1) + c\n",
    "#b. T(n) = 2*T(n//2) + n\n",
    "#c. T(n) = 2*T(n/2) + c\n",
    "#d. T(n) = T(n/2) + c\n",
    "\n",
    "\n",
    "#a.  T(n) = T(n-1) + c\n",
    "\n",
    "#Assumption: T(n)=O(n)\n",
    "#Substitute this into the recurrence relation:\n",
    "def T_a(n):\n",
    "    if n == 0:\n",
    "        return 0  # Base case\n",
    "    return T_a(n - 1) + c\n",
    "\n",
    "\n",
    "\n",
    "\n",
    "#b. T(n) = 2*T(n//2) + n\n",
    "\n",
    "#Assumption: T(n) = O(nlogn)\n",
    "#Substitute this into the recurrence relation:\n",
    "def T_b(n):\n",
    "    if n == 1:\n",
    "        return 1  # Base case\n",
    "    return 2 * T_b(n // 2) + n\n",
    "\n",
    "\n",
    "#c. T(n)=2*T(n/2)+c\n",
    "\n",
    "#Assumption: T(n)=O(n)\n",
    "#Substitute this into the recurrence relation:\n",
    "def T_c(n):\n",
    "    if n == 1:\n",
    "        return 1  # Base case\n",
    "    return 2 * T_c(n // 2) + c\n",
    "\n",
    "#d.T(n)=T(n/2)+c\n",
    "\n",
    "#Assumption: T(n)=O(logn)\n",
    "#Substitute this into the recurrence relation:\n",
    "def T_d(n):\n",
    "    if n == 1:\n",
    "        return 1  # Base case\n",
    "    return T_d(n // 2) + c"
   ]
  },
  {
   "cell_type": "code",
   "execution_count": 45,
   "id": "8ea49c9d-8347-41e4-92af-366b08dddddd",
   "metadata": {},
   "outputs": [
    {
     "name": "stdout",
     "output_type": "stream",
     "text": [
      "a. T(n) = T(n-1) + c\n",
      "T_a(5) = 25\n",
      "b. T(n) = 2*T(n//2) + n\n",
      "T_b(10) = 36\n",
      "c. T(n) = 2*T(n/2) + c\n",
      "T_c(20) = 91\n",
      "d. T(n) = T(n/2) + c\n",
      "T_d(30) = 21\n"
     ]
    }
   ],
   "source": [
    "\n",
    "c = 5\n",
    "print(\"a. T(n) = T(n-1) + c\")\n",
    "print(\"T_a(5) =\", T_a(5))\n",
    "\n",
    "print(\"b. T(n) = 2*T(n//2) + n\")\n",
    "print(\"T_b(10) =\", T_b(10))\n",
    "\n",
    "print(\"c. T(n) = 2*T(n/2) + c\")\n",
    "print(\"T_c(20) =\", T_c(20))\n",
    "\n",
    "print(\"d. T(n) = T(n/2) + c\")\n",
    "print(\"T_d(30) =\", T_d(30))"
   ]
  },
  {
   "cell_type": "code",
   "execution_count": 71,
   "id": "63a915e8-0d1b-4c0c-9701-54692e6035d7",
   "metadata": {},
   "outputs": [
    {
     "name": "stdout",
     "output_type": "stream",
     "text": [
      "T_a1(3) = 15\n",
      "T_b1(3) = 5\n"
     ]
    }
   ],
   "source": [
    "#3. Given a recurrence relation, solve it using the recursive tree approach:\n",
    "#a. T(n) = 2*T(n-1) +1\n",
    "#b. T(n) = 2*T(n/2) + n\n",
    "\n",
    "#a. 1*T(n)=2*T(n-1)+1\n",
    "#Let's use the recursive tree approach to visualize and solve this recurrence relation.\n",
    "#T(n)=2*T(n-1)+1\n",
    "def T_a1(n):\n",
    "    if n == 0:\n",
    "        return 1  # Base case\n",
    "    return 2 * T_a1(n - 1) + 1\n",
    "\n",
    "#At each level of the recursion, there are two recursive calls with the input size reduced by 1. The extra term +1+1 indicates some constant work done at each level\n",
    "\n",
    "\"\"\"\n",
    "T(n)\n",
    "    |\n",
    "    2*T(n-1) + 1\n",
    "    |\n",
    "    2*T(n-2) + 1\n",
    "      |\n",
    "        2*T(n-3) + 1\n",
    "        |\n",
    "        ...              \n",
    "\"\"\"        \n",
    "#Expanding this tree, we can see that it forms a linear chain. The work at each level is O(1), and the number of levels is n.\n",
    "#So, the total work is O(n).\n",
    "        \n",
    "\n",
    "#b. T(n)=2*T*(n/2)+n\n",
    "      \n",
    "#Let's use the recursive tree approach to visualize and solve this recurrence relation.\n",
    "#T(n)=2*T(n/2)+n\n",
    "\n",
    "def T_b1(n):\n",
    "    if n == 1:\n",
    "        return 1  # Base case\n",
    "    return 2 * T_b1(n // 2) + n\n",
    "#At each level ofthe recursion, there are two recursive calls with the input size reduced by half. The extra term +n indicates some linear work done at each level.\n",
    "\n",
    "\"\"\"\n",
    "T(n)\n",
    "    |\n",
    "    2*T(n/2) + n\n",
    "    /      \\\n",
    " T(n/2)   T(n/2) + n/2\n",
    "           /       \\\n",
    "       T(n/4)    T(n/4) + n/4\n",
    "                  /        \\\n",
    "              T(n/8)    T(n/8) + n/8\n",
    "                          /           \\\n",
    "                      T(n/16)      T(n/16) + n/16\n",
    "                                     /             \\\n",
    "                               T(n/32)      T(n/32) + n/32\n",
    "                                                ...\n",
    "\"\"\"                    \n",
    "#Expanding this tree, we can see that it forms a binary tree. At each level, the total work is O(n) because we have n units of work at each level and there are logn levels.\n",
    "#So, the total work is \n",
    "\n",
    "print(\"T_a1(3) =\", T_a1(3))\n",
    "print(\"T_b1(3) =\", T_b1(3))"
   ]
  },
  {
   "cell_type": "code",
   "execution_count": null,
   "id": "efa46de1-236a-4b48-9dfb-9859ee5f9921",
   "metadata": {},
   "outputs": [],
   "source": []
  }
 ],
 "metadata": {
  "kernelspec": {
   "display_name": "Python 3 (ipykernel)",
   "language": "python",
   "name": "python3"
  },
  "language_info": {
   "codemirror_mode": {
    "name": "ipython",
    "version": 3
   },
   "file_extension": ".py",
   "mimetype": "text/x-python",
   "name": "python",
   "nbconvert_exporter": "python",
   "pygments_lexer": "ipython3",
   "version": "3.10.8"
  }
 },
 "nbformat": 4,
 "nbformat_minor": 5
}
