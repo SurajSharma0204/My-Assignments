{
 "cells": [
  {
   "cell_type": "code",
   "execution_count": 7,
   "id": "84d6c9d5-3f74-4dcd-abd1-8fb93300f0b4",
   "metadata": {},
   "outputs": [
    {
     "name": "stdout",
     "output_type": "stream",
     "text": [
      "Move disk 1 from source A to destination B\n",
      "Move disk 2 from source A to destination B\n",
      "Move disk 1 from source C to destination B\n",
      "Move disk 3 from source A to destination B\n",
      "Move disk 1 from source C to destination B\n",
      "Move disk 2 from source C to destination B\n",
      "Move disk 1 from source A to destination B\n",
      "Move disk 4 from source A to destination B\n",
      "Move disk 1 from source C to destination B\n",
      "Move disk 2 from source C to destination B\n",
      "Move disk 1 from source A to destination B\n",
      "Move disk 3 from source C to destination B\n",
      "Move disk 1 from source A to destination B\n",
      "Move disk 2 from source A to destination B\n",
      "Move disk 1 from source C to destination B\n"
     ]
    }
   ],
   "source": [
    "#Q.1 Can you explain the logic and working of the Tower of Hanoi algorithm by writing a program?\n",
    "#How does the recursion work, and how are the movements of disks between rods accomplished?\n",
    "\n",
    "\n",
    "\n",
    "def TowerOfHanoi(n , s, d, a): # Number of disk, Source, Destination, Duxiliary\n",
    "    if n==1:\n",
    "        print (\"Move disk 1 from source\",s,\"to destination\",d)\n",
    "        return\n",
    "    TowerOfHanoi(n-1, s, d, a)\n",
    "    print (\"Move disk\",n,\"from source\",s,\"to destination\",d)\n",
    "    TowerOfHanoi(n-1, a, d, s)\n",
    "\n",
    "n = 4\n",
    "TowerOfHanoi(n,'A','B','C')"
   ]
  },
  {
   "cell_type": "code",
   "execution_count": 13,
   "id": "144a8d6e-1ab1-4a2b-ab36-10cc969ae9a1",
   "metadata": {},
   "outputs": [
    {
     "name": "stdout",
     "output_type": "stream",
     "text": [
      "1\n",
      "3\n",
      "7\n",
      "15\n"
     ]
    }
   ],
   "source": [
    "#Tower of Hanoi recursion problem \n",
    "#It calculates the total number of moves needed to solve the problem for a given number of disks\n",
    "\n",
    "def moves(n,s,d,a):\n",
    "    #Base condition\n",
    "    if n == 1:\n",
    "        return 1\n",
    "    #Move n-1 s->a, then move 1 biggest coin to s->d and then n-1 coin a-d\n",
    "    return moves(n-1,s,a,d) + 1 + moves(n-1,a,d,s)\n",
    "print(moves(1,'s','d','a'))\n",
    "print(moves(2,'s','d','a'))\n",
    "print(moves(3,'s','d','a'))\n",
    "print(moves(4,'s','d','a'))"
   ]
  },
  {
   "cell_type": "code",
   "execution_count": 4,
   "id": "1ba546bd-796a-42de-8795-20fc167e8a5d",
   "metadata": {},
   "outputs": [],
   "source": [
    "#Q.2 Given two strings word1 and word2, return the minimum number of operations required to convert word1 to word2.\n",
    "#Example 1:\n",
    "#Input: word1 = \"horse\", word2 = \"ros\"\n",
    "#Output: 3\n",
    "#horse -> rorse (replace 'h' with 'r')\n",
    "#rorse -> rose (remove 'r')\n",
    "#rose -> ros (remove 'e')\n",
    "#Example 2:\n",
    "#Input: word1 = \"intention\", word2 = \"execution\"\n",
    "#Output: 5\n",
    "#Explanation:\n",
    "#intention -> inention (remove 't')\n",
    "#inention -> enention (replace 'i' with 'e')\n",
    "#enention -> exention (replace 'n' with 'x')\n",
    "#exention -> exection (replace 'n' with 'c')\n",
    "#exection -> execution (insert 'u')\n"
   ]
  },
  {
   "cell_type": "code",
   "execution_count": 5,
   "id": "d99219a0-4af9-4148-8f49-bd9a9157ba03",
   "metadata": {},
   "outputs": [
    {
     "name": "stdout",
     "output_type": "stream",
     "text": [
      "Minimum number of operations: 3\n"
     ]
    }
   ],
   "source": [
    "def minDistance(word1, word2):\n",
    "    def helper(i, j):\n",
    "        # Base cases\n",
    "        if i == 0:\n",
    "            return j\n",
    "        if j == 0:\n",
    "            return i\n",
    "        \n",
    "        # If the last characters are the same, no operation needed\n",
    "        if word1[i - 1] == word2[j - 1]:\n",
    "            return helper(i - 1, j - 1)\n",
    "        \n",
    "        # Explore all possible operations and find the minimum\n",
    "        return 1 + min(\n",
    "            helper(i - 1, j),    # Deletion\n",
    "            helper(i, j - 1),    # Insertion\n",
    "            helper(i - 1, j - 1)  # Substitution\n",
    "        )\n",
    "\n",
    "    return helper(len(word1), len(word2))\n",
    "\n",
    "# Example usage:\n",
    "word1 = \"horse\"\n",
    "word2 = \"ros\"\n",
    "result = minDistance(word1, word2)\n",
    "print(f\"Minimum number of operations: {result}\")\n"
   ]
  },
  {
   "cell_type": "code",
   "execution_count": 12,
   "id": "fdc3c4c0-921a-468f-9b74-e1b9a6e123f0",
   "metadata": {},
   "outputs": [
    {
     "name": "stdout",
     "output_type": "stream",
     "text": [
      "5\n"
     ]
    }
   ],
   "source": [
    "\n",
    "\n",
    "# A Naive recursive Python program to find minimum number\n",
    "# operations to convert str1 to str2\n",
    " \n",
    " \n",
    "def editDistance(wrd1, wrd2, m, n):\n",
    " \n",
    "    # If first string is empty, the only option is to\n",
    "    # insert all characters of second string into first\n",
    "    if m == 0:\n",
    "        return n\n",
    " \n",
    "    # If second string is empty, the only option is to\n",
    "    # remove all characters of first string\n",
    "    if n == 0:\n",
    "        return m\n",
    " \n",
    "    # If last characters of two strings are same, nothing\n",
    "    # much to do. Ignore last characters and get count for\n",
    "    # remaining strings.\n",
    "    if wrd1[m-1] == wrd2[n-1]:\n",
    "        return editDistance(wrd1, wrd2, m-1, n-1)\n",
    " \n",
    "    # If last characters are not same, consider all three\n",
    "    # operations on last character of first string, recursively\n",
    "    # compute minimum cost for all three operations and take\n",
    "    # minimum of three values.\n",
    "    return 1 + min(editDistance(wrd1, wrd2, m, n-1),    # Insert\n",
    "                   editDistance(wrd1, wrd2, m-1, n),    # Remove\n",
    "                   editDistance(wrd1, wrd2, m-1, n-1)    # Replace\n",
    "                   )\n",
    " \n",
    " \n",
    "# Driver code\n",
    "wrd1 = \"intention\"\n",
    "wrd2 = \"execution\"\n",
    "print (editDistance(wrd1, wrd2, len(wrd1), len(wrd2)))"
   ]
  },
  {
   "cell_type": "code",
   "execution_count": null,
   "id": "6e6ddb07-b5a5-4bd8-8a08-40dca5c14773",
   "metadata": {},
   "outputs": [],
   "source": []
  },
  {
   "cell_type": "code",
   "execution_count": 1,
   "id": "3d19d300-2f8a-4e04-86ce-58f97f997671",
   "metadata": {},
   "outputs": [
    {
     "name": "stdout",
     "output_type": "stream",
     "text": [
      "22\n"
     ]
    }
   ],
   "source": [
    "#Q. 3 Print the max value of the array [ 13, 1, -3, 22, 5].\n",
    "\n",
    "arr = [13, 1, -3, 22, 5]\n",
    "max_value = max(arr)\n",
    "print(max_value)"
   ]
  },
  {
   "cell_type": "code",
   "execution_count": 2,
   "id": "9af79f20-9200-46f6-a0b6-eb2a0558bf5e",
   "metadata": {},
   "outputs": [
    {
     "name": "stdout",
     "output_type": "stream",
     "text": [
      "120\n"
     ]
    }
   ],
   "source": [
    "#Q.4 Find the sum of the values of the array [92, 23, 15, -20, 10].\n",
    "\n",
    "arr = [92, 23, 15, -20, 10]\n",
    "sum_values = sum(arr)\n",
    "print(sum_values)"
   ]
  },
  {
   "cell_type": "code",
   "execution_count": 3,
   "id": "94a20396-4837-43d7-9b28-3cecb5152fcd",
   "metadata": {},
   "outputs": [
    {
     "name": "stdout",
     "output_type": "stream",
     "text": [
      "153 is Armstrong\n"
     ]
    }
   ],
   "source": [
    "#Q.5 Given a number n. Print if it is an armstrong number or not.An armstrong number is a number if the sum of every digit in that number raised to the power of total digits in that number is equal to the number.\n",
    "#Example : 153 = 1^3 + 5^3 + 3^3 = 1 + 125 + 27 = 153 hence 153 is an armstrong number. (Easy)\n",
    "\n",
    "def is_armstrong_number(n):\n",
    "    # Convert the number to a string to find the number of digits\n",
    "    num_str = str(n)\n",
    "    num_digits = len(num_str)\n",
    "\n",
    "    # Calculate the sum of each digit raised to the power of the total digits\n",
    "    armstrong_sum = sum(int(digit) ** num_digits for digit in num_str)\n",
    "\n",
    "    # Check if the sum is equal to the original number\n",
    "    return armstrong_sum == n\n",
    "\n",
    "# Example usage:\n",
    "number = 153\n",
    "result = is_armstrong_number(number)\n",
    "print(f\"{number} is Armstrong\" if result else f\"{number} is not Armstrong\")"
   ]
  },
  {
   "cell_type": "code",
   "execution_count": null,
   "id": "272edca5-cd57-4c77-9d2d-ed4e1a8ad067",
   "metadata": {},
   "outputs": [],
   "source": []
  }
 ],
 "metadata": {
  "kernelspec": {
   "display_name": "Python 3 (ipykernel)",
   "language": "python",
   "name": "python3"
  },
  "language_info": {
   "codemirror_mode": {
    "name": "ipython",
    "version": 3
   },
   "file_extension": ".py",
   "mimetype": "text/x-python",
   "name": "python",
   "nbconvert_exporter": "python",
   "pygments_lexer": "ipython3",
   "version": "3.10.8"
  }
 },
 "nbformat": 4,
 "nbformat_minor": 5
}
