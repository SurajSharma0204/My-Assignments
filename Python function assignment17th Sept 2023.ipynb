{
 "cells": [
  {
   "cell_type": "code",
   "execution_count": 2,
   "id": "ff0ee050-ecfd-46ed-84e1-2cc7c6cb7897",
   "metadata": {},
   "outputs": [
    {
     "name": "stdout",
     "output_type": "stream",
     "text": [
      "1\n",
      "2\n",
      "3\n",
      "4\n",
      "5\n",
      "6\n",
      "7\n",
      "8\n",
      "9\n",
      "10\n"
     ]
    }
   ],
   "source": [
    "#for loop\n",
    "\n",
    "#1.Write a Python program to print numbers from 1 to 10 using a for loop.\n",
    "\n",
    "for number in range(1, 11):\n",
    "    print(number)"
   ]
  },
  {
   "cell_type": "code",
   "execution_count": 3,
   "id": "7bf51e16-0a51-4a7d-8685-2a1dfcf41da1",
   "metadata": {},
   "outputs": [],
   "source": [
    "#2.Explain the difference between a for loop and a while loop in Python.\n",
    "#answer - for loop is used when you know how many times you will iterate and while loop is used when you dont know how many times you will iterate."
   ]
  },
  {
   "cell_type": "code",
   "execution_count": 5,
   "id": "a2b70df8-d877-4069-9a85-e59012eaaad6",
   "metadata": {},
   "outputs": [
    {
     "name": "stdout",
     "output_type": "stream",
     "text": [
      "The sum of numbers from 1 to 100 is: 5050\n"
     ]
    }
   ],
   "source": [
    "#3. Write a Python program to calculate the sum of all numbers from 1 to 100 using a for loop.\n",
    "\n",
    "sum = 0\n",
    "for num in range(1,101):\n",
    "    sum += num\n",
    "print(\"The sum of numbers from 1 to 100 is:\",sum)\n"
   ]
  },
  {
   "cell_type": "code",
   "execution_count": 6,
   "id": "59d40642-9ee2-4e5c-b8c4-beaf1bfb03bc",
   "metadata": {},
   "outputs": [
    {
     "name": "stdout",
     "output_type": "stream",
     "text": [
      "Gujarat\n",
      "Rajasthan\n",
      "Maharashtra\n",
      "Kerala\n"
     ]
    }
   ],
   "source": [
    "#4.How do you iterate through a list using a for loop in Python?\n",
    "\n",
    "states=[\"Gujarat\", \"Rajasthan\", \"Maharashtra\", \"Kerala\"]\n",
    "\n",
    "for st in states:\n",
    "    print(st)"
   ]
  },
  {
   "cell_type": "code",
   "execution_count": 7,
   "id": "6d0e29d4-c628-42c9-a758-90043a3a031c",
   "metadata": {},
   "outputs": [
    {
     "name": "stdout",
     "output_type": "stream",
     "text": [
      "The item of all elements in the list is: 24\n"
     ]
    }
   ],
   "source": [
    "#5.Write a Python program to find the product of all elements in a list using a for loop\n",
    "\n",
    "list1 = [1,2,3,4]\n",
    "\n",
    "item = 1\n",
    "\n",
    "for num in list1:\n",
    "    item *= num\n",
    "print(\"The item of all elements in the list is:\", item)"
   ]
  },
  {
   "cell_type": "code",
   "execution_count": 8,
   "id": "aa776442-0bb7-483d-b037-accb0b10dccb",
   "metadata": {},
   "outputs": [
    {
     "name": "stdout",
     "output_type": "stream",
     "text": [
      "2\n",
      "4\n",
      "6\n",
      "8\n",
      "10\n",
      "12\n",
      "14\n",
      "16\n",
      "18\n",
      "20\n"
     ]
    }
   ],
   "source": [
    "#6.Create a Python program that prints all even numbers from 1 to 20 using a for loop.\n",
    "for i in range(1,21):\n",
    "    if i %2 == 0:\n",
    "        print(i)"
   ]
  },
  {
   "cell_type": "code",
   "execution_count": 9,
   "id": "6417a12c-9c6d-4b3d-901d-9c34ec1e6aff",
   "metadata": {},
   "outputs": [
    {
     "name": "stdin",
     "output_type": "stream",
     "text": [
      "Enter a number:  10\n"
     ]
    },
    {
     "name": "stdout",
     "output_type": "stream",
     "text": [
      "The factorial of 10 is 3628800\n"
     ]
    }
   ],
   "source": [
    "#7.Write a Python program that calculates the factorial of a number using a for loop.\n",
    "\n",
    "num = int(input(\"Enter a number: \"))\n",
    "\n",
    "factorial = 1\n",
    "\n",
    "for i in range(1, num + 1): \n",
    "    factorial *= i\n",
    "print(f\"The factorial of {num} is {factorial}\")"
   ]
  },
  {
   "cell_type": "code",
   "execution_count": 10,
   "id": "da4f90dd-c59f-4e2b-a74d-33aa42141c56",
   "metadata": {},
   "outputs": [
    {
     "name": "stdout",
     "output_type": "stream",
     "text": [
      "M\n",
      "y\n",
      " \n",
      "P\n",
      "y\n",
      "t\n",
      "h\n",
      "o\n",
      "n\n"
     ]
    }
   ],
   "source": [
    "#8.How can you iterate through the characters of a string using a for loop in Python?\n",
    "\n",
    "for i in \"My Python\":\n",
    "    print(i)"
   ]
  },
  {
   "cell_type": "code",
   "execution_count": 11,
   "id": "56558379-66aa-402f-abf6-e8ffac3dccb1",
   "metadata": {},
   "outputs": [
    {
     "name": "stdout",
     "output_type": "stream",
     "text": [
      "M\n",
      "y\n",
      " \n",
      "W\n",
      "o\n",
      "r\n",
      "l\n",
      "d\n"
     ]
    }
   ],
   "source": [
    "str = \"My World\"\n",
    "\n",
    "for c in str:\n",
    "    print(c)"
   ]
  },
  {
   "cell_type": "code",
   "execution_count": 12,
   "id": "77818689-ebc8-473e-94ec-d13f2d54d1d7",
   "metadata": {},
   "outputs": [
    {
     "name": "stdout",
     "output_type": "stream",
     "text": [
      "The largest number in the list is: 90\n"
     ]
    }
   ],
   "source": [
    "#9.Write a Python program to find the largest number in a list using a for loop.\n",
    "\n",
    "list2 = [5, 10, 25, 50, 7, 90]\n",
    "\n",
    "largest = list2[0]\n",
    "\n",
    "for num in list2:\n",
    "    if num > largest:\n",
    "        largest = num\n",
    "print(\"The largest number in the list is:\", largest)"
   ]
  },
  {
   "cell_type": "code",
   "execution_count": 13,
   "id": "21141e50-c1de-48df-8480-1e9d5d6433ff",
   "metadata": {},
   "outputs": [
    {
     "name": "stdout",
     "output_type": "stream",
     "text": [
      "5\n",
      "5\n",
      "5\n",
      "5\n",
      "5\n"
     ]
    }
   ],
   "source": [
    "#10.Create a Python program that prints the Fibonacci sequence up to a specified limit using a for loop.\n",
    "\n",
    "fib_num = [0,1,2,3]\n",
    "\n",
    "for i in range(5):\n",
    "    fibonacci = fib_num[-1] + fib_num[-2]\n",
    "    print(fibonacci)"
   ]
  },
  {
   "cell_type": "code",
   "execution_count": 14,
   "id": "b92d4191-2553-439e-80c9-35f8262c2925",
   "metadata": {},
   "outputs": [
    {
     "name": "stdout",
     "output_type": "stream",
     "text": [
      "Number of vowels in the given string is:  5\n"
     ]
    }
   ],
   "source": [
    "#11.Write a Python program to count the number of vowels in a given string using a for loop.\n",
    "\n",
    "str1 = \"Python is amazing\"\n",
    "vowels = [\"a\", \"e\", \"i\", \"o\", \"u\"]\n",
    "count = 0\n",
    "\n",
    "for i in str1:\n",
    "    if i in vowels:\n",
    "        count += 1\n",
    "print(\"Number of vowels in the given string is: \", count)"
   ]
  },
  {
   "cell_type": "code",
   "execution_count": 15,
   "id": "236e417e-2b2e-40bd-b220-3fc5c95d4f15",
   "metadata": {},
   "outputs": [
    {
     "name": "stdin",
     "output_type": "stream",
     "text": [
      "Enter a number:  5\n"
     ]
    },
    {
     "name": "stdout",
     "output_type": "stream",
     "text": [
      "Multiplication Table for 5\n",
      "5 x 1 = 5\n",
      "5 x 2 = 10\n",
      "5 x 3 = 15\n",
      "5 x 4 = 20\n",
      "5 x 5 = 25\n",
      "5 x 6 = 30\n",
      "5 x 7 = 35\n",
      "5 x 8 = 40\n",
      "5 x 9 = 45\n",
      "5 x 10 = 50\n"
     ]
    }
   ],
   "source": [
    "#12.Create a Python program that generates a multiplication table for a given number using a for loop.\n",
    "\n",
    "number = int(input(\"Enter a number: \"))\n",
    "\n",
    "table_range = range(1, 11)\n",
    "\n",
    "\n",
    "print(\"Multiplication Table for\", number)\n",
    "\n",
    "for i in table_range:\n",
    "    result = number * i\n",
    "    print(number, \"x\", i, \"=\", result)\n",
    "\n",
    "    "
   ]
  },
  {
   "cell_type": "code",
   "execution_count": 16,
   "id": "64c10e44-9520-490c-8c01-26732e065a16",
   "metadata": {},
   "outputs": [
    {
     "name": "stdout",
     "output_type": "stream",
     "text": [
      "Cameron Bob Amar "
     ]
    }
   ],
   "source": [
    "#13. Write a Python program to reverse a list using a for loop.\n",
    "\n",
    "\n",
    "list2 = [\"Amar\", \"Bob\", \"Cameron\"]\n",
    "\n",
    "for i in range(len(list2) - 1, -1, -1):\n",
    "    print(list2[i], end= ' ')"
   ]
  },
  {
   "cell_type": "code",
   "execution_count": 17,
   "id": "250c13b2-358c-4749-b0b2-6652b3a47709",
   "metadata": {},
   "outputs": [
    {
     "name": "stdout",
     "output_type": "stream",
     "text": [
      "4 3 2 1 "
     ]
    }
   ],
   "source": [
    "\n",
    "list3 = [\"1\", \"2\", \"3\", \"4\"]\n",
    "\n",
    "for i in range(len(list3) - 1, -1, -1):\n",
    "    print(list3[i], end= ' ')"
   ]
  },
  {
   "cell_type": "code",
   "execution_count": 18,
   "id": "fc0cb368-79c0-4e02-b63d-cd08d3606e66",
   "metadata": {},
   "outputs": [
    {
     "name": "stdout",
     "output_type": "stream",
     "text": [
      "SurajSharma"
     ]
    }
   ],
   "source": [
    "\n",
    "list4 = (\"amrahSjaruS\")\n",
    "\n",
    "for i in range(len(list4) - 1, -1, -1):\n",
    "    print(list4[i], end= '')"
   ]
  },
  {
   "cell_type": "code",
   "execution_count": 19,
   "id": "4bb6ce3d-f788-4622-9fe6-bf04576f20c1",
   "metadata": {},
   "outputs": [
    {
     "name": "stdout",
     "output_type": "stream",
     "text": [
      "Common Elements: [1, 4]\n"
     ]
    }
   ],
   "source": [
    "#14.Write a Python program to find the common elements between two lists using a for loop.\n",
    "\n",
    "\n",
    "list1 = [1,2,3,4,5,6]\n",
    "list2 = [1,9,4,8]\n",
    "\n",
    "common_elements = []\n",
    "\n",
    "for element in list1:\n",
    "    if element in list2:\n",
    "        common_elements.append(element)\n",
    "if common_elements:\n",
    "    print(\"Common Elements:\", common_elements)\n",
    "else:\n",
    "    print(\"There are no common elements between the two lists.\")"
   ]
  },
  {
   "cell_type": "code",
   "execution_count": 20,
   "id": "38976c03-8fa0-4fac-b6fb-e52ffb7ae003",
   "metadata": {},
   "outputs": [],
   "source": [
    "#15.Explain how to use a for loop to iterate through the keys and values of a dictionary in Python.\n",
    "\n",
    "dict={\"raj\":1, \"madhu\":2, \"rahul\":3}\n"
   ]
  },
  {
   "cell_type": "code",
   "execution_count": 21,
   "id": "a2f500e7-5d91-42b1-b991-1a5db6a57262",
   "metadata": {},
   "outputs": [
    {
     "name": "stdout",
     "output_type": "stream",
     "text": [
      "raj 1\n",
      "madhu 2\n",
      "rahul 3\n"
     ]
    }
   ],
   "source": [
    "for key in dict:\n",
    "    print(key,dict[key])"
   ]
  },
  {
   "cell_type": "code",
   "execution_count": 22,
   "id": "0750f263-3c71-41e9-9462-71443e505090",
   "metadata": {},
   "outputs": [
    {
     "name": "stdout",
     "output_type": "stream",
     "text": [
      "2\n"
     ]
    }
   ],
   "source": [
    "#16.Write a Python program to find the GCD (Greatest Common Divisor) of two numbers using a for loop.\n",
    "\n",
    "num1 = 10\n",
    "num2 = 8\n",
    "n = min(num1,num2)\n",
    "\n",
    "gcd = 0\n",
    "for i in range(1,n+1):\n",
    "    if num1%i == 0 and num2%i == 0:\n",
    "        gcd = i\n",
    "        \n",
    "print(gcd)\n",
    "\n",
    "\n",
    "\n"
   ]
  },
  {
   "cell_type": "code",
   "execution_count": 23,
   "id": "db943351-20c9-4ad6-8e0d-3379069dc154",
   "metadata": {},
   "outputs": [
    {
     "name": "stdout",
     "output_type": "stream",
     "text": [
      "GCD of 10 and 8 is: 2\n"
     ]
    }
   ],
   "source": [
    "a = 10\n",
    "b = 8\n",
    "\n",
    "for i in range(1, min(a, b) + 1):\n",
    "    if a % i == 0 and b % i == 0:\n",
    "        GCD = i\n",
    "\n",
    "print(\"GCD of 10 and 8 is:\", GCD)"
   ]
  },
  {
   "cell_type": "code",
   "execution_count": 24,
   "id": "ebd85fdd-996b-4b63-9034-8e0013e800b2",
   "metadata": {},
   "outputs": [
    {
     "name": "stdin",
     "output_type": "stream",
     "text": [
      "Enter Any Sentence:  Hello world\n"
     ]
    },
    {
     "name": "stdout",
     "output_type": "stream",
     "text": [
      "No, it is not a palindrome.\n"
     ]
    }
   ],
   "source": [
    "#17. Create a Python program that checks if a string is a palindrome using a for loop.\n",
    "\n",
    "str2 = input('Enter Any Sentence: ')\n",
    "n = ''\n",
    "\n",
    "for i in str2:\n",
    "    n = i + n\n",
    "\n",
    "if str2 == n:\n",
    "    print('Yes, it is a palindrome.')\n",
    "else:\n",
    "    print('No, it is not a palindrome.')"
   ]
  },
  {
   "cell_type": "code",
   "execution_count": null,
   "id": "4e95ec8b-ea98-4dc9-bd47-ecca6ba2d5f0",
   "metadata": {},
   "outputs": [],
   "source": [
    "#18.Write a Python program to remove duplicates from a list using a for loop.\n",
    "\n",
    "l2 = [0,1,2,3,4,4,5,6,2,22,1,0,3,2]"
   ]
  },
  {
   "cell_type": "code",
   "execution_count": 26,
   "id": "40f9741f-a2d6-4b30-ae85-bbac10a3d1df",
   "metadata": {},
   "outputs": [
    {
     "ename": "AttributeError",
     "evalue": "'list' object has no attribute 'duplicate'",
     "output_type": "error",
     "traceback": [
      "\u001b[0;31m---------------------------------------------------------------------------\u001b[0m",
      "\u001b[0;31mAttributeError\u001b[0m                            Traceback (most recent call last)",
      "Cell \u001b[0;32mIn[26], line 1\u001b[0m\n\u001b[0;32m----> 1\u001b[0m \u001b[43ml2\u001b[49m\u001b[38;5;241;43m.\u001b[39;49m\u001b[43mduplicate\u001b[49m()\n",
      "\u001b[0;31mAttributeError\u001b[0m: 'list' object has no attribute 'duplicate'"
     ]
    }
   ],
   "source": [
    "l2.duplicate()"
   ]
  },
  {
   "cell_type": "code",
   "execution_count": null,
   "id": "aea2fc85-96ea-40aa-88bd-3bb8b3bdc80c",
   "metadata": {},
   "outputs": [],
   "source": [
    "l2"
   ]
  },
  {
   "cell_type": "code",
   "execution_count": null,
   "id": "2bb64173-8f34-4552-89a5-4bc713dee54a",
   "metadata": {},
   "outputs": [],
   "source": [
    "l2 = list(set(l2))\n",
    "print(l2)"
   ]
  },
  {
   "cell_type": "code",
   "execution_count": null,
   "id": "9645036d-100d-4456-ac11-5686726458d3",
   "metadata": {},
   "outputs": [],
   "source": [
    "#19. Create a Python program that counts the number of words in a sentence using a for loop.\n",
    "\n",
    "str = \"World is beautiful\"\n",
    "\n",
    "count = 0\n",
    "\n",
    "i=str.split()\n",
    "\n",
    "for i in i:\n",
    "    count +=1\n",
    "    print(count)"
   ]
  },
  {
   "cell_type": "code",
   "execution_count": null,
   "id": "3f9ac750-0d67-4dcf-92d5-82d45cdab559",
   "metadata": {},
   "outputs": [],
   "source": [
    "#20.Write a Python program to find the sum of all odd numbers from 1 to 50 using a for loop.\n",
    "\n",
    "sum_odd_num = 0\n",
    "for num in range(1,51):\n",
    "    if num %2 !=0:\n",
    "        sum_odd_num += num\n",
    "print(\"The sum of odd numbers from 1 to 50 is:\",sum_odd_num)"
   ]
  },
  {
   "cell_type": "code",
   "execution_count": null,
   "id": "f7459e8b-6141-4a2c-af7b-7f648286566a",
   "metadata": {},
   "outputs": [],
   "source": [
    "#21. Write a Python program that checks if a given year is a leap year using a for loop.\n",
    "\n",
    "\n",
    "year = int(input(\"Enter a year: \"))\n",
    "\n",
    "\n",
    "leap_year = False\n",
    "\n",
    "\n",
    "for _ in range(4):\n",
    "    if year % 4 == 0:\n",
    "        leap_year = True\n",
    "    year += 1\n",
    "\n",
    "if leap_year:\n",
    "    print(year - 1, \"is a leap year.\")\n",
    "else:\n",
    "    print(year - 1, \"is not a leap year.\")\n"
   ]
  },
  {
   "cell_type": "code",
   "execution_count": null,
   "id": "c90f810b-0adc-48ff-af04-18c57eaeddf3",
   "metadata": {},
   "outputs": [],
   "source": [
    "#22.Create a Python program that calculates the square root of a number using a for loop.\n",
    "\n",
    "\n",
    "number = float(input(\"Enter a number: \"))\n",
    "sqr = number / 2\n",
    "i = 10\n",
    "\n",
    "for i in range(i):\n",
    "    sqr = 0.5 * (sqr + number / sqr)\n",
    "\n",
    "print(\"square root of\", number, \"is:\", sqr)"
   ]
  },
  {
   "cell_type": "code",
   "execution_count": null,
   "id": "70b0880c-0b11-43d5-9480-42c2ed2d20f1",
   "metadata": {},
   "outputs": [],
   "source": [
    "#23.Write a Python program to find the LCM (Least Common Multiple) of two numbers using a for loop.\n",
    "\n",
    "\n",
    "\n",
    "num1 = int(input(\"Enter the first number: \"))\n",
    "num2 = int(input(\"Enter the second number: \"))\n",
    "\n",
    "\n",
    "max_num = max(num1, num2)\n",
    "\n",
    "\n",
    "lcm = 0\n",
    "\n",
    "for i in range(max_num, num1 * num2 + 1, max_num):\n",
    "    if i % num1 == 0 and i % num2 == 0:\n",
    "        lcm = i\n",
    "\n",
    "\n",
    "print(\"LCM of\", num1, \"and\", num2, \"is:\", lcm)\n"
   ]
  },
  {
   "cell_type": "code",
   "execution_count": null,
   "id": "9f66ca91-2b40-4d3f-8eb3-9a41d048f77c",
   "metadata": {},
   "outputs": [],
   "source": [
    "#if else"
   ]
  },
  {
   "cell_type": "code",
   "execution_count": null,
   "id": "843d3d70-8f7f-496c-8395-e391fff12db4",
   "metadata": {},
   "outputs": [],
   "source": [
    "#1.Write a Python program to check if a number is positive, negative, or zero using an if-else statement.\n",
    "\n",
    "number = int(input(\"Enter the number\"))\n",
    "             \n",
    "if number < 0:\n",
    "    print(\"its a negative number\")\n",
    "    \n",
    "elif number < 0:\n",
    "    print(\"its a negative number\")\n",
    "else:\n",
    "    print(\"its a zero\")\n",
    "             "
   ]
  },
  {
   "cell_type": "code",
   "execution_count": null,
   "id": "50643454-6346-47d4-a606-97820677a178",
   "metadata": {},
   "outputs": [],
   "source": [
    "#2.Create a Python program that checks if a given number is even or odd using an if-else statement.\n",
    "\n",
    "\n",
    "a = int(input(\"Enter the number\"))\n",
    "\n",
    "if (a %2)==0:\n",
    "    print(\"its an even number\")\n",
    "else:\n",
    "    print(\"its an odd number\")"
   ]
  },
  {
   "cell_type": "code",
   "execution_count": null,
   "id": "bca07118-a697-4f39-86a3-75d58fa4b0c9",
   "metadata": {},
   "outputs": [],
   "source": [
    "#3.How can you use nested if-else statements in Python, and provide an example?\n",
    "\n",
    "\n",
    "#if we use condition inside the condition is called nested if else statements\n",
    "\n",
    "score = int(input(\"enter the marks\"))\n",
    "\n",
    "if (score>=40):\n",
    "    if score == 40:\n",
    "        print(\"student is passed\")\n",
    "        if score > 70:\n",
    "            print(\"student has got distinction\")\n",
    "    else:\n",
    "        print(\"student has got average\")\n",
    "else:\n",
    "    print(\"student is failed\")"
   ]
  },
  {
   "cell_type": "code",
   "execution_count": null,
   "id": "cbf280c4-684a-4e75-87bc-b7f4c6fec15e",
   "metadata": {
    "tags": []
   },
   "outputs": [],
   "source": [
    "#4.Write a Python program to determine the largest of three numbers using if-else.\n",
    "\n",
    "num1=10\n",
    "num2=20\n",
    "num3=50\n",
    "\n",
    "if (num1>=num2) and (num1>=num3):\n",
    "    largest=num1\n",
    "    print(\"largest number is\", largest)\n",
    "elif (num2>=num1) and (num2>=num3):\n",
    "    largest=num2\n",
    "    print(\"largest number is\", largest)\n",
    "else:\n",
    "    largest=num3\n",
    "    print(\"largest number is\", largest)\n"
   ]
  },
  {
   "cell_type": "code",
   "execution_count": null,
   "id": "cdd916b6-d9aa-47ca-b1d8-b0f8c45558b8",
   "metadata": {
    "tags": []
   },
   "outputs": [],
   "source": [
    "#5.Write a Python program that calculates the absolute value of a number using if-else.\n",
    "\n",
    "number = float(input(\"Enter a number: \"))\n",
    "if number < 0:\n",
    "    absolute_value = -number\n",
    "else:\n",
    "    absolute_value = number\n",
    "print(\"Absolute value of given number is: \" + str(absolute_value))"
   ]
  },
  {
   "cell_type": "code",
   "execution_count": null,
   "id": "32c28f96-744d-4fd0-a82a-bf6b5b37443a",
   "metadata": {},
   "outputs": [],
   "source": [
    "#6.Create a Python program that checks if a given character is a vowel or consonant using if-else.\n",
    "\n",
    "\n",
    "ch = input(\"Enter the Character = \")\n",
    "txt = \"AEIOUaeiou\"\n",
    "\n",
    "if ch in txt:\n",
    "    print('It is a Vowel')\n",
    "else:\n",
    "    print('It is Consonant')"
   ]
  },
  {
   "cell_type": "code",
   "execution_count": null,
   "id": "d5aad372-1101-4d3e-9b39-79b23800a7e0",
   "metadata": {},
   "outputs": [],
   "source": [
    "#7.Write a Python program to determine if a user is eligible to vote based on their age using if-else\n",
    "\n",
    "age = int(input(\"Enter the age\"))\n",
    "\n",
    "if (age>=18):\n",
    "    print(\"eligible for vote\")\n",
    "else:\n",
    "    print(\"not eligible for vote\")\n",
    "          "
   ]
  },
  {
   "cell_type": "code",
   "execution_count": null,
   "id": "e82b55a1-5a1a-4ba9-8ba4-7111509f25b1",
   "metadata": {},
   "outputs": [],
   "source": [
    "#8.Create a Python program that calculates the discount amount based on the purchase amount using if-else.\n",
    "amount = int(input(\"Enter sales price\"))\n",
    "\n",
    "if (amount>250):\n",
    "    if amount<=1000:\n",
    "        discount = amount*0.10\n",
    "    elif amount<=2000:\n",
    "        discount = amount*0.20\n",
    "    print(\"your discount is : \", discount)\n",
    "    print(\"Total bill : \", amount-discount)\n",
    "else:\n",
    "    print(\"there is no no discount for this purchase\")\n"
   ]
  },
  {
   "cell_type": "code",
   "execution_count": 33,
   "id": "3b0f8a9b-464d-43c4-9c1d-5d9a78186cd4",
   "metadata": {},
   "outputs": [
    {
     "name": "stdin",
     "output_type": "stream",
     "text": [
      "Enter a number:  10\n"
     ]
    },
    {
     "name": "stdout",
     "output_type": "stream",
     "text": [
      "The number is outside the given range.\n"
     ]
    }
   ],
   "source": [
    "#9.Write a Python program to check if a number is within a specified range using if-else.\n",
    "\n",
    "n = int(input(\"Enter a number: \"))\n",
    "\n",
    "# Check if the number is within the specified range\n",
    "if n in range(3, 9):\n",
    "    print(\"it is in the range\",  str(n))\n",
    "else:\n",
    "    print(\"The number is outside the given range.\")\n"
   ]
  },
  {
   "cell_type": "code",
   "execution_count": 35,
   "id": "6ee57dd3-d042-4c5a-a28f-7001b632050d",
   "metadata": {},
   "outputs": [
    {
     "name": "stdout",
     "output_type": "stream",
     "text": [
      "your grade is C\n"
     ]
    }
   ],
   "source": [
    "#10.Create a Python program that determines the grade of a student based on their score using if-else.\n",
    "\n",
    "\n",
    "score=70\n",
    "\n",
    "if score >= 85:\n",
    "    print(\"your grade is A\")\n",
    "elif score >=75:\n",
    "    print(\"your grade is B\")\n",
    "else:\n",
    "    print(\"your grade is C\")"
   ]
  },
  {
   "cell_type": "code",
   "execution_count": 37,
   "id": "481317d8-473a-4f71-9c2c-5579a9a13159",
   "metadata": {},
   "outputs": [
    {
     "name": "stdin",
     "output_type": "stream",
     "text": [
      "Enter a string:  \n"
     ]
    },
    {
     "name": "stdout",
     "output_type": "stream",
     "text": [
      "The string is empty.\n"
     ]
    }
   ],
   "source": [
    "#11.Write a Python program to check if a string is empty or not using if-else.\n",
    "\n",
    "\n",
    "string = input(\"Enter a string: \")\n",
    "\n",
    "\n",
    "if len(string) == 0:\n",
    "    print(\"The string is empty.\")\n",
    "else:\n",
    "    print(\"The string is not empty.\")"
   ]
  },
  {
   "cell_type": "code",
   "execution_count": 39,
   "id": "983be9ef-866c-4e6f-8ff2-92fe0a1fefba",
   "metadata": {},
   "outputs": [
    {
     "name": "stdin",
     "output_type": "stream",
     "text": [
      "Enter the length of side 1:  24\n",
      "Enter the length of side 2:  24\n",
      "Enter the length of side 3:  12\n"
     ]
    },
    {
     "name": "stdout",
     "output_type": "stream",
     "text": [
      "This is an isosceles triangle.\n"
     ]
    }
   ],
   "source": [
    "#12.Create a Python program that identifies the type of a triangle (e.g., equilateral, isosceles, or scalene) based on input values using if-else.\n",
    "\n",
    "side1 = int(input(\"Enter the length of side 1: \"))\n",
    "side2 = int(input(\"Enter the length of side 2: \"))\n",
    "side3 = int(input(\"Enter the length of side 3: \"))\n",
    "\n",
    "\n",
    "if side1 == side2 == side3:\n",
    "    print(\"This is an equilateral triangle.\")\n",
    "elif side1 == side2 or side1 == side3 or side2 == side3:\n",
    "    print(\"This is an isosceles triangle.\")\n",
    "else:\n",
    "    print(\"This is a scalene triangle.\")\n"
   ]
  },
  {
   "cell_type": "code",
   "execution_count": 44,
   "id": "4a79f0b7-31fe-40c3-9d97-e915a01a17e4",
   "metadata": {},
   "outputs": [
    {
     "name": "stdin",
     "output_type": "stream",
     "text": [
      "please enter the day of the week 0\n"
     ]
    },
    {
     "name": "stdout",
     "output_type": "stream",
     "text": [
      "Invalid entry\n"
     ]
    }
   ],
   "source": [
    "#13.Write a Python program to determine the day of the week based on a user-provided number using if-else.\n",
    "\n",
    "day = int(input(\"please enter the day of the week\"))\n",
    "\n",
    "if day ==1:\n",
    "    print(\"Monday\")\n",
    "elif day == 2:\n",
    "    print(\"Tuesday\")\n",
    "elif day == 3:\n",
    "    print(\"Wednesday\")\n",
    "elif day == 4:\n",
    "    print(\"Thursday\")\n",
    "elif day == 5:\n",
    "    print(\"Friday\")\n",
    "elif day == 6:\n",
    "    print(\"Saturday\")\n",
    "elif day == 7:\n",
    "    print(\"Sunday\")\n",
    "else:\n",
    "    print(\"Invalid entry\")"
   ]
  },
  {
   "cell_type": "code",
   "execution_count": 46,
   "id": "cb42c9e9-f012-48aa-b502-a4f8f9825de3",
   "metadata": {},
   "outputs": [
    {
     "name": "stdin",
     "output_type": "stream",
     "text": [
      "Enter year :  2000\n"
     ]
    },
    {
     "name": "stdout",
     "output_type": "stream",
     "text": [
      "2000 is a leap year.\n"
     ]
    }
   ],
   "source": [
    "#14.Create a Python program that checks if a given year is a leap year using both if-else and a function\n",
    "\n",
    "year = int(input('Enter year : '))\n",
    "\n",
    "if (year%4 == 0 and year%100 != 0) or (year%400 == 0) :\n",
    "    print(year, \"is a leap year.\")\n",
    "else :\n",
    "    print(year, \"is not a leap year.\")"
   ]
  },
  {
   "cell_type": "code",
   "execution_count": 3,
   "id": "ace26dd0-da2e-4c84-8c28-6556587af954",
   "metadata": {},
   "outputs": [
    {
     "name": "stdout",
     "output_type": "stream",
     "text": [
      "Denominator is zero, cannot divide.\n"
     ]
    }
   ],
   "source": [
    "#15.How do you use the \"assert\" statement in Python to add debugging checks within if-else blocks?\n",
    "\n",
    "\n",
    "#In Python, the assert statement is used to add debugging checks within your code to verify that certain conditions are met. It's often used during development and testing to catch potential issues early. If the condition specified in the assert statement evaluates to False, it raises an AssertionError exception, which can help you quickly identify and debug problems in your code.\n",
    "\n",
    "\n",
    "def divide(a, b):\n",
    "    assert b != 0, \"Division by zero is not allowed\"\n",
    "    return a / b\n",
    "\n",
    "numerator = 10\n",
    "denominator = 0\n",
    "\n",
    "if denominator != 0:\n",
    "    result = divide(numerator, denominator)\n",
    "    # No need to print the result here\n",
    "else:\n",
    "    print(\"Denominator is zero, cannot divide.\")"
   ]
  },
  {
   "cell_type": "code",
   "execution_count": 6,
   "id": "b4661ec4-dcd0-46e8-b9d7-9ed338f27309",
   "metadata": {},
   "outputs": [
    {
     "name": "stdout",
     "output_type": "stream",
     "text": [
      "List is empty, nothing to process.\n"
     ]
    }
   ],
   "source": [
    "def process_data(data):\n",
    "    assert len(data) > 0, \"Data should not be empty\"\n",
    "    return data\n",
    "\n",
    "my_list = []\n",
    "\n",
    "if my_list:\n",
    "    processed_data = process_data(my_list)\n",
    "    \n",
    "else:\n",
    "    print(\"List is empty, nothing to process.\")"
   ]
  },
  {
   "cell_type": "code",
   "execution_count": 56,
   "id": "5d59bf57-b2e7-4104-a55a-072427d651e7",
   "metadata": {},
   "outputs": [
    {
     "name": "stdin",
     "output_type": "stream",
     "text": [
      "Enter your age 63\n"
     ]
    },
    {
     "name": "stdout",
     "output_type": "stream",
     "text": [
      "you are eligible for discount\n"
     ]
    }
   ],
   "source": [
    "#16.Create a Python program that determines the eligibility of a person for a senior citizen discount based on age using if-else.\n",
    "\n",
    "\n",
    "user_age = int(input(\"Enter your age\"))\n",
    "\n",
    "if (user_age>=60):\n",
    "    print(\"you are eligible for discount\")\n",
    "else:\n",
    "    print(\"you are not eligible for discount\")"
   ]
  },
  {
   "cell_type": "code",
   "execution_count": 57,
   "id": "07227127-b27b-4ce2-90a2-c125866ed4e6",
   "metadata": {},
   "outputs": [
    {
     "name": "stdin",
     "output_type": "stream",
     "text": [
      "Enter a character:  T\n"
     ]
    },
    {
     "name": "stdout",
     "output_type": "stream",
     "text": [
      "it is an uppercase character.\n"
     ]
    }
   ],
   "source": [
    "#17.Write a Python program to categorize a given character as ch = input(\"Please Enter Your Own Character : \")\n",
    "\n",
    "ch = input(\"Enter a character: \")\n",
    "\n",
    "\n",
    "if ch.isupper():\n",
    "    print(\"it is an uppercase character.\")\n",
    "\n",
    "elif ch.islower():\n",
    "    print(\"it is a lowercase character.\")\n",
    "\n",
    "else:\n",
    "    print(\"it is neither uppercase nor lowercase.\")"
   ]
  },
  {
   "cell_type": "code",
   "execution_count": 1,
   "id": "c7ddd687-0ed9-4725-b279-fff7a9222dec",
   "metadata": {},
   "outputs": [
    {
     "name": "stdin",
     "output_type": "stream",
     "text": [
      "Enter the number 'a':  4\n",
      "Enter the number 'b':  4\n",
      "Enter the number 'c':  4\n"
     ]
    },
    {
     "name": "stdout",
     "output_type": "stream",
     "text": [
      "Root 1: -0.5 + 0.8660254037844386i\n",
      "Root 2: -0.5 - 0.8660254037844386i\n"
     ]
    }
   ],
   "source": [
    "#18.Write a Python program to determine the roots of a quadratic equation using if-else.\n",
    "import math\n",
    "\n",
    "a = float(input(\"Enter the number 'a': \"))\n",
    "b = float(input(\"Enter the number 'b': \"))\n",
    "c = float(input(\"Enter the number 'c': \"))\n",
    "\n",
    "\n",
    "discriminant = b**2 - 4*a*c\n",
    "\n",
    "roots = (\n",
    "    (f\"Root 1: {(-b + math.sqrt(discriminant)) / (2*a)}\\nRoot 2: {(-b - math.sqrt(discriminant)) / (2*a)}\")\n",
    "    if discriminant > 0\n",
    "    else (f\"Root: {-b / (2*a)}\" if discriminant == 0 else f\"Root 1: {(-b / (2*a))} + {math.sqrt(-discriminant) / (2*a)}i\\nRoot 2: {(-b / (2*a))} - {math.sqrt(-discriminant) / (2*a)}i\")\n",
    ")\n",
    "\n",
    "print(roots)\n"
   ]
  },
  {
   "cell_type": "code",
   "execution_count": 2,
   "id": "8c7fb89b-7f84-4e32-a38e-db2f5322215a",
   "metadata": {},
   "outputs": [
    {
     "name": "stdin",
     "output_type": "stream",
     "text": [
      "Enter a year:  1900\n"
     ]
    },
    {
     "name": "stdout",
     "output_type": "stream",
     "text": [
      "It is a century year.\n"
     ]
    }
   ],
   "source": [
    "#19.Create a Python program that checks if a given year is a century year or not using if-else\n",
    "\n",
    "\n",
    "year = int(input(\"Enter a year: \"))\n",
    "\n",
    "if year % 100 == 0:\n",
    "    print(\"It is a century year.\")\n",
    "else:\n",
    "    print(\"It is not a century year.\")"
   ]
  },
  {
   "cell_type": "code",
   "execution_count": 4,
   "id": "0d2e20a2-9a9f-4918-a615-986afd406bce",
   "metadata": {},
   "outputs": [
    {
     "name": "stdin",
     "output_type": "stream",
     "text": [
      "Enter a number:  9\n"
     ]
    },
    {
     "name": "stdout",
     "output_type": "stream",
     "text": [
      "Its a perfect square.\n"
     ]
    }
   ],
   "source": [
    "#20.Write a Python program to determine if a given number is a perfect square using if-else.\n",
    "\n",
    "num = int(input(\"Enter a number: \"))\n",
    "\n",
    "\n",
    "sqrt_num = int(num ** 0.5)\n",
    "\n",
    "\n",
    "if sqrt_num * sqrt_num == num:\n",
    "    print(\"Its a perfect square.\")\n",
    "else:\n",
    "    print(\"Its not a perfect square.\")"
   ]
  },
  {
   "cell_type": "code",
   "execution_count": 5,
   "id": "500d282a-8464-47c7-b49b-c6f79bcacd1d",
   "metadata": {},
   "outputs": [],
   "source": [
    "#21.Explain the purpose of the \"continue\" and \"break\" statements within if-else loops.\n",
    "\n",
    "#COntinue is used for continuation of the the loop. \n",
    "#Break is used for breaking from the loop.\n"
   ]
  },
  {
   "cell_type": "code",
   "execution_count": 13,
   "id": "92f4efeb-a080-44b6-9b12-0de11282375f",
   "metadata": {},
   "outputs": [
    {
     "name": "stdout",
     "output_type": "stream",
     "text": [
      "The BMI is 31.7\n",
      "Health status = Suffering from Obesity\n"
     ]
    }
   ],
   "source": [
    "#22.Create a Python program that calculates the BMI (Body Mass Index) of a person based on their weight and height using if-else.\n",
    "\n",
    "height = 1.82\n",
    "weight = 105\n",
    "bmi = round(weight/(height**2),1)\n",
    "print(\"The BMI is\", bmi)\n",
    "print(\"Health status = \",end=\"\")\n",
    "if (bmi < 18.5):\n",
    "    print(\"Underweight\") \n",
    "elif ( bmi >= 18.5 and bmi < 24.9): \n",
    "    print(\"Healthy\") \n",
    "elif ( bmi >= 24.9 and bmi < 30): \n",
    "    print(\"Overweight\") \n",
    "elif ( bmi >=30): \n",
    "    print(\"Suffering from Obesity\")"
   ]
  },
  {
   "cell_type": "code",
   "execution_count": 3,
   "id": "81993b64-1316-4201-8d70-b8852cdb7a47",
   "metadata": {},
   "outputs": [
    {
     "name": "stdout",
     "output_type": "stream",
     "text": [
      "[2, 4, 6, 8, 10]\n"
     ]
    }
   ],
   "source": [
    "#23.How can you use the \"filter()\" function with if-else statements to filter elements from a list?\n",
    "\n",
    "\n",
    "# Create a list of numbers\n",
    "numbers = [1, 2, 3, 4, 5, 6, 7, 8, 9, 10]\n",
    "\n",
    "# Use a list comprehension to filter the list without using lambda or separate functions\n",
    "Even_numbers = [x for x in numbers if x % 2 == 0]\n",
    "\n",
    "# Print the even numbers\n",
    "print(Even_numbers)"
   ]
  },
  {
   "cell_type": "code",
   "execution_count": 4,
   "id": "b8f263ed-9434-494c-8afd-69773f966c28",
   "metadata": {},
   "outputs": [
    {
     "name": "stdout",
     "output_type": "stream",
     "text": [
      "[1, 3, 5, 7, 9]\n"
     ]
    }
   ],
   "source": [
    "# Create a list of numbers anf filter odd numbers\n",
    "numbers = [1, 2, 3, 4, 5, 6, 7, 8, 9, 10]\n",
    "\n",
    "# Use the filter() function with conditional logic to select odd numbers\n",
    "odd_numbers = list(filter(None, [x if x % 2 != 0 else None for x in numbers]))\n",
    "\n",
    "# Print the filtered result (odd numbers)\n",
    "print(list(odd_numbers))"
   ]
  },
  {
   "cell_type": "code",
   "execution_count": 5,
   "id": "f7e7b80a-9430-4202-b71f-30d5142c8490",
   "metadata": {},
   "outputs": [
    {
     "name": "stdout",
     "output_type": "stream",
     "text": [
      "[1, 3, 5, 7, 9]\n"
     ]
    }
   ],
   "source": [
    "# Create a list of numbers\n",
    "numbers = [1, 2, 3, 4, 5, 6, 7, 8, 9, 10]\n",
    "\n",
    "# Use the filter() function with conditional logic to select odd numbers\n",
    "filtered_numbers = list(filter(lambda x: x % 2 != 0, numbers))\n",
    "\n",
    "# Print the filtered result (odd numbers)\n",
    "print(list(filtered_numbers))"
   ]
  },
  {
   "cell_type": "code",
   "execution_count": 16,
   "id": "e82e6664-6347-4807-a1a8-bbbfe10628a5",
   "metadata": {},
   "outputs": [
    {
     "name": "stdout",
     "output_type": "stream",
     "text": [
      "40 is not a prime number\n",
      "40 is not a prime number\n",
      "40 is not a prime number\n",
      "40 is not a prime number\n",
      "40 is not a prime number\n",
      "40 is not a prime number\n",
      "40 is a prime number\n"
     ]
    }
   ],
   "source": [
    "#24.Write a Python program to determine if a given number is prime or not using if-else.\n",
    "\n",
    "num = 40\n",
    "\n",
    "if num > 1:\n",
    "   \n",
    "    for i in range(2, int(num/2)+1):\n",
    "       \n",
    "        if (num % i) == 0:\n",
    "            print(num, \"is not a prime number\")\n",
    "    else:\n",
    "        print(num, \"is a prime number\")"
   ]
  },
  {
   "cell_type": "code",
   "execution_count": null,
   "id": "36e43cf0-6cc0-4bab-91bc-9755e7ec3222",
   "metadata": {},
   "outputs": [],
   "source": [
    "#Map\n",
    "\n"
   ]
  },
  {
   "cell_type": "code",
   "execution_count": 2,
   "id": "a1418972-6e49-4e4b-a005-5e9876bb1d9f",
   "metadata": {},
   "outputs": [],
   "source": [
    "#1. Map function used to execute function for every element of iterables in the list\n",
    "\n",
    "l2 = [1,2,3,4,5]"
   ]
  },
  {
   "cell_type": "code",
   "execution_count": 3,
   "id": "06533308-d516-4e7e-ad5e-20ed617c2a06",
   "metadata": {},
   "outputs": [
    {
     "data": {
      "text/plain": [
       "[1, 2, 3, 4, 5]"
      ]
     },
     "execution_count": 3,
     "metadata": {},
     "output_type": "execute_result"
    }
   ],
   "source": [
    "l2"
   ]
  },
  {
   "cell_type": "code",
   "execution_count": 11,
   "id": "596633b3-6c9f-465c-8142-5934cf757863",
   "metadata": {},
   "outputs": [],
   "source": [
    "def add1(b):\n",
    "    return b+3"
   ]
  },
  {
   "cell_type": "code",
   "execution_count": 12,
   "id": "a863e56f-5ccf-434c-acf5-e5e6c8c55500",
   "metadata": {},
   "outputs": [
    {
     "data": {
      "text/plain": [
       "[4, 5, 6, 7, 8]"
      ]
     },
     "execution_count": 12,
     "metadata": {},
     "output_type": "execute_result"
    }
   ],
   "source": [
    "list(map(add1, l2))"
   ]
  },
  {
   "cell_type": "code",
   "execution_count": 22,
   "id": "66ee021c-dafe-4a1e-91aa-a7e71435baf6",
   "metadata": {},
   "outputs": [],
   "source": [
    "#2Write a Python program that uses the `map()` function to square each element of a list of numbers.\n",
    "\n",
    "\n",
    "def square(c):\n",
    "    return c**2"
   ]
  },
  {
   "cell_type": "code",
   "execution_count": 25,
   "id": "53eb8594-4c78-48de-8969-b4080f3e300b",
   "metadata": {},
   "outputs": [
    {
     "data": {
      "text/plain": [
       "[1, 4, 9, 16, 25]"
      ]
     },
     "execution_count": 25,
     "metadata": {},
     "output_type": "execute_result"
    }
   ],
   "source": [
    "list(map(square, l2))"
   ]
  },
  {
   "cell_type": "code",
   "execution_count": 26,
   "id": "3e2cd549-f8ea-40ec-903d-f96a1d270d44",
   "metadata": {},
   "outputs": [],
   "source": [
    "#3.How does the `map()` function differ from a list comprehension in Python, and when would you choose one over the other?\n",
    "#The map() function is used to apply to get iterable object , while list comprehensions provide an easiest way to generate a new list by specifying the operation"
   ]
  },
  {
   "cell_type": "code",
   "execution_count": null,
   "id": "bacd5599-afbe-4467-af82-d9d60accfafb",
   "metadata": {},
   "outputs": [],
   "source": [
    "#4.Create a Python program that uses the `map()` function to convert a list of names to uppercase."
   ]
  },
  {
   "cell_type": "code",
   "execution_count": 12,
   "id": "6d7bba25-cde7-4a6d-9d30-8f389bf06fe8",
   "metadata": {},
   "outputs": [],
   "source": [
    "l3 = [\"suraj\", \"sharma\", \"pwskills\"]"
   ]
  },
  {
   "cell_type": "code",
   "execution_count": 13,
   "id": "bc424898-bc4a-4f14-bef3-15c027bcc115",
   "metadata": {},
   "outputs": [
    {
     "data": {
      "text/plain": [
       "['suraj', 'sharma', 'pwskills']"
      ]
     },
     "execution_count": 13,
     "metadata": {},
     "output_type": "execute_result"
    }
   ],
   "source": [
    " l3"
   ]
  },
  {
   "cell_type": "code",
   "execution_count": 22,
   "id": "8676040a-649e-4971-9bad-f4bf33dd5b16",
   "metadata": {},
   "outputs": [],
   "source": [
    "def uppercase1(s):\n",
    "    return s.upper()\n",
    "\n",
    "l3 = [\"suraj\", \"sharma\", \"pwskills\"]"
   ]
  },
  {
   "cell_type": "code",
   "execution_count": 23,
   "id": "9ba0149d-2d9c-4136-9dd0-25710dfd32d7",
   "metadata": {},
   "outputs": [
    {
     "data": {
      "text/plain": [
       "['suraj', 'sharma', 'pwskills']"
      ]
     },
     "execution_count": 23,
     "metadata": {},
     "output_type": "execute_result"
    }
   ],
   "source": [
    "l3"
   ]
  },
  {
   "cell_type": "code",
   "execution_count": 44,
   "id": "e9a27b24-f542-4501-95fb-9c39d1b4129c",
   "metadata": {},
   "outputs": [
    {
     "data": {
      "text/plain": [
       "['SURAJ', 'SHARMA', 'PWSKILLS']"
      ]
     },
     "execution_count": 44,
     "metadata": {},
     "output_type": "execute_result"
    }
   ],
   "source": [
    "list(map(uppercase1, l3))\n"
   ]
  },
  {
   "cell_type": "code",
   "execution_count": 26,
   "id": "67956741-321c-42ea-ab3a-6a329d08ac97",
   "metadata": {},
   "outputs": [],
   "source": [
    "#5.Write a Python program that uses the `map()` function to calculate the length of each word in a list of strings.\n"
   ]
  },
  {
   "cell_type": "code",
   "execution_count": 27,
   "id": "ebaf3de3-07cd-46b1-b1f3-1b236b36ae90",
   "metadata": {},
   "outputs": [],
   "source": [
    "def test1(a):\n",
    "    return len(a)"
   ]
  },
  {
   "cell_type": "code",
   "execution_count": 28,
   "id": "01013b7f-b77c-4740-93c0-189accce232c",
   "metadata": {},
   "outputs": [
    {
     "data": {
      "text/plain": [
       "[5, 6, 8]"
      ]
     },
     "execution_count": 28,
     "metadata": {},
     "output_type": "execute_result"
    }
   ],
   "source": [
    "list(map(test1, l3))"
   ]
  },
  {
   "cell_type": "code",
   "execution_count": 2,
   "id": "4257b2f8-50ba-4643-ab62-90c415bb5b81",
   "metadata": {},
   "outputs": [
    {
     "name": "stdout",
     "output_type": "stream",
     "text": [
      "[5, 7, 9]\n"
     ]
    }
   ],
   "source": [
    "#6.How can you use the `map()` function to apply a custom function to elements of multiple lists simultaneously in Python\n",
    "\n",
    "\n",
    "def add_elements(x, y):\n",
    "    return x + y\n",
    "\n",
    "# Input lists\n",
    "list1 = [1, 2, 3]\n",
    "list2 = [4, 5, 6]\n",
    "\n",
    "# Use map to apply the custom function to elements of both lists\n",
    "result = list(map(add_elements, list1, list2))\n",
    "\n",
    "# Print the result\n",
    "print(result)"
   ]
  },
  {
   "cell_type": "code",
   "execution_count": 30,
   "id": "9724f587-789b-4f62-9a28-a948ae24477d",
   "metadata": {},
   "outputs": [],
   "source": [
    "#7.Create a Python program that uses `map()` to convert a list of temperatures from Celsius to Fahrenheit"
   ]
  },
  {
   "cell_type": "code",
   "execution_count": 39,
   "id": "7dec478d-58a0-44aa-8f0d-840242470a82",
   "metadata": {},
   "outputs": [
    {
     "data": {
      "text/plain": [
       "[68.0, 86.0, 59.0, 95.0]"
      ]
     },
     "execution_count": 39,
     "metadata": {},
     "output_type": "execute_result"
    }
   ],
   "source": [
    "def convert_c_f(celsius):\n",
    "    return(celsius*9/5) + 32\n",
    "\n",
    "temp = [20.0, 30.0, 15.0,35.0]\n",
    "\n",
    "list(map(convert_c_f, temp))"
   ]
  },
  {
   "cell_type": "code",
   "execution_count": 40,
   "id": "1a9bbb07-b942-4e49-a950-384078abcd98",
   "metadata": {},
   "outputs": [],
   "source": [
    "#8.Write a Python program that uses the `map()` function to round each element of a list of floating-point numbers to the nearest integer.\n"
   ]
  },
  {
   "cell_type": "code",
   "execution_count": 43,
   "id": "23c82ae5-697d-419a-a58c-e0f176cada12",
   "metadata": {},
   "outputs": [
    {
     "data": {
      "text/plain": [
       "[1, 4, 6, 7]"
      ]
     },
     "execution_count": 43,
     "metadata": {},
     "output_type": "execute_result"
    }
   ],
   "source": [
    "def round_int(n):\n",
    "    return round(n)\n",
    "\n",
    "nums = [ 1.3, 3.6, 5.8, 7.1]\n",
    "\n",
    "list(map(round_int, nums))"
   ]
  },
  {
   "cell_type": "code",
   "execution_count": null,
   "id": "ed890c46-7023-43ae-89c7-fcbc1be56370",
   "metadata": {},
   "outputs": [],
   "source": [
    "#reduce\n",
    "\n",
    "#1.What is the `reduce()` function in Python, and what module should you import to use it? Provide an example of its basic usage.\n"
   ]
  },
  {
   "cell_type": "code",
   "execution_count": null,
   "id": "5e7ab444-e6d3-4032-a06b-866fcb768157",
   "metadata": {},
   "outputs": [],
   "source": [
    "#When you wish to get one element as output, you can use reduce function and from functools import reduce module shluld be used to import\n",
    "\n",
    "#below function calculate sum of number from 1 to 5 = 15 using reduce function"
   ]
  },
  {
   "cell_type": "code",
   "execution_count": 6,
   "id": "3fbcf7cf-935a-4425-adc6-423411995676",
   "metadata": {},
   "outputs": [],
   "source": [
    "from functools import reduce\n",
    "\n",
    "n = 5\n",
    "\n",
    "def add1(a,b):\n",
    "    return a+b"
   ]
  },
  {
   "cell_type": "code",
   "execution_count": 8,
   "id": "ff6de53e-4255-4fc9-ae58-d09fae57c777",
   "metadata": {},
   "outputs": [],
   "source": [
    "addition = reduce(add1, range(1, n+1))"
   ]
  },
  {
   "cell_type": "code",
   "execution_count": 9,
   "id": "83bc62c5-866e-45c8-a020-eca05e3bff4f",
   "metadata": {},
   "outputs": [
    {
     "data": {
      "text/plain": [
       "15"
      ]
     },
     "execution_count": 9,
     "metadata": {},
     "output_type": "execute_result"
    }
   ],
   "source": [
    "addition"
   ]
  },
  {
   "cell_type": "code",
   "execution_count": 10,
   "id": "1064f659-c744-487a-8930-8a3d247d9112",
   "metadata": {},
   "outputs": [],
   "source": [
    "#2.Write a Python program that uses the `reduce()` function to find the product of all elements in a list.\n"
   ]
  },
  {
   "cell_type": "code",
   "execution_count": 16,
   "id": "f8b8faea-15c0-4435-be46-e8313f2e7dbb",
   "metadata": {},
   "outputs": [
    {
     "data": {
      "text/plain": [
       "120"
      ]
     },
     "execution_count": 16,
     "metadata": {},
     "output_type": "execute_result"
    }
   ],
   "source": [
    "from functools import reduce\n",
    "\n",
    "x = [2, 3, 4, 5]\n",
    "\n",
    "def multi(a,b):\n",
    "    return a*b\n",
    "\n",
    "reduce(multi, x)"
   ]
  },
  {
   "cell_type": "code",
   "execution_count": 17,
   "id": "aedbf8b6-d1da-4028-ad67-04b80e66aeee",
   "metadata": {},
   "outputs": [],
   "source": [
    "#3.Create a Python program that uses `reduce()` to find the maximum element in a list of numbers.\n"
   ]
  },
  {
   "cell_type": "code",
   "execution_count": 24,
   "id": "1bbb688e-fe7a-43fe-a7a3-dbb1204ce0b6",
   "metadata": {},
   "outputs": [],
   "source": [
    "l4 = [2,3,5,4,1]"
   ]
  },
  {
   "cell_type": "code",
   "execution_count": 25,
   "id": "124f470e-6f4f-444b-bcfd-081eb806f0bb",
   "metadata": {},
   "outputs": [
    {
     "data": {
      "text/plain": [
       "[2, 3, 5, 4, 1]"
      ]
     },
     "execution_count": 25,
     "metadata": {},
     "output_type": "execute_result"
    }
   ],
   "source": [
    "l4"
   ]
  },
  {
   "cell_type": "code",
   "execution_count": 27,
   "id": "f0781986-df78-4f31-9caa-81c3dc53c380",
   "metadata": {},
   "outputs": [],
   "source": [
    "from functools import reduce\n",
    "\n",
    "l4 = [2,3,5,6,1]\n",
    "\n",
    "def find_max(a, b):\n",
    "    return a if a > b else b\n",
    "\n",
    "max_number = reduce(find_max, x)"
   ]
  },
  {
   "cell_type": "code",
   "execution_count": 28,
   "id": "d94cf6ee-0f12-4d4c-935e-9998436a61f5",
   "metadata": {},
   "outputs": [
    {
     "data": {
      "text/plain": [
       "5"
      ]
     },
     "execution_count": 28,
     "metadata": {},
     "output_type": "execute_result"
    }
   ],
   "source": [
    "max_number"
   ]
  },
  {
   "cell_type": "code",
   "execution_count": 29,
   "id": "fd8b6328-973f-472a-8659-74ef7ae8dd17",
   "metadata": {},
   "outputs": [],
   "source": [
    "#4.How can you use the `reduce()` function to concatenate a list of strings into a single string?\n"
   ]
  },
  {
   "cell_type": "code",
   "execution_count": 34,
   "id": "2a90d578-7030-4b31-a00d-b201ffe20fb0",
   "metadata": {},
   "outputs": [
    {
     "data": {
      "text/plain": [
       "'Hello, everyone!I am here'"
      ]
     },
     "execution_count": 34,
     "metadata": {},
     "output_type": "execute_result"
    }
   ],
   "source": [
    "from functools import reduce\n",
    "\n",
    "# Define a function to concatenate two strings\n",
    "def c_s(a, b):\n",
    "    return a + b\n",
    "\n",
    "# Define a list of strings\n",
    "st = [\"Hello\", \", \", \"everyone\", \"!\", \"I\", \" am\", \" here\"]\n",
    "\n",
    "# Use reduce to concatenate the list of strings into a single string\n",
    "reduce(c_s, st)\n",
    "\n"
   ]
  },
  {
   "cell_type": "code",
   "execution_count": 35,
   "id": "7e7d654e-aa96-4a24-8442-d09a5bbef84e",
   "metadata": {},
   "outputs": [],
   "source": [
    "#5.Write a Python program that calculates the factorial of a number using the `reduce()` function.\n"
   ]
  },
  {
   "cell_type": "code",
   "execution_count": 39,
   "id": "b9d2b018-3ae2-4be9-89d0-03d158f382c9",
   "metadata": {},
   "outputs": [
    {
     "data": {
      "text/plain": [
       "120"
      ]
     },
     "execution_count": 39,
     "metadata": {},
     "output_type": "execute_result"
    }
   ],
   "source": [
    "from functools import reduce\n",
    "\n",
    "f = 5\n",
    "\n",
    "def fact1(a, b):\n",
    "    return a*b\n",
    "    \n",
    "reduce(fact1,range(1,f+1)) "
   ]
  },
  {
   "cell_type": "code",
   "execution_count": 40,
   "id": "9efaf599-2fe3-4b6f-b70b-f1132ff3eabf",
   "metadata": {},
   "outputs": [],
   "source": [
    "#6.Create a Python program that uses `reduce()` to find the GCD (Greatest Common Divisor) of a list of numbers."
   ]
  },
  {
   "cell_type": "code",
   "execution_count": 42,
   "id": "99b7be8d-9431-4053-ae2e-a89d31ef6a59",
   "metadata": {},
   "outputs": [
    {
     "data": {
      "text/plain": [
       "2"
      ]
     },
     "execution_count": 42,
     "metadata": {},
     "output_type": "execute_result"
    }
   ],
   "source": [
    "\n",
    "\n",
    "from functools import reduce\n",
    "\n",
    "\n",
    "\n",
    "def gcd_l(a, b):\n",
    "    while b:\n",
    "        a, b = b, a % b\n",
    "    return a\n",
    "\n",
    "l5 = [28, 18, 36, 62]\n",
    "\n",
    "reduce(gcd_l, l5)\n",
    "\n"
   ]
  },
  {
   "cell_type": "code",
   "execution_count": 44,
   "id": "23cfce7b-3d47-403f-b9e8-ccf19fc76dd6",
   "metadata": {},
   "outputs": [
    {
     "data": {
      "text/plain": [
       "2"
      ]
     },
     "execution_count": 44,
     "metadata": {},
     "output_type": "execute_result"
    }
   ],
   "source": [
    "from functools import reduce\n",
    "\n",
    "\n",
    "\n",
    "def gcd_l(a, b):\n",
    "    if b == 0:\n",
    "        return a\n",
    "    else:\n",
    "        return gcd_l(b, a % b)\n",
    "\n",
    "l5 = [68, 100, 88, 94]\n",
    "\n",
    "reduce(gcd_l, l5)\n",
    "\n"
   ]
  },
  {
   "cell_type": "code",
   "execution_count": 45,
   "id": "45d3fc0a-9843-44fd-97bb-3ed9c88846f2",
   "metadata": {},
   "outputs": [],
   "source": [
    "#7.Write a Python program that uses the `reduce()` function to find the sum of the digits of a given number."
   ]
  },
  {
   "cell_type": "code",
   "execution_count": 49,
   "id": "aee335b1-d8f6-4f60-8d5a-c285c7df1822",
   "metadata": {},
   "outputs": [
    {
     "data": {
      "text/plain": [
       "35"
      ]
     },
     "execution_count": 49,
     "metadata": {},
     "output_type": "execute_result"
    }
   ],
   "source": [
    "from functools import reduce\n",
    "\n",
    "y = [4, 7, 9, 15]\n",
    "\n",
    "reduce(lambda a,b : a+b, y)"
   ]
  },
  {
   "cell_type": "code",
   "execution_count": 50,
   "id": "12643ce8-511e-44d4-924c-cad0b58030d3",
   "metadata": {},
   "outputs": [],
   "source": [
    "#Filter"
   ]
  },
  {
   "cell_type": "code",
   "execution_count": 51,
   "id": "9315bbd1-edd3-4ae4-9df7-383509531111",
   "metadata": {},
   "outputs": [],
   "source": [
    "#1.Explain the purpose of the `filter()` function in Python and provide an example of how it can be used to filter elements from an iterable.\n",
    "#filter function is used to filter certain data from the list"
   ]
  },
  {
   "cell_type": "code",
   "execution_count": 60,
   "id": "938b5938-da4e-4a4b-bf8f-56df80651e7e",
   "metadata": {},
   "outputs": [
    {
     "data": {
      "text/plain": [
       "[-2, -3, -4]"
      ]
     },
     "execution_count": 60,
     "metadata": {},
     "output_type": "execute_result"
    }
   ],
   "source": [
    "# we will filter the negative numbers only from below list usinf filter function\n",
    "\n",
    "from functools import reduce\n",
    "\n",
    "\n",
    "numbers = [1, 2, 4, 5, -2,-3,-4]\n",
    "\n",
    "def select_all(x):\n",
    "    return x < 0\n",
    "\n",
    "\n",
    "list(filter(select_all, numbers))\n"
   ]
  },
  {
   "cell_type": "code",
   "execution_count": 61,
   "id": "f14853d0-621c-4842-89cd-dfe9bd7b49d1",
   "metadata": {},
   "outputs": [],
   "source": [
    "#2.Write a Python program that uses the `filter()` function to select even numbers from a list of integers.\n"
   ]
  },
  {
   "cell_type": "code",
   "execution_count": 70,
   "id": "a075b0d4-cfc4-4ad1-bf34-e95a1f7051dd",
   "metadata": {},
   "outputs": [
    {
     "data": {
      "text/plain": [
       "[2, 6, 8, 10, 12]"
      ]
     },
     "execution_count": 70,
     "metadata": {},
     "output_type": "execute_result"
    }
   ],
   "source": [
    "#Even numbers using filter\n",
    "\n",
    "l6 = [1,2,3,5,6,7,8,9,10,12]\n",
    "\n",
    "\n",
    "def is_even(x):\n",
    "    return x % 2 == 0\n",
    "\n",
    "list(filter(is_even, l6))\n",
    "\n",
    "\n",
    "\n"
   ]
  },
  {
   "cell_type": "code",
   "execution_count": 71,
   "id": "3f684b87-d75f-4cfd-9147-bdc8522faa7d",
   "metadata": {},
   "outputs": [],
   "source": [
    "\n",
    "#odd numbers using filter and lamda\n",
    "\n",
    "l6 = [1,2,3,5,6,7,8,9,10,12]\n",
    "\n"
   ]
  },
  {
   "cell_type": "code",
   "execution_count": 73,
   "id": "ddfedeec-97ee-4a56-8c4c-6082ae0bc1af",
   "metadata": {},
   "outputs": [
    {
     "data": {
      "text/plain": [
       "[1, 3, 5, 7, 9]"
      ]
     },
     "execution_count": 73,
     "metadata": {},
     "output_type": "execute_result"
    }
   ],
   "source": [
    "list(filter(lambda a : a%2!=0, l6))"
   ]
  },
  {
   "cell_type": "code",
   "execution_count": 74,
   "id": "48f4328f-7659-4bc3-88bd-51a1df3b8300",
   "metadata": {},
   "outputs": [],
   "source": [
    "#3Create a Python program that uses the `filter()` function to select names that start with a specific letter from a list of strings.\n",
    "\n",
    "#filtering data starting with letter p or s"
   ]
  },
  {
   "cell_type": "code",
   "execution_count": 83,
   "id": "2cfdbe90-55cb-4cc8-b8e5-55c07f075fd6",
   "metadata": {},
   "outputs": [],
   "source": [
    "l7 = [\"suraj\", \"sharma\", \"pwskills\", \"python\"]"
   ]
  },
  {
   "cell_type": "code",
   "execution_count": 84,
   "id": "f2b892eb-3202-4528-8839-f962650993af",
   "metadata": {},
   "outputs": [
    {
     "data": {
      "text/plain": [
       "['suraj', 'sharma']"
      ]
     },
     "execution_count": 84,
     "metadata": {},
     "output_type": "execute_result"
    }
   ],
   "source": [
    "list(filter(lambda a : a[0]=='s', l7))"
   ]
  },
  {
   "cell_type": "code",
   "execution_count": 87,
   "id": "888194ee-245b-4e9f-a98f-a4279d475e61",
   "metadata": {},
   "outputs": [
    {
     "data": {
      "text/plain": [
       "['pwskills', 'python']"
      ]
     },
     "execution_count": 87,
     "metadata": {},
     "output_type": "execute_result"
    }
   ],
   "source": [
    "def starts_with_s(name):\n",
    "    return name[0] == 'p'\n",
    "\n",
    "l7 = [\"suraj\", \"shamra\", \"pwskills\", \"python\"]\n",
    "\n",
    "list(filter(starts_with_s, l7))"
   ]
  },
  {
   "cell_type": "code",
   "execution_count": 90,
   "id": "9d97123f-ab9a-4353-9ae6-9aba59ef76df",
   "metadata": {},
   "outputs": [],
   "source": [
    "#4.Write a Python program that uses the `filter()` function to select prime numbers from a list of integers.\n"
   ]
  },
  {
   "cell_type": "code",
   "execution_count": 91,
   "id": "d5fca40d-5283-4c14-a2a8-435070722183",
   "metadata": {},
   "outputs": [
    {
     "data": {
      "text/plain": [
       "[1, 2, 3, 5, 6, 7, 8, 9, 10, 12]"
      ]
     },
     "execution_count": 91,
     "metadata": {},
     "output_type": "execute_result"
    }
   ],
   "source": [
    "l6"
   ]
  },
  {
   "cell_type": "code",
   "execution_count": 96,
   "id": "b27a6e79-602a-4699-8e46-fdef67c63576",
   "metadata": {},
   "outputs": [
    {
     "data": {
      "text/plain": [
       "[2, 3, 5, 7]"
      ]
     },
     "execution_count": 96,
     "metadata": {},
     "output_type": "execute_result"
    }
   ],
   "source": [
    "list(filter(lambda a : all(a % i != 0 for i in range(2, int(a**0.5) +1)) and a > 1, l6))"
   ]
  },
  {
   "cell_type": "code",
   "execution_count": 97,
   "id": "b38b47bb-3acd-4318-a4ca-1827ceda49aa",
   "metadata": {},
   "outputs": [],
   "source": [
    "#5. How can you use the `filter()` function to remove None values from a list in Python?\n"
   ]
  },
  {
   "cell_type": "code",
   "execution_count": 101,
   "id": "ca4510a8-9a17-4f73-a41f-eb3815eac8ad",
   "metadata": {},
   "outputs": [
    {
     "data": {
      "text/plain": [
       "[1, 2, 3, 4]"
      ]
     },
     "execution_count": 101,
     "metadata": {},
     "output_type": "execute_result"
    }
   ],
   "source": [
    "\n",
    "l8 = [1, None, 2, None, 3, None, 4, None, None]\n",
    "\n",
    "\n",
    "def rem_none(a):\n",
    "    return a is not None\n",
    "\n",
    "list(filter(rem_none, l8))\n",
    "\n"
   ]
  },
  {
   "cell_type": "code",
   "execution_count": 102,
   "id": "389ef625-d13a-4a61-867c-98c88a787fb6",
   "metadata": {},
   "outputs": [
    {
     "name": "stdout",
     "output_type": "stream",
     "text": [
      "Filtered list: [1, 2, 3, 4]\n"
     ]
    }
   ],
   "source": [
    "\n",
    "l8 = [1, None, 2, None, 3, None, 4, None, None]\n",
    "\n",
    "filtered_list = list(filter(lambda a: a is not None, l8))\n",
    "\n",
    "\n",
    "print(\"Filtered list:\", filtered_list)"
   ]
  },
  {
   "cell_type": "code",
   "execution_count": 103,
   "id": "3e0691ef-8afb-4d61-9249-a638ac73ba1f",
   "metadata": {},
   "outputs": [],
   "source": [
    "#6. Create a Python program that uses `filter()` to select words longer than a certain length from a list of strings.\n",
    "\n",
    "#filters the data where length of the data is more than 5"
   ]
  },
  {
   "cell_type": "code",
   "execution_count": 104,
   "id": "8976b45a-273d-4f98-a30e-33cf474e0f88",
   "metadata": {},
   "outputs": [
    {
     "data": {
      "text/plain": [
       "['suraj', 'shamra', 'pwskills', 'python']"
      ]
     },
     "execution_count": 104,
     "metadata": {},
     "output_type": "execute_result"
    }
   ],
   "source": [
    "l7"
   ]
  },
  {
   "cell_type": "code",
   "execution_count": 105,
   "id": "aee7e912-430f-4fa4-832d-d57cb483da5e",
   "metadata": {},
   "outputs": [
    {
     "data": {
      "text/plain": [
       "['shamra', 'pwskills', 'python']"
      ]
     },
     "execution_count": 105,
     "metadata": {},
     "output_type": "execute_result"
    }
   ],
   "source": [
    "list(filter(lambda a : len(a)>5, l7))"
   ]
  },
  {
   "cell_type": "code",
   "execution_count": 106,
   "id": "a4726d0e-4833-4e75-b6b0-e81ee55b6be1",
   "metadata": {},
   "outputs": [],
   "source": [
    "#7. Write a Python program that uses the `filter()` function to select elements greater than a specified threshold from a list of values."
   ]
  },
  {
   "cell_type": "code",
   "execution_count": 107,
   "id": "f92edc11-a3c5-4297-bb82-e77d3186b651",
   "metadata": {},
   "outputs": [
    {
     "data": {
      "text/plain": [
       "[15, 20, 19]"
      ]
     },
     "execution_count": 107,
     "metadata": {},
     "output_type": "execute_result"
    }
   ],
   "source": [
    "\n",
    "values = [12, 7, 15, 3, 9, 20, 5, 19]\n",
    "\n",
    "\n",
    "threshold = 12\n",
    "\n",
    "\n",
    "list(filter(lambda a: a > threshold, values))\n",
    "\n"
   ]
  },
  {
   "cell_type": "code",
   "execution_count": 1,
   "id": "b2977456-7c80-4886-b8eb-0ecf5a2600ee",
   "metadata": {},
   "outputs": [],
   "source": [
    "#Recursion:-\n"
   ]
  },
  {
   "cell_type": "code",
   "execution_count": 2,
   "id": "2f05f3fb-6b15-4ea8-97f8-1b2113da1342",
   "metadata": {},
   "outputs": [],
   "source": [
    "#1.Explain the concept of recursion in Python. How does it differ from iteration?\n",
    "\n",
    "#Recursive function is type of a call wherein you keep calling an original function repeatedly. \n",
    "#Recursion and iteration both repeatedly executes the set of instructions. Recursion is when a statement in a body of function calls itself repeatedly. The iteration allows the set of instruction to be repeatedly executed."
   ]
  },
  {
   "cell_type": "code",
   "execution_count": 5,
   "id": "a46a9adf-cdca-4456-8e36-3a9a261d90ba",
   "metadata": {},
   "outputs": [],
   "source": [
    "#2.Write a Python program to calculate the factorial of a number using recursion.\n",
    "\n",
    "def fact(n):\n",
    "    if n == 0:\n",
    "        return 1\n",
    "    else:\n",
    "        return n*fact(n-1)"
   ]
  },
  {
   "cell_type": "code",
   "execution_count": 7,
   "id": "3e34929d-9d85-4351-b463-be0530d82640",
   "metadata": {},
   "outputs": [
    {
     "data": {
      "text/plain": [
       "6"
      ]
     },
     "execution_count": 7,
     "metadata": {},
     "output_type": "execute_result"
    }
   ],
   "source": [
    "fact(3)"
   ]
  },
  {
   "cell_type": "code",
   "execution_count": 13,
   "id": "5d568a19-49f4-4a17-b81d-e38b598ff495",
   "metadata": {},
   "outputs": [],
   "source": [
    "#3.Create a recursive Python function to find the nth Fibonacci number.\n",
    "\n",
    "def fib(n):\n",
    "    if n <= 0:\n",
    "        return 0\n",
    "    elif n == 1:\n",
    "        return 1\n",
    "    else:\n",
    "        return fib(n-1) + fib(n-2)"
   ]
  },
  {
   "cell_type": "code",
   "execution_count": 14,
   "id": "16d0f85a-8984-4ae8-818f-2a54ac92a1f8",
   "metadata": {},
   "outputs": [
    {
     "data": {
      "text/plain": [
       "21"
      ]
     },
     "execution_count": 14,
     "metadata": {},
     "output_type": "execute_result"
    }
   ],
   "source": [
    "fib(8)"
   ]
  },
  {
   "cell_type": "code",
   "execution_count": 16,
   "id": "70618701-2213-455f-8c49-7a871e6a8463",
   "metadata": {},
   "outputs": [],
   "source": [
    "#4.Write a recursive Python function to calculate the sum of all elements in a list.\n",
    "\n",
    "def sum_dig(n):\n",
    "    if n <= 9:\n",
    "        return n\n",
    "    else:\n",
    "        return n % 10 + sum_dig(n//10)\n",
    "    "
   ]
  },
  {
   "cell_type": "code",
   "execution_count": 20,
   "id": "c901a833-f7f5-4b12-842e-902566fc5fd2",
   "metadata": {},
   "outputs": [
    {
     "data": {
      "text/plain": [
       "5"
      ]
     },
     "execution_count": 20,
     "metadata": {},
     "output_type": "execute_result"
    }
   ],
   "source": [
    "sum_dig(2030)"
   ]
  },
  {
   "cell_type": "code",
   "execution_count": 7,
   "id": "91fe9ff1-70c0-4dc4-9076-2e6ceb7fc455",
   "metadata": {},
   "outputs": [
    {
     "name": "stdout",
     "output_type": "stream",
     "text": [
      "120\n"
     ]
    }
   ],
   "source": [
    "#5.How can you prevent a recursive function from running indefinitely, causing a stack overflow error?\n",
    "#we can set base case and recursive step to prevent function from running indefinitely.\n",
    "\n",
    "def factorial(n):\n",
    "    # Base case: When n is 0 or 1, return 1\n",
    "    if n == 0 or n == 1:\n",
    "        return 1\n",
    "    # Recursive step: Multiply n by the factorial of (n-1)\n",
    "    else:\n",
    "        return n * factorial(n - 1)\n",
    "\n",
    "result = factorial(5)\n",
    "print(result)  "
   ]
  },
  {
   "cell_type": "code",
   "execution_count": 11,
   "id": "ed5c8626-9f17-4041-bd9c-3e60a4683983",
   "metadata": {},
   "outputs": [
    {
     "name": "stdout",
     "output_type": "stream",
     "text": [
      "The GCD of num1 and num2 is: 4\n"
     ]
    }
   ],
   "source": [
    "#6.Create a recursive Python function to find the greatest common divisor (GCD) of two numbers using the Euclidean algorithm.\n",
    "\n",
    "\n",
    "\n",
    "def gcd(a, b):\n",
    "    # Base case: If b is 0, return a (the GCD is found)\n",
    "    if b == 0:\n",
    "        return a\n",
    "    # Recursive step: Compute the GCD of b and the remainder of a divided by b\n",
    "    else:\n",
    "        return gcd(b, a % b)\n",
    "\n",
    "# Example usage:\n",
    "num1 = 28\n",
    "num2 = 12\n",
    "\n",
    "Euclidean_algorithm = gcd(num1, num2)\n",
    "print(\"The GCD of num1 and num2 is:\", Euclidean_algorithm)"
   ]
  },
  {
   "cell_type": "code",
   "execution_count": 23,
   "id": "0de6e63c-5d53-4a88-9571-618d1f5c60dc",
   "metadata": {},
   "outputs": [],
   "source": [
    "#7.Write a recursive Python function to reverse a string.\n",
    "\n",
    "s1 = \"surajsharma\"\n"
   ]
  },
  {
   "cell_type": "code",
   "execution_count": 24,
   "id": "757f7503-5a8d-4f8f-9c47-bb705cc2b533",
   "metadata": {},
   "outputs": [
    {
     "data": {
      "text/plain": [
       "'surajsharma'"
      ]
     },
     "execution_count": 24,
     "metadata": {},
     "output_type": "execute_result"
    }
   ],
   "source": [
    "s1"
   ]
  },
  {
   "cell_type": "code",
   "execution_count": 25,
   "id": "9d19b775-a8ce-4a67-b957-87d16811db02",
   "metadata": {},
   "outputs": [
    {
     "data": {
      "text/plain": [
       "'amrahsjarus'"
      ]
     },
     "execution_count": 25,
     "metadata": {},
     "output_type": "execute_result"
    }
   ],
   "source": [
    "s1[::-1]"
   ]
  },
  {
   "cell_type": "code",
   "execution_count": 26,
   "id": "f7eb8fa2-6bcc-45a6-a12d-328d55346f26",
   "metadata": {},
   "outputs": [],
   "source": [
    "def find_rev(s1):\n",
    "    if s1 == \"\":\n",
    "        return \"\"\n",
    "    else:\n",
    "        return find_rev(s1[1:]) + s1[0]"
   ]
  },
  {
   "cell_type": "code",
   "execution_count": 27,
   "id": "ff224a75-bfdc-4e1f-a325-66be95b92eb7",
   "metadata": {},
   "outputs": [
    {
     "data": {
      "text/plain": [
       "'amrahsjarus'"
      ]
     },
     "execution_count": 27,
     "metadata": {},
     "output_type": "execute_result"
    }
   ],
   "source": [
    "find_rev(s1)"
   ]
  },
  {
   "cell_type": "code",
   "execution_count": 28,
   "id": "146a89c5-64d4-41e1-a1f1-535f966ef62c",
   "metadata": {},
   "outputs": [
    {
     "data": {
      "text/plain": [
       "'jarus'"
      ]
     },
     "execution_count": 28,
     "metadata": {},
     "output_type": "execute_result"
    }
   ],
   "source": [
    "find_rev(\"suraj\")"
   ]
  },
  {
   "cell_type": "code",
   "execution_count": 45,
   "id": "ec5e25bc-0eef-4745-b5f4-522ed4a41a4b",
   "metadata": {},
   "outputs": [],
   "source": [
    "#8.Create a recursive Python function to calculate the power of a number (x^n).\n",
    "\n",
    "def power_num(x, n):\n",
    "    if n == 0:\n",
    "        return 1\n",
    "    else:\n",
    "        return x * power_num(x, n - 1)\n",
    "            "
   ]
  },
  {
   "cell_type": "code",
   "execution_count": 44,
   "id": "27cdd2f5-c6fb-47cd-8a2b-b08de2b5f725",
   "metadata": {},
   "outputs": [
    {
     "data": {
      "text/plain": [
       "32"
      ]
     },
     "execution_count": 44,
     "metadata": {},
     "output_type": "execute_result"
    }
   ],
   "source": [
    "power_num(2, 5)"
   ]
  },
  {
   "cell_type": "code",
   "execution_count": 15,
   "id": "d990c0eb-2c66-4a15-a2d0-1c522fe89c2c",
   "metadata": {},
   "outputs": [
    {
     "name": "stdout",
     "output_type": "stream",
     "text": [
      "['abc', 'acb', 'bac', 'bca', 'cab', 'cba']\n"
     ]
    }
   ],
   "source": [
    "#9.Write a recursive Python function to find all permutations of a given string.\n",
    "\n",
    "\n",
    "def get_permutations(string):\n",
    "    # Base case: If the string has only one character or is empty, return it as a single-item list\n",
    "    if len(string) <= 1:\n",
    "        return [string]\n",
    "\n",
    "    # Initialize a list to store permutations\n",
    "    permutations = []\n",
    "\n",
    "    # Iterate through each character in the string\n",
    "    for char in string:\n",
    "        # Create a smaller string by removing the current character\n",
    "        smaller_string = string.replace(char, \"\", 1)\n",
    "\n",
    "        # Recursively get permutations of the smaller string\n",
    "        smaller_permutations = get_permutations(smaller_string)\n",
    "\n",
    "        # Add the current character to each permutation of the smaller string\n",
    "        for permutation in smaller_permutations:\n",
    "            permutations.append(char + permutation)\n",
    "\n",
    "    return permutations\n",
    "\n",
    "\n",
    "input_string = \"abc\"\n",
    "result = get_permutations(input_string)\n",
    "print(result)\n"
   ]
  },
  {
   "cell_type": "code",
   "execution_count": 18,
   "id": "ff881042-3c4f-41fe-bf9f-dddc5f48e08c",
   "metadata": {},
   "outputs": [
    {
     "name": "stdin",
     "output_type": "stream",
     "text": [
      "Enter a string:  eye\n"
     ]
    },
    {
     "name": "stdout",
     "output_type": "stream",
     "text": [
      "input_string is a palindrome\n"
     ]
    }
   ],
   "source": [
    "#10.Write a recursive Python function to check if a string is a palindrome\n",
    "\n",
    "\n",
    "def is_palindrome(s):\n",
    "    # Base case: If the string has 0 or 1 character, it is a palindrome\n",
    "    if len(s) <= 1:\n",
    "        return True\n",
    "\n",
    "    # Check if the first and last characters are the same\n",
    "    if s[0] == s[-1]:\n",
    "        # Recursively check if the substring without the first and last characters is a palindrome\n",
    "        return is_palindrome(s[1:-1])\n",
    "    else:\n",
    "        # If the first and last characters are different, it's not a palindrome\n",
    "        return False\n",
    "\n",
    "# Example usage:\n",
    "input_string = input(\"Enter a string: \")\n",
    "result = is_palindrome(input_string)\n",
    "if result:\n",
    "    print(\"input_string is a palindrome\")\n",
    "else:\n",
    "    print(\"input_string is not a palindrome\")\n"
   ]
  },
  {
   "cell_type": "code",
   "execution_count": 25,
   "id": "1f1e5aff-39e8-4883-a484-3d463ea331ab",
   "metadata": {},
   "outputs": [
    {
     "name": "stdout",
     "output_type": "stream",
     "text": [
      "[1, 2]\n",
      "[1, 3]\n",
      "[1, 4]\n",
      "[2, 3]\n",
      "[2, 4]\n",
      "[3, 4]\n"
     ]
    }
   ],
   "source": [
    "#11.Create a recursive Python function to generate all possible combinations of a list of elements.\n",
    "\n",
    "def generate_combinations(elements, j):\n",
    "    # Base case: If j is 0, return a list with an empty combination\n",
    "    if j == 0:\n",
    "        return [[]]\n",
    "\n",
    "    # Base case: If elements is empty, return an empty list\n",
    "    if not elements:\n",
    "        return []\n",
    "\n",
    "    # Recursive case:\n",
    "    # Generate combinations including the first element\n",
    "    with_first = [[elements[0]] + combo for combo in generate_combinations(elements[1:], j - 1)]\n",
    "\n",
    "    # Generate combinations excluding the first element\n",
    "    without_first = generate_combinations(elements[1:], j)\n",
    "\n",
    "    # Combine the two sets of combinations\n",
    "    return with_first + without_first\n",
    "\n",
    "my_list = [1, 2, 3, 4]\n",
    "j = 2\n",
    "\n",
    "combinations = generate_combinations(my_list, j)\n",
    "for combo in combinations:\n",
    "    print(combo)"
   ]
  },
  {
   "cell_type": "code",
   "execution_count": 21,
   "id": "0f31d032-2bfe-41e0-aec5-0edda399d3a0",
   "metadata": {},
   "outputs": [
    {
     "name": "stdout",
     "output_type": "stream",
     "text": [
      "(1, 2)\n",
      "(1, 3)\n",
      "(1, 4)\n",
      "(2, 3)\n",
      "(2, 4)\n",
      "(3, 4)\n"
     ]
    }
   ],
   "source": [
    "from itertools import combinations\n",
    "\n",
    "def generate_combinations(elements, k):\n",
    "    return list(combinations(elements, k))\n",
    "\n",
    "# Example usage:\n",
    "my_list = [1, 2, 3, 4]\n",
    "k = 2\n",
    "\n",
    "combinations = generate_combinations(my_list, k)\n",
    "for combo in combinations:\n",
    "    print(combo)"
   ]
  },
  {
   "cell_type": "code",
   "execution_count": 7,
   "id": "ed885a33-01af-474d-9a11-e71e80321b8c",
   "metadata": {},
   "outputs": [
    {
     "ename": "TypeError",
     "evalue": "functionname() missing 1 required positional argument: 'arguments'",
     "output_type": "error",
     "traceback": [
      "\u001b[0;31m---------------------------------------------------------------------------\u001b[0m",
      "\u001b[0;31mTypeError\u001b[0m                                 Traceback (most recent call last)",
      "Cell \u001b[0;32mIn[7], line 12\u001b[0m\n\u001b[1;32m      9\u001b[0m     \u001b[38;5;28;01mreturn\u001b[39;00m\n\u001b[1;32m     11\u001b[0m \u001b[38;5;66;03m#call a function with below code\u001b[39;00m\n\u001b[0;32m---> 12\u001b[0m \u001b[43mfunctionname\u001b[49m\u001b[43m(\u001b[49m\u001b[43m)\u001b[49m\n",
      "\u001b[0;31mTypeError\u001b[0m: functionname() missing 1 required positional argument: 'arguments'"
     ]
    }
   ],
   "source": [
    "#Basics of Functions:\n",
    "#Q. What is a function in Python, and why is it used?\n",
    "\n",
    "#1.Python Functions is a block of codes/statements that return/performing the specific task. The idea is to put some commonly or repeatedly done tasks together and make a function so that instead of writing the same code again and again for different inputs, we can do the function calls to reuse code contained in it over and over again.  Reusability of code.\n",
    "\n",
    "#Q. How do you define a function in Python? Provide an example.\n",
    "\n",
    "#2.To define a function Python we need to write def keyword to create a function and then write function name next write arguments inside the parenthesis bracket then it will return a value.\n",
    "\n",
    "def functionname(arguments):\n",
    "    #function body\n",
    "    \n",
    "    return\n",
    "\n",
    "#call a function with below code\n",
    "functionname()\n",
    "\n",
    "\n"
   ]
  },
  {
   "cell_type": "code",
   "execution_count": 5,
   "id": "57019485-5f77-4776-9ca1-e20a6f7dd368",
   "metadata": {},
   "outputs": [],
   "source": [
    "#Example\n",
    "\n",
    "\n",
    "def greet():\n",
    "    print(\"Hello everyone\")"
   ]
  },
  {
   "cell_type": "code",
   "execution_count": 6,
   "id": "a09c9b4d-b9dc-4586-ae64-56b604adeea5",
   "metadata": {},
   "outputs": [
    {
     "name": "stdout",
     "output_type": "stream",
     "text": [
      "Hello everyone\n"
     ]
    }
   ],
   "source": [
    "greet()"
   ]
  },
  {
   "cell_type": "code",
   "execution_count": 13,
   "id": "3b7561cd-624c-4ec7-8d01-2ddb38b66bd1",
   "metadata": {},
   "outputs": [],
   "source": [
    "def greets():\n",
    "    return \"Hello everyone\"\n",
    "grreting = greets()"
   ]
  },
  {
   "cell_type": "code",
   "execution_count": 15,
   "id": "8b2663bf-02b7-4e8c-a548-a532febb3283",
   "metadata": {},
   "outputs": [
    {
     "data": {
      "text/plain": [
       "'Hello everyone'"
      ]
     },
     "execution_count": 15,
     "metadata": {},
     "output_type": "execute_result"
    }
   ],
   "source": [
    "greets()"
   ]
  },
  {
   "cell_type": "code",
   "execution_count": 8,
   "id": "8d161f79-4225-40dd-a9e6-4b44d57a4866",
   "metadata": {},
   "outputs": [],
   "source": [
    "#Q.Explain the difference between a function definition and a function call.\n",
    "\n",
    "#3. Function definition is like creating a set of instructions for a task, while a function call is actually executing those instructions to perform the task.\n"
   ]
  },
  {
   "cell_type": "code",
   "execution_count": 11,
   "id": "c82d189b-1f2f-4c8c-b743-3e8be90fbd0e",
   "metadata": {},
   "outputs": [],
   "source": [
    "#4.Write a Python program that defines a function to calculate the sum of two numbers and then calls the function.\n",
    "\n",
    "\n",
    "# Define a function to calculate the sum of two numbers\n",
    "def add_numbers(a, b):\n",
    "    sum_result = a + b\n",
    "    return sum_result\n"
   ]
  },
  {
   "cell_type": "code",
   "execution_count": 16,
   "id": "d2392116-41d4-48a5-93ec-9220c9963a0f",
   "metadata": {},
   "outputs": [
    {
     "data": {
      "text/plain": [
       "15"
      ]
     },
     "execution_count": 16,
     "metadata": {},
     "output_type": "execute_result"
    }
   ],
   "source": [
    "add_numbers(5,10)"
   ]
  },
  {
   "cell_type": "code",
   "execution_count": 17,
   "id": "8731d7c3-cfed-4dc4-af2b-64948e02c501",
   "metadata": {},
   "outputs": [],
   "source": [
    "def add_numbers(a, b):\n",
    "    sum_result = a + b\n",
    "    return sum_result\n",
    "z = add_numbers(4,6)"
   ]
  },
  {
   "cell_type": "code",
   "execution_count": 18,
   "id": "270ee84f-0b26-4c31-be51-192c25f702ed",
   "metadata": {},
   "outputs": [
    {
     "data": {
      "text/plain": [
       "10"
      ]
     },
     "execution_count": 18,
     "metadata": {},
     "output_type": "execute_result"
    }
   ],
   "source": [
    "z"
   ]
  },
  {
   "cell_type": "code",
   "execution_count": 20,
   "id": "05281b05-4da4-4d20-92af-178d58b55258",
   "metadata": {},
   "outputs": [],
   "source": [
    "#Q.What is a function signature, and what information does it typically include?\n",
    "\n",
    "#5.In Python, a function signature refers to the declaration and definition of a function, which includes its name, parameters/arguments, and return type "
   ]
  },
  {
   "cell_type": "code",
   "execution_count": 25,
   "id": "9f8c49f5-6360-4fd0-b8cc-7011f8bfdc4b",
   "metadata": {},
   "outputs": [],
   "source": [
    "#6. Create a Python function that takes two arguments and returns their product.\n",
    "\n",
    "\n",
    "def devide_num(a,b):\n",
    "    product = a / b\n",
    "    return product\n",
    "y = devide_num(10,2)\n",
    "    \n"
   ]
  },
  {
   "cell_type": "code",
   "execution_count": 26,
   "id": "1a031587-4545-42c8-9fc4-1d1e1604671f",
   "metadata": {},
   "outputs": [
    {
     "data": {
      "text/plain": [
       "5.0"
      ]
     },
     "execution_count": 26,
     "metadata": {},
     "output_type": "execute_result"
    }
   ],
   "source": [
    "y"
   ]
  },
  {
   "cell_type": "code",
   "execution_count": 27,
   "id": "8861c361-9084-409d-86cc-67138e8c7db8",
   "metadata": {},
   "outputs": [],
   "source": [
    "#Function Parameters and Arguments:\n"
   ]
  },
  {
   "cell_type": "code",
   "execution_count": 28,
   "id": "1a81bdd1-1385-48c4-94d3-795f6f0f091b",
   "metadata": {},
   "outputs": [],
   "source": [
    "#Q.Explain the concepts of formal parameters and actual arguments in Python functions.\n",
    "\n",
    "#1.Formal parameters are like placeholders for data in a function's definition, while actual arguments are the real data values passed into the function when it's called."
   ]
  },
  {
   "cell_type": "code",
   "execution_count": 29,
   "id": "1d5fbc55-822f-423d-80cf-34edc8884727",
   "metadata": {},
   "outputs": [],
   "source": [
    "#2.Write a Python program that defines a function with default argument values.\n",
    "\n",
    "def add_num(a=5,b=7):\n",
    "    sum = a+b\n",
    "    print(\"sum\",sum)\n"
   ]
  },
  {
   "cell_type": "code",
   "execution_count": 30,
   "id": "99106b63-f341-423f-a7f1-6a3126b5acfd",
   "metadata": {},
   "outputs": [
    {
     "name": "stdout",
     "output_type": "stream",
     "text": [
      "sum 12\n"
     ]
    }
   ],
   "source": [
    "add_num()"
   ]
  },
  {
   "cell_type": "code",
   "execution_count": 32,
   "id": "db00ae5f-733c-446d-ad2e-a6ddb408bc9d",
   "metadata": {},
   "outputs": [],
   "source": [
    "#3.How do you use keyword arguments in Python function calls? Provide an example.\n",
    "#n Python, you use keyword arguments in function calls by specifying the argument's name followed by an equals sign (=) and the value you want to pass. This allows you to provide arguments to a function in any order.\n",
    "\n",
    "\n",
    "def dis_name(first_name, last_name):\n",
    "    print(\"first name\", first_name)\n",
    "    print(\"last name\", last_name)\n",
    "    "
   ]
  },
  {
   "cell_type": "code",
   "execution_count": 33,
   "id": "e052754c-343a-4c1f-8d3f-b3626309c275",
   "metadata": {},
   "outputs": [
    {
     "name": "stdout",
     "output_type": "stream",
     "text": [
      "first name suraj\n",
      "last name suraj\n"
     ]
    }
   ],
   "source": [
    "dis_name(first_name = \"suraj\", last_name = \"sharma\")"
   ]
  },
  {
   "cell_type": "code",
   "execution_count": 35,
   "id": "9868e86a-4049-4a58-85f9-be5a73279c38",
   "metadata": {},
   "outputs": [
    {
     "name": "stdout",
     "output_type": "stream",
     "text": [
      "The sum is: 30\n"
     ]
    }
   ],
   "source": [
    "#4. Create a Python function that accepts a variable number of arguments and calculates their sum.\n",
    "\n",
    "def sum_values(*args):\n",
    "    total = 0\n",
    "    for num in args:\n",
    "        total += num\n",
    "    return total\n",
    "\n",
    "result = sum_values(5, 10, 15)\n",
    "print(\"The sum is:\", result)"
   ]
  },
  {
   "cell_type": "code",
   "execution_count": 1,
   "id": "c80b1430-52b7-49a7-872f-dbf0d8f0aede",
   "metadata": {},
   "outputs": [],
   "source": [
    "\n",
    "#Q. What is the purpose of the `*args` and `**kwargs` syntax in function parameter lists?\n",
    "\n",
    "#5. *args is used for passing n number of arguments and **syntax is used for passing n number of (key and values) keyword arguments.\n",
    "\n"
   ]
  },
  {
   "cell_type": "code",
   "execution_count": 2,
   "id": "fea8dd97-8e96-48ae-b785-19c4a872323c",
   "metadata": {},
   "outputs": [],
   "source": [
    "#Return Values and Scoping:"
   ]
  },
  {
   "cell_type": "code",
   "execution_count": 5,
   "id": "5fbf1c83-418d-4526-a8e0-96d89609e764",
   "metadata": {},
   "outputs": [],
   "source": [
    "#Q.1 Describe the role of the `return` statement in Python functions and provide examples.\n",
    "\n",
    "\n",
    "#The return statement in Python functions is used to specify the value that a function should output or produce when it is called. In other word, return will retsut an expression and value from a function whenever the function is called\n",
    "\n",
    "#Ex1\n",
    "\n",
    "def myfirstname (a,b):\n",
    "    c= a+b\n",
    "    return c\n"
   ]
  },
  {
   "cell_type": "code",
   "execution_count": 8,
   "id": "19694231-ce7f-46d5-988a-9f9a70291882",
   "metadata": {},
   "outputs": [],
   "source": [
    "x = myfirstname('sur', 'aj')"
   ]
  },
  {
   "cell_type": "code",
   "execution_count": 9,
   "id": "d399f128-6720-4f2e-b9d3-5b2847957790",
   "metadata": {},
   "outputs": [
    {
     "data": {
      "text/plain": [
       "'suraj'"
      ]
     },
     "execution_count": 9,
     "metadata": {},
     "output_type": "execute_result"
    }
   ],
   "source": [
    "x"
   ]
  },
  {
   "cell_type": "code",
   "execution_count": 10,
   "id": "881ba4ee-4593-4b8f-b42e-687bd7beec3e",
   "metadata": {},
   "outputs": [],
   "source": [
    "#Ex2\n",
    "\n",
    "def calculator(a,b):\n",
    "    c = a+b\n",
    "    d = a-b\n",
    "    e = a*b\n",
    "    return c,d,e\n"
   ]
  },
  {
   "cell_type": "code",
   "execution_count": 11,
   "id": "d555edd0-715b-4834-aa1e-b5a015872d2c",
   "metadata": {},
   "outputs": [
    {
     "data": {
      "text/plain": [
       "(7, -1, 12)"
      ]
     },
     "execution_count": 11,
     "metadata": {},
     "output_type": "execute_result"
    }
   ],
   "source": [
    "calculator(3,4)"
   ]
  },
  {
   "cell_type": "code",
   "execution_count": 12,
   "id": "91fe6594-ff11-4edd-a05e-7da8e36f5cd9",
   "metadata": {},
   "outputs": [],
   "source": [
    "y = calculator(2,3)"
   ]
  },
  {
   "cell_type": "code",
   "execution_count": 13,
   "id": "fc6e608c-0ab8-4a6c-8335-bdea2240b66d",
   "metadata": {},
   "outputs": [
    {
     "data": {
      "text/plain": [
       "(5, -1, 6)"
      ]
     },
     "execution_count": 13,
     "metadata": {},
     "output_type": "execute_result"
    }
   ],
   "source": [
    "y"
   ]
  },
  {
   "cell_type": "code",
   "execution_count": 15,
   "id": "9aa16f75-cd43-4bf8-99e4-f3580fd2d8a4",
   "metadata": {},
   "outputs": [],
   "source": [
    "#Q2Explain the concept of variable scope in Python, including local and global variables.\n",
    "\n",
    "#Variable scope in Python defines where in your code a variable is accessible. \n",
    "\n",
    "\n",
    "#Local scope - Whenever you are creating a variable inside function that is called a local scope. local scope/variable can only be accessed inside the function.\n",
    "\n",
    "#Global Scope - When a variable is created outside function, it is called a global scope. You can access the global variable anywhere in the program."
   ]
  },
  {
   "cell_type": "code",
   "execution_count": 16,
   "id": "dc027612-1725-4dcb-8ad6-851a17dbcebd",
   "metadata": {},
   "outputs": [],
   "source": [
    "#3.Write a Python program that demonstrates the use of global variables within functions.\n",
    "x = 30\n",
    "\n",
    "def subt():\n",
    "    y = 20\n",
    "    print(\"local variable y=\",y)\n",
    "    \n",
    "    print(\"global variable x=\",x)\n",
    "    \n",
    "    z = x-y\n",
    "    print(z)"
   ]
  },
  {
   "cell_type": "code",
   "execution_count": 17,
   "id": "dc1c22f1-42d4-4397-a76c-c95fc5a4edd0",
   "metadata": {},
   "outputs": [
    {
     "name": "stdout",
     "output_type": "stream",
     "text": [
      "local variable y= 20\n",
      "global variable x= 30\n",
      "10\n"
     ]
    }
   ],
   "source": [
    "subt()"
   ]
  },
  {
   "cell_type": "code",
   "execution_count": 19,
   "id": "da5483b4-f870-4a50-891d-8b9f8e7298d7",
   "metadata": {},
   "outputs": [],
   "source": [
    "#4.Create a Python function that calculates the factorial of a number and returns it.\n",
    "\n",
    "\n",
    "def fact_num(n):\n",
    "    if n == 0:\n",
    "        return 1\n",
    "    else:\n",
    "        return n*fact_num(n-1)"
   ]
  },
  {
   "cell_type": "code",
   "execution_count": 23,
   "id": "f7d235df-e404-4454-ba01-5a626a9821f3",
   "metadata": {},
   "outputs": [
    {
     "data": {
      "text/plain": [
       "120"
      ]
     },
     "execution_count": 23,
     "metadata": {},
     "output_type": "execute_result"
    }
   ],
   "source": [
    "fact_num(5)"
   ]
  },
  {
   "cell_type": "code",
   "execution_count": 24,
   "id": "455cf8a4-be8f-42df-96f0-7df794d69bcd",
   "metadata": {},
   "outputs": [
    {
     "name": "stdout",
     "output_type": "stream",
     "text": [
      "Inside the function: 10\n",
      "Outside the function: 10\n"
     ]
    }
   ],
   "source": [
    "#5.How can you access variables defined outside a function from within the function?\n",
    "\n",
    "global_variable = 10\n",
    "\n",
    "def access_global_variable():\n",
    "    global global_variable\n",
    "    print(\"Inside the function:\", global_variable)\n",
    "\n",
    "access_global_variable()\n",
    "print(\"Outside the function:\", global_variable)"
   ]
  },
  {
   "cell_type": "code",
   "execution_count": 25,
   "id": "242663f9-09fd-4507-b891-535f3324ff10",
   "metadata": {},
   "outputs": [],
   "source": [
    "#Lambda Functions and Higher-Order Functions:\n"
   ]
  },
  {
   "cell_type": "code",
   "execution_count": 26,
   "id": "3fe7cab5-5035-4a39-8a95-2cb68a197e0d",
   "metadata": {},
   "outputs": [],
   "source": [
    "#1.What are lambda functions in Python, and when are they typically used?\n",
    "\n",
    "#lambda functions in python - lambda arguments: expression\n",
    "\n",
    "#Lambda functions in Python are small, short,anonymous one line functions that can have any number of arguments but can only have one expression.\n",
    "\n",
    "#Lambda funtion is used with the lambda keyword and is often used for simple, short operations. Also, it can use lambda functions for sorting or filtering data, or as arguments in functions that accept functions as parameters, like map, filter, and sorted\n",
    "\n"
   ]
  },
  {
   "cell_type": "code",
   "execution_count": 29,
   "id": "0c123e7e-6a0b-43bb-a1db-5da3db17b03a",
   "metadata": {},
   "outputs": [
    {
     "name": "stdout",
     "output_type": "stream",
     "text": [
      "[(3, 2), (1, 4), (2, 8)]\n"
     ]
    }
   ],
   "source": [
    "#2Write a Python program that uses lambda functions to sort a list of tuples based on the second element.\n",
    "\n",
    "Elements = [(1, 4), (3, 2), (2, 8)]\n",
    "\n",
    "sorted_E = sorted(Elements, key=lambda x: x[1])\n",
    "\n",
    "print(sorted_E)\n"
   ]
  },
  {
   "cell_type": "code",
   "execution_count": 30,
   "id": "1f49c3b8-0766-4323-a102-4a0bd18105ed",
   "metadata": {},
   "outputs": [],
   "source": [
    "#3Explain the concept of higher-order functions in Python, and provide an example.\n",
    "\n"
   ]
  },
  {
   "cell_type": "code",
   "execution_count": 36,
   "id": "abbfc49e-e4a8-4e9d-9efa-37fa8980be23",
   "metadata": {},
   "outputs": [
    {
     "name": "stdout",
     "output_type": "stream",
     "text": [
      "[1, 4, 9, 16, 25]\n"
     ]
    }
   ],
   "source": [
    "#4.Create a Python function that takes a list of numbers and a function as arguments, applying the function to each element in the list.\n",
    "\n",
    "def square(x):\n",
    "    return x ** 2\n",
    "\n",
    "# List of numbers\n",
    "numbers = [1, 2, 3, 4, 5]\n",
    "\n",
    "# Applying the square function to each element in the list using a list comprehension\n",
    "result = [square(num) for num in numbers]\n",
    "\n",
    "print(result)"
   ]
  },
  {
   "cell_type": "code",
   "execution_count": 37,
   "id": "f41d754c-37fe-4035-9ce6-a9243640e59d",
   "metadata": {},
   "outputs": [],
   "source": [
    "#Built-in Functions:"
   ]
  },
  {
   "cell_type": "code",
   "execution_count": 38,
   "id": "a0d2876a-040e-4037-b49c-b2e2885a49c6",
   "metadata": {},
   "outputs": [],
   "source": [
    "#1.Describe the role of built-in functions like `len()`, `max()`, and `min()` in Python.\n",
    "\n",
    "#len(): It calculates and returns the length (number of elements) of a sequence or collection, such as a string, list, or tuple.\n",
    "\n",
    "#max(): It finds and returns the maximum value from a collection of values, such as numbers in a list, and gives you the largest element.\n",
    "\n",
    "#min(): It finds and returns the minimum value from a collection of values, such as numbers in a list, and gives you the smallest element.\n"
   ]
  },
  {
   "cell_type": "code",
   "execution_count": 43,
   "id": "6ce5471d-67c7-493c-8e86-376640b62602",
   "metadata": {},
   "outputs": [],
   "source": [
    "#2Write a Python program that uses the `map()` function to apply a function to each element of a list."
   ]
  },
  {
   "cell_type": "code",
   "execution_count": 44,
   "id": "b16eb8f8-0d91-4bc1-802e-bd734eb45741",
   "metadata": {},
   "outputs": [],
   "source": [
    "l3 = [ 4,6,8,10,12]"
   ]
  },
  {
   "cell_type": "code",
   "execution_count": 45,
   "id": "6ebd6e1e-1c95-430e-9410-8a084ec81c30",
   "metadata": {},
   "outputs": [
    {
     "data": {
      "text/plain": [
       "[4, 6, 8, 10, 12]"
      ]
     },
     "execution_count": 45,
     "metadata": {},
     "output_type": "execute_result"
    }
   ],
   "source": [
    "l3"
   ]
  },
  {
   "cell_type": "code",
   "execution_count": 47,
   "id": "fd829b9f-5e57-4b8b-a276-b92898137ed7",
   "metadata": {},
   "outputs": [
    {
     "data": {
      "text/plain": [
       "[2.0, 3.0, 4.0, 5.0, 6.0]"
      ]
     },
     "execution_count": 47,
     "metadata": {},
     "output_type": "execute_result"
    }
   ],
   "source": [
    "def divi(a):\n",
    "    return a/2\n",
    "\n",
    "list(map(divi, l3))"
   ]
  },
  {
   "cell_type": "code",
   "execution_count": 50,
   "id": "47d90771-8509-4dcb-9999-6888168219e6",
   "metadata": {},
   "outputs": [
    {
     "data": {
      "text/plain": [
       "[2.0, 3.0, 4.0, 5.0, 6.0]"
      ]
     },
     "execution_count": 50,
     "metadata": {},
     "output_type": "execute_result"
    }
   ],
   "source": [
    "list(map(lambda a : a/2, l3))"
   ]
  },
  {
   "cell_type": "code",
   "execution_count": 51,
   "id": "6910490e-0514-4d2a-8beb-66e2fd71777a",
   "metadata": {},
   "outputs": [],
   "source": [
    "#3How does the `filter()` function work in Python, and when would you use it?\n",
    "\n",
    "#it is used to filter out the data based on condition.\n",
    "\n",
    "#ou would use the filter() function when you need to selectively extract elements from an iterable based on a specific condition. It's a useful tool for data filtering and manipulation, allowing you to create a new iterable containing only the elements that meet your criteria"
   ]
  },
  {
   "cell_type": "code",
   "execution_count": 52,
   "id": "de7c370f-cb7b-4182-be73-afb36b0613d4",
   "metadata": {},
   "outputs": [
    {
     "name": "stdout",
     "output_type": "stream",
     "text": [
      "Product of all elements: 120\n"
     ]
    }
   ],
   "source": [
    "\n",
    "#4.Create a Python program that uses the `reduce()` function to find the product of all elements in a list.\n",
    "\n",
    "\n",
    "from functools import reduce\n",
    "\n",
    "# List of numbers\n",
    "numbers = [1, 2, 3, 4, 5]\n",
    "\n",
    "def multiply(x, y):\n",
    "    return x * y\n",
    "\n",
    "product = reduce(multiply, numbers)\n",
    "\n",
    "print(\"Product of all elements:\", product)"
   ]
  },
  {
   "cell_type": "code",
   "execution_count": null,
   "id": "bfaf27da-876b-46dd-91f4-93e833d6d08f",
   "metadata": {},
   "outputs": [],
   "source": []
  }
 ],
 "metadata": {
  "kernelspec": {
   "display_name": "Python 3 (ipykernel)",
   "language": "python",
   "name": "python3"
  },
  "language_info": {
   "codemirror_mode": {
    "name": "ipython",
    "version": 3
   },
   "file_extension": ".py",
   "mimetype": "text/x-python",
   "name": "python",
   "nbconvert_exporter": "python",
   "pygments_lexer": "ipython3",
   "version": "3.10.8"
  }
 },
 "nbformat": 4,
 "nbformat_minor": 5
}
