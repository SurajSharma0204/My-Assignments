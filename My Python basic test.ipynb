{
 "cells": [
  {
   "cell_type": "code",
   "execution_count": 155,
   "id": "5b804a02-edc9-4fb2-94f6-fa633571b4db",
   "metadata": {},
   "outputs": [],
   "source": [
    "#String based assignement problem\n",
    "\n",
    "s = \"programming\""
   ]
  },
  {
   "cell_type": "code",
   "execution_count": 156,
   "id": "91062afd-2890-4bc2-a16f-6ff7003c5646",
   "metadata": {},
   "outputs": [
    {
     "data": {
      "text/plain": [
       "'programming'"
      ]
     },
     "execution_count": 156,
     "metadata": {},
     "output_type": "execute_result"
    }
   ],
   "source": [
    "s"
   ]
  },
  {
   "cell_type": "code",
   "execution_count": 157,
   "id": "c1d3892c-82c8-420a-87e0-0bbc83df59bf",
   "metadata": {},
   "outputs": [],
   "source": [
    "reverse_s = s[::-1]"
   ]
  },
  {
   "cell_type": "code",
   "execution_count": 40,
   "id": "ea1c793b-7873-45e5-8baa-dc95b5276e6c",
   "metadata": {},
   "outputs": [
    {
     "name": "stdout",
     "output_type": "stream",
     "text": [
      "gnimmargorp\n"
     ]
    }
   ],
   "source": [
    "print(reverse_s)"
   ]
  },
  {
   "cell_type": "code",
   "execution_count": 41,
   "id": "d60641a2-9f15-42fc-ad24-1deba998276d",
   "metadata": {},
   "outputs": [
    {
     "name": "stdout",
     "output_type": "stream",
     "text": [
      "The string is not a palindrome.\n"
     ]
    }
   ],
   "source": [
    "s = \"programming\"\n",
    "\n",
    "reversed_s = s[::-1]\n",
    "\n",
    "if s == reversed_s:\n",
    "    print(\"The string is a palindrome.\")\n",
    "else:\n",
    "    print(\"The string is not a palindrome.\")"
   ]
  },
  {
   "cell_type": "code",
   "execution_count": 42,
   "id": "daad8a67-c4c6-4578-87df-3f949ee20020",
   "metadata": {},
   "outputs": [
    {
     "data": {
      "text/plain": [
       "'programming'"
      ]
     },
     "execution_count": 42,
     "metadata": {},
     "output_type": "execute_result"
    }
   ],
   "source": [
    "s"
   ]
  },
  {
   "cell_type": "code",
   "execution_count": 43,
   "id": "ba22c597-8453-4143-8391-72114fc4eca6",
   "metadata": {},
   "outputs": [
    {
     "data": {
      "text/plain": [
       "'PROGRAMMING'"
      ]
     },
     "execution_count": 43,
     "metadata": {},
     "output_type": "execute_result"
    }
   ],
   "source": [
    "s.upper()"
   ]
  },
  {
   "cell_type": "code",
   "execution_count": 44,
   "id": "66dc6b4a-f0cd-404e-9863-ff1b4261f9a4",
   "metadata": {},
   "outputs": [
    {
     "data": {
      "text/plain": [
       "'programming'"
      ]
     },
     "execution_count": 44,
     "metadata": {},
     "output_type": "execute_result"
    }
   ],
   "source": [
    "s.lower()"
   ]
  },
  {
   "cell_type": "code",
   "execution_count": 45,
   "id": "36e2fdca-eccf-4836-a690-6f054ad37879",
   "metadata": {},
   "outputs": [],
   "source": [
    "vowels = \"aeiou\""
   ]
  },
  {
   "cell_type": "code",
   "execution_count": 46,
   "id": "2f83bfe7-ec24-43e9-9447-64a0eb010436",
   "metadata": {},
   "outputs": [
    {
     "data": {
      "text/plain": [
       "'aeiou'"
      ]
     },
     "execution_count": 46,
     "metadata": {},
     "output_type": "execute_result"
    }
   ],
   "source": [
    "vowels"
   ]
  },
  {
   "cell_type": "code",
   "execution_count": 47,
   "id": "0aef68ea-b981-4186-9a41-1b5887b93ec7",
   "metadata": {},
   "outputs": [],
   "source": [
    "count = sum(s.count(vowel)for vowel in vowels)"
   ]
  },
  {
   "cell_type": "code",
   "execution_count": 48,
   "id": "5844e721-2e68-4223-bc57-d738ec97c356",
   "metadata": {},
   "outputs": [
    {
     "name": "stdout",
     "output_type": "stream",
     "text": [
      "3\n"
     ]
    }
   ],
   "source": [
    "print(count)"
   ]
  },
  {
   "cell_type": "code",
   "execution_count": 49,
   "id": "8bf418dc-1499-4862-9aca-a69be5150f52",
   "metadata": {},
   "outputs": [],
   "source": [
    "consonants = \"prgrmmng\""
   ]
  },
  {
   "cell_type": "code",
   "execution_count": 50,
   "id": "091ecebe-1cbe-4388-af71-95b2772ed3b4",
   "metadata": {},
   "outputs": [],
   "source": [
    "count = sum(s.count(consonant)for consonant in consonants)"
   ]
  },
  {
   "cell_type": "code",
   "execution_count": 51,
   "id": "0da79628-0579-46af-91ba-a222fc322221",
   "metadata": {},
   "outputs": [
    {
     "name": "stdout",
     "output_type": "stream",
     "text": [
      "14\n"
     ]
    }
   ],
   "source": [
    "print(count)"
   ]
  },
  {
   "cell_type": "code",
   "execution_count": 52,
   "id": "999b436c-391a-4a27-a615-64a8a082df0b",
   "metadata": {},
   "outputs": [],
   "source": [
    "s1 = \" programming \""
   ]
  },
  {
   "cell_type": "code",
   "execution_count": 53,
   "id": "58a6474a-bd08-4eec-be81-208eb7d619be",
   "metadata": {},
   "outputs": [
    {
     "data": {
      "text/plain": [
       "'programming'"
      ]
     },
     "execution_count": 53,
     "metadata": {},
     "output_type": "execute_result"
    }
   ],
   "source": [
    "s1.strip()"
   ]
  },
  {
   "cell_type": "code",
   "execution_count": 54,
   "id": "a5a59bbe-c62d-4b55-ad9f-ed631c4ba3c5",
   "metadata": {},
   "outputs": [
    {
     "data": {
      "text/plain": [
       "11"
      ]
     },
     "execution_count": 54,
     "metadata": {},
     "output_type": "execute_result"
    }
   ],
   "source": [
    "len(s)"
   ]
  },
  {
   "cell_type": "code",
   "execution_count": 55,
   "id": "82f2a082-782e-4cdf-9404-d389842ef0d6",
   "metadata": {},
   "outputs": [],
   "source": [
    "s2 = \"my name is suraj sharma\""
   ]
  },
  {
   "cell_type": "code",
   "execution_count": 56,
   "id": "e92f0cb3-9fa7-4b9a-be45-53391a50c2d9",
   "metadata": {},
   "outputs": [
    {
     "data": {
      "text/plain": [
       "'my name is suraj sharma'"
      ]
     },
     "execution_count": 56,
     "metadata": {},
     "output_type": "execute_result"
    }
   ],
   "source": [
    "s2"
   ]
  },
  {
   "cell_type": "code",
   "execution_count": 57,
   "id": "912f0318-e929-4630-beab-6a6ae8f813d5",
   "metadata": {},
   "outputs": [
    {
     "data": {
      "text/plain": [
       "11"
      ]
     },
     "execution_count": 57,
     "metadata": {},
     "output_type": "execute_result"
    }
   ],
   "source": [
    "s2.find(\"suraj\")"
   ]
  },
  {
   "cell_type": "code",
   "execution_count": 58,
   "id": "502f5d30-e73f-4e37-94d2-288b2c96624a",
   "metadata": {},
   "outputs": [
    {
     "data": {
      "text/plain": [
       "False"
      ]
     },
     "execution_count": 58,
     "metadata": {},
     "output_type": "execute_result"
    }
   ],
   "source": [
    "s2.isalpha()"
   ]
  },
  {
   "cell_type": "code",
   "execution_count": 59,
   "id": "56d618c0-6fdd-4a6c-a8a4-f4228b756239",
   "metadata": {},
   "outputs": [
    {
     "data": {
      "text/plain": [
       "False"
      ]
     },
     "execution_count": 59,
     "metadata": {},
     "output_type": "execute_result"
    }
   ],
   "source": [
    "s2.isnumeric()"
   ]
  },
  {
   "cell_type": "code",
   "execution_count": 60,
   "id": "ecad0ab6-fec4-4a23-952e-ad6936a7ee94",
   "metadata": {},
   "outputs": [
    {
     "data": {
      "text/plain": [
       "'my name is suraj verma'"
      ]
     },
     "execution_count": 60,
     "metadata": {},
     "output_type": "execute_result"
    }
   ],
   "source": [
    "s2.replace('sharma','verma')"
   ]
  },
  {
   "cell_type": "code",
   "execution_count": 62,
   "id": "c4dc1cf5-ef4d-4e2b-9ec5-b35f43d5aeef",
   "metadata": {},
   "outputs": [
    {
     "data": {
      "text/plain": [
       "1"
      ]
     },
     "execution_count": 62,
     "metadata": {},
     "output_type": "execute_result"
    }
   ],
   "source": [
    "s2.count('suraj')"
   ]
  },
  {
   "cell_type": "code",
   "execution_count": 63,
   "id": "3145670d-5827-47d3-9ebf-c99d146dfc1a",
   "metadata": {},
   "outputs": [],
   "source": [
    "s3 = \"a man gotta to what a man gotta do\""
   ]
  },
  {
   "cell_type": "code",
   "execution_count": 64,
   "id": "99dd005e-2b27-4ca2-8903-04e9cf04a112",
   "metadata": {},
   "outputs": [
    {
     "data": {
      "text/plain": [
       "'a man gotta to what a man gotta do'"
      ]
     },
     "execution_count": 64,
     "metadata": {},
     "output_type": "execute_result"
    }
   ],
   "source": [
    "s3"
   ]
  },
  {
   "cell_type": "code",
   "execution_count": 65,
   "id": "97fca9a2-9b8f-4d07-9405-b57472b2d5a8",
   "metadata": {},
   "outputs": [
    {
     "data": {
      "text/plain": [
       "6"
      ]
     },
     "execution_count": 65,
     "metadata": {},
     "output_type": "execute_result"
    }
   ],
   "source": [
    "s3.find('gotta')"
   ]
  },
  {
   "cell_type": "code",
   "execution_count": 66,
   "id": "a0d1b839-54ec-4b28-9923-f7a92d7388bd",
   "metadata": {},
   "outputs": [
    {
     "data": {
      "text/plain": [
       "22"
      ]
     },
     "execution_count": 66,
     "metadata": {},
     "output_type": "execute_result"
    }
   ],
   "source": [
    "s3.rfind('man')"
   ]
  },
  {
   "cell_type": "code",
   "execution_count": 68,
   "id": "eaba575b-877f-4e82-87cb-28c39f17f863",
   "metadata": {},
   "outputs": [
    {
     "data": {
      "text/plain": [
       "2"
      ]
     },
     "execution_count": 68,
     "metadata": {},
     "output_type": "execute_result"
    }
   ],
   "source": [
    "s3.index('man')"
   ]
  },
  {
   "cell_type": "code",
   "execution_count": 69,
   "id": "f32da671-44f5-4122-be99-687e6b328299",
   "metadata": {},
   "outputs": [
    {
     "data": {
      "text/plain": [
       "26"
      ]
     },
     "execution_count": 69,
     "metadata": {},
     "output_type": "execute_result"
    }
   ],
   "source": [
    "s3.rindex('gotta')"
   ]
  },
  {
   "cell_type": "code",
   "execution_count": 71,
   "id": "5bb188ce-2c7d-401b-a4df-d1b131c71649",
   "metadata": {},
   "outputs": [
    {
     "data": {
      "text/plain": [
       "['a', 'man', 'gotta', 'to', 'what', 'a', 'man', 'gotta', 'do']"
      ]
     },
     "execution_count": 71,
     "metadata": {},
     "output_type": "execute_result"
    }
   ],
   "source": [
    "s3.split()"
   ]
  },
  {
   "cell_type": "code",
   "execution_count": 72,
   "id": "b9856742-b33f-479f-ba4b-5e62d1b99a7e",
   "metadata": {},
   "outputs": [
    {
     "ename": "NameError",
     "evalue": "name 's4' is not defined",
     "output_type": "error",
     "traceback": [
      "\u001b[0;31m---------------------------------------------------------------------------\u001b[0m",
      "\u001b[0;31mNameError\u001b[0m                                 Traceback (most recent call last)",
      "Cell \u001b[0;32mIn[72], line 1\u001b[0m\n\u001b[0;32m----> 1\u001b[0m \u001b[43ms4\u001b[49m\n",
      "\u001b[0;31mNameError\u001b[0m: name 's4' is not defined"
     ]
    }
   ],
   "source": [
    "s4"
   ]
  },
  {
   "cell_type": "code",
   "execution_count": 73,
   "id": "7d4deb01-f5de-4a08-8906-d9addab344c1",
   "metadata": {},
   "outputs": [
    {
     "ename": "NameError",
     "evalue": "name 's4' is not defined",
     "output_type": "error",
     "traceback": [
      "\u001b[0;31m---------------------------------------------------------------------------\u001b[0m",
      "\u001b[0;31mNameError\u001b[0m                                 Traceback (most recent call last)",
      "Cell \u001b[0;32mIn[73], line 1\u001b[0m\n\u001b[0;32m----> 1\u001b[0m s4 \u001b[38;5;241m=\u001b[39m \u001b[38;5;124m'\u001b[39m\u001b[38;5;124m \u001b[39m\u001b[38;5;124m'\u001b[39m\u001b[38;5;241m.\u001b[39mjoin(\u001b[43ms4\u001b[49m)\n",
      "\u001b[0;31mNameError\u001b[0m: name 's4' is not defined"
     ]
    }
   ],
   "source": [
    "s4 = ' '.join(s4)"
   ]
  },
  {
   "cell_type": "code",
   "execution_count": 74,
   "id": "5e45ddc6-6abe-4c38-9a27-ef813cbe4830",
   "metadata": {},
   "outputs": [
    {
     "ename": "NameError",
     "evalue": "name 's4' is not defined",
     "output_type": "error",
     "traceback": [
      "\u001b[0;31m---------------------------------------------------------------------------\u001b[0m",
      "\u001b[0;31mNameError\u001b[0m                                 Traceback (most recent call last)",
      "Cell \u001b[0;32mIn[74], line 1\u001b[0m\n\u001b[0;32m----> 1\u001b[0m \u001b[43ms4\u001b[49m\n",
      "\u001b[0;31mNameError\u001b[0m: name 's4' is not defined"
     ]
    }
   ],
   "source": [
    "s4"
   ]
  },
  {
   "cell_type": "code",
   "execution_count": 75,
   "id": "66724b6c-eba3-4300-bfa2-78004f3535c2",
   "metadata": {},
   "outputs": [
    {
     "data": {
      "text/plain": [
       "'my name is suraj sharma'"
      ]
     },
     "execution_count": 75,
     "metadata": {},
     "output_type": "execute_result"
    }
   ],
   "source": [
    "s2"
   ]
  },
  {
   "cell_type": "code",
   "execution_count": 76,
   "id": "12c23fbf-08f4-4ea1-9796-fdf13931c6f0",
   "metadata": {},
   "outputs": [
    {
     "data": {
      "text/plain": [
       "'my_name_is_suraj_sharma'"
      ]
     },
     "execution_count": 76,
     "metadata": {},
     "output_type": "execute_result"
    }
   ],
   "source": [
    "s2.replace('my name is suraj sharma','my_name_is_suraj_sharma')"
   ]
  },
  {
   "cell_type": "code",
   "execution_count": 77,
   "id": "a08b871e-be77-4e53-8656-f609b0e99042",
   "metadata": {},
   "outputs": [
    {
     "data": {
      "text/plain": [
       "'my name is suraj sharma'"
      ]
     },
     "execution_count": 77,
     "metadata": {},
     "output_type": "execute_result"
    }
   ],
   "source": [
    "s2"
   ]
  },
  {
   "cell_type": "code",
   "execution_count": 78,
   "id": "60bad91c-8894-47af-85af-1464d2ce16d2",
   "metadata": {},
   "outputs": [],
   "source": [
    "s2 = \"my name is suraj sharma\"\n",
    "word = \"my\""
   ]
  },
  {
   "cell_type": "code",
   "execution_count": 79,
   "id": "3140a286-7d70-4f58-8e58-cdb04180f700",
   "metadata": {},
   "outputs": [
    {
     "data": {
      "text/plain": [
       "'my'"
      ]
     },
     "execution_count": 79,
     "metadata": {},
     "output_type": "execute_result"
    }
   ],
   "source": [
    "word"
   ]
  },
  {
   "cell_type": "code",
   "execution_count": 80,
   "id": "03b8bf3d-4f74-46ce-90c7-f3468ad84654",
   "metadata": {},
   "outputs": [
    {
     "data": {
      "text/plain": [
       "'my name is suraj sharma'"
      ]
     },
     "execution_count": 80,
     "metadata": {},
     "output_type": "execute_result"
    }
   ],
   "source": [
    "s2                           "
   ]
  },
  {
   "cell_type": "code",
   "execution_count": 82,
   "id": "51215f34-49c9-4ea3-83c5-33156d723c9c",
   "metadata": {},
   "outputs": [
    {
     "ename": "IndentationError",
     "evalue": "unindent does not match any outer indentation level (<tokenize>, line 3)",
     "output_type": "error",
     "traceback": [
      "\u001b[0;36m  File \u001b[0;32m<tokenize>:3\u001b[0;36m\u001b[0m\n\u001b[0;31m    else:\u001b[0m\n\u001b[0m    ^\u001b[0m\n\u001b[0;31mIndentationError\u001b[0m\u001b[0;31m:\u001b[0m unindent does not match any outer indentation level\n"
     ]
    }
   ],
   "source": [
    "if startswith(my,s2):\n",
    "    print(\"the string starts with word\")\n",
    "  else:\n",
    "    print(\"the string does not start with word\")"
   ]
  },
  {
   "cell_type": "code",
   "execution_count": 83,
   "id": "9cd9d668-8f9b-4cfb-b7f5-ab3cd9dc9fec",
   "metadata": {},
   "outputs": [
    {
     "data": {
      "text/plain": [
       "'My name is suraj sharma'"
      ]
     },
     "execution_count": 83,
     "metadata": {},
     "output_type": "execute_result"
    }
   ],
   "source": [
    "s2.capitalize()"
   ]
  },
  {
   "cell_type": "code",
   "execution_count": 84,
   "id": "b53bcd73-8f56-4bbb-a94c-679a03385a94",
   "metadata": {},
   "outputs": [
    {
     "data": {
      "text/plain": [
       "'My Name Is Suraj Sharma'"
      ]
     },
     "execution_count": 84,
     "metadata": {},
     "output_type": "execute_result"
    }
   ],
   "source": [
    "s2.title()"
   ]
  },
  {
   "cell_type": "code",
   "execution_count": 85,
   "id": "8d2a91b1-bd29-425c-8bf3-66a7b857d019",
   "metadata": {},
   "outputs": [
    {
     "data": {
      "text/plain": [
       "'my name is suraj sharma'"
      ]
     },
     "execution_count": 85,
     "metadata": {},
     "output_type": "execute_result"
    }
   ],
   "source": [
    "s2"
   ]
  },
  {
   "cell_type": "code",
   "execution_count": 86,
   "id": "ac59a7cf-bf37-4a60-a256-935ac86f1572",
   "metadata": {},
   "outputs": [],
   "source": [
    "s5 = \"Cheetah is a quickest animal in the world\""
   ]
  },
  {
   "cell_type": "code",
   "execution_count": 88,
   "id": "71dbe6f9-7d1c-4fa7-94f4-21345da1e9ee",
   "metadata": {},
   "outputs": [],
   "source": [
    "longest_word = max(s5.split(),key=len)"
   ]
  },
  {
   "cell_type": "code",
   "execution_count": 89,
   "id": "1a5d6a2c-bffa-4435-aeb1-67357f3fe3bb",
   "metadata": {},
   "outputs": [
    {
     "name": "stdout",
     "output_type": "stream",
     "text": [
      "quickest\n"
     ]
    }
   ],
   "source": [
    "print(longest_word)"
   ]
  },
  {
   "cell_type": "code",
   "execution_count": 90,
   "id": "cfbe3ba7-e867-4dd2-aee6-48dbeeb22606",
   "metadata": {},
   "outputs": [],
   "source": [
    "shortest_word = min(s5.split(),key=len)"
   ]
  },
  {
   "cell_type": "code",
   "execution_count": 91,
   "id": "ba4d5578-2dc9-4b56-b6a4-bb1d114de837",
   "metadata": {
    "collapsed": true,
    "jupyter": {
     "outputs_hidden": true
    },
    "tags": []
   },
   "outputs": [
    {
     "name": "stdout",
     "output_type": "stream",
     "text": [
      "a\n"
     ]
    }
   ],
   "source": [
    "print(shortest_word)"
   ]
  },
  {
   "cell_type": "code",
   "execution_count": 92,
   "id": "c27dfb98-8a20-4ceb-84ab-e43c673d5b0f",
   "metadata": {},
   "outputs": [
    {
     "data": {
      "text/plain": [
       "'dlrow eht ni lamina tsekciuq a si hateehC'"
      ]
     },
     "execution_count": 92,
     "metadata": {},
     "output_type": "execute_result"
    }
   ],
   "source": [
    "s5[40::-1]"
   ]
  },
  {
   "cell_type": "code",
   "execution_count": 93,
   "id": "b158bf5d-63b9-43b5-84e2-9f6f1f6fe2ae",
   "metadata": {},
   "outputs": [
    {
     "data": {
      "text/plain": [
       "False"
      ]
     },
     "execution_count": 93,
     "metadata": {},
     "output_type": "execute_result"
    }
   ],
   "source": [
    "s5.isalnum()"
   ]
  },
  {
   "cell_type": "code",
   "execution_count": 94,
   "id": "bf334651-a492-4afe-9361-622fc60b0180",
   "metadata": {},
   "outputs": [],
   "source": [
    "s6 = \"I have 3 pencils and 5 pens\""
   ]
  },
  {
   "cell_type": "code",
   "execution_count": 95,
   "id": "6594b8df-9c6f-4e08-b95c-6441ecf3447f",
   "metadata": {},
   "outputs": [
    {
     "data": {
      "text/plain": [
       "'I have 3 pencils and 5 pens'"
      ]
     },
     "execution_count": 95,
     "metadata": {},
     "output_type": "execute_result"
    }
   ],
   "source": [
    "s6"
   ]
  },
  {
   "cell_type": "code",
   "execution_count": 96,
   "id": "6d2cc312-6229-4630-b907-de5378cb56bf",
   "metadata": {},
   "outputs": [
    {
     "ename": "AttributeError",
     "evalue": "'str' object has no attribute 'digit'",
     "output_type": "error",
     "traceback": [
      "\u001b[0;31m---------------------------------------------------------------------------\u001b[0m",
      "\u001b[0;31mAttributeError\u001b[0m                            Traceback (most recent call last)",
      "Cell \u001b[0;32mIn[96], line 1\u001b[0m\n\u001b[0;32m----> 1\u001b[0m \u001b[43ms6\u001b[49m\u001b[38;5;241;43m.\u001b[39;49m\u001b[43mdigit\u001b[49m()\n",
      "\u001b[0;31mAttributeError\u001b[0m: 'str' object has no attribute 'digit'"
     ]
    }
   ],
   "source": [
    "s6.digit()"
   ]
  },
  {
   "cell_type": "code",
   "execution_count": 97,
   "id": "8e82bf57-24ab-4638-9bb7-0cdc2139000a",
   "metadata": {},
   "outputs": [
    {
     "ename": "AttributeError",
     "evalue": "'str' object has no attribute 'text'",
     "output_type": "error",
     "traceback": [
      "\u001b[0;31m---------------------------------------------------------------------------\u001b[0m",
      "\u001b[0;31mAttributeError\u001b[0m                            Traceback (most recent call last)",
      "Cell \u001b[0;32mIn[97], line 1\u001b[0m\n\u001b[0;32m----> 1\u001b[0m \u001b[43ms6\u001b[49m\u001b[38;5;241;43m.\u001b[39;49m\u001b[43mtext\u001b[49m()\n",
      "\u001b[0;31mAttributeError\u001b[0m: 'str' object has no attribute 'text'"
     ]
    }
   ],
   "source": [
    "s6.text()"
   ]
  },
  {
   "cell_type": "code",
   "execution_count": 98,
   "id": "161591b4-25ec-43fc-aa02-5a3868cd9753",
   "metadata": {},
   "outputs": [],
   "source": [
    "count = sum(1 for char in s6 if char.isupper())"
   ]
  },
  {
   "cell_type": "code",
   "execution_count": 99,
   "id": "3fd982dc-bb3a-4390-af85-81a82692b30a",
   "metadata": {},
   "outputs": [
    {
     "name": "stdout",
     "output_type": "stream",
     "text": [
      "number of uppercase letters: 1\n"
     ]
    }
   ],
   "source": [
    "print(\"number of uppercase letters:\", count)"
   ]
  },
  {
   "cell_type": "code",
   "execution_count": 100,
   "id": "805ec18d-9927-427c-85d3-6c5bdae44f1d",
   "metadata": {},
   "outputs": [
    {
     "data": {
      "text/plain": [
       "False"
      ]
     },
     "execution_count": 100,
     "metadata": {},
     "output_type": "execute_result"
    }
   ],
   "source": [
    "s6.isupper()"
   ]
  },
  {
   "cell_type": "code",
   "execution_count": 101,
   "id": "cc79cf9f-cac9-48f0-9782-7f67ae06c698",
   "metadata": {},
   "outputs": [],
   "source": [
    "count = sum(1 for char in s6 if char.islower())"
   ]
  },
  {
   "cell_type": "code",
   "execution_count": 102,
   "id": "6b026d50-061e-400b-9c4b-f3fc711d62ed",
   "metadata": {},
   "outputs": [
    {
     "name": "stdout",
     "output_type": "stream",
     "text": [
      "number of lowercase letters: 18\n"
     ]
    }
   ],
   "source": [
    "print(\"number of lowercase letters:\", count)"
   ]
  },
  {
   "cell_type": "code",
   "execution_count": 103,
   "id": "3cccda94-7506-4eca-8c54-cf768f274c58",
   "metadata": {},
   "outputs": [
    {
     "data": {
      "text/plain": [
       "'i HAVE 3 PENCILS AND 5 PENS'"
      ]
     },
     "execution_count": 103,
     "metadata": {},
     "output_type": "execute_result"
    }
   ],
   "source": [
    "s6.swapcase()"
   ]
  },
  {
   "cell_type": "code",
   "execution_count": 104,
   "id": "2961e052-f330-40c5-8661-2b7547df4885",
   "metadata": {},
   "outputs": [
    {
     "ename": "AttributeError",
     "evalue": "'str' object has no attribute 'pop'",
     "output_type": "error",
     "traceback": [
      "\u001b[0;31m---------------------------------------------------------------------------\u001b[0m",
      "\u001b[0;31mAttributeError\u001b[0m                            Traceback (most recent call last)",
      "Cell \u001b[0;32mIn[104], line 1\u001b[0m\n\u001b[0;32m----> 1\u001b[0m \u001b[43ms6\u001b[49m\u001b[38;5;241;43m.\u001b[39;49m\u001b[43mpop\u001b[49m(\u001b[38;5;241m7\u001b[39m)\n",
      "\u001b[0;31mAttributeError\u001b[0m: 'str' object has no attribute 'pop'"
     ]
    }
   ],
   "source": [
    "s6.pop(7)"
   ]
  },
  {
   "cell_type": "code",
   "execution_count": 105,
   "id": "1aeb8e5f-368f-49ec-a84a-baf6a3e7c359",
   "metadata": {},
   "outputs": [
    {
     "ename": "AttributeError",
     "evalue": "'str' object has no attribute 'delete'",
     "output_type": "error",
     "traceback": [
      "\u001b[0;31m---------------------------------------------------------------------------\u001b[0m",
      "\u001b[0;31mAttributeError\u001b[0m                            Traceback (most recent call last)",
      "Cell \u001b[0;32mIn[105], line 1\u001b[0m\n\u001b[0;32m----> 1\u001b[0m \u001b[43ms6\u001b[49m\u001b[38;5;241;43m.\u001b[39;49m\u001b[43mdelete\u001b[49m(pencils)\n",
      "\u001b[0;31mAttributeError\u001b[0m: 'str' object has no attribute 'delete'"
     ]
    }
   ],
   "source": [
    "s6.delete(pencils)"
   ]
  },
  {
   "cell_type": "code",
   "execution_count": 106,
   "id": "f9d749ee-7ede-4767-bbbc-ea52186c1f9e",
   "metadata": {},
   "outputs": [],
   "source": [
    "s7 = ['I have 3 pencils and 5 pens']"
   ]
  },
  {
   "cell_type": "code",
   "execution_count": 107,
   "id": "d4d7cf9c-4afe-4bfd-a3b2-e37b3614fe93",
   "metadata": {},
   "outputs": [
    {
     "ename": "ValueError",
     "evalue": "list.remove(x): x not in list",
     "output_type": "error",
     "traceback": [
      "\u001b[0;31m---------------------------------------------------------------------------\u001b[0m",
      "\u001b[0;31mValueError\u001b[0m                                Traceback (most recent call last)",
      "Cell \u001b[0;32mIn[107], line 1\u001b[0m\n\u001b[0;32m----> 1\u001b[0m \u001b[43ms7\u001b[49m\u001b[38;5;241;43m.\u001b[39;49m\u001b[43mremove\u001b[49m\u001b[43m(\u001b[49m\u001b[38;5;124;43m'\u001b[39;49m\u001b[38;5;124;43mI\u001b[39;49m\u001b[38;5;124;43m'\u001b[39;49m\u001b[43m)\u001b[49m\n",
      "\u001b[0;31mValueError\u001b[0m: list.remove(x): x not in list"
     ]
    }
   ],
   "source": [
    "s7.remove('I')"
   ]
  },
  {
   "cell_type": "code",
   "execution_count": 108,
   "id": "b680cc82-b5a8-4431-8312-c4c214721c65",
   "metadata": {},
   "outputs": [],
   "source": [
    "#list based practicle problem"
   ]
  },
  {
   "cell_type": "code",
   "execution_count": 109,
   "id": "b1450d16-fb93-4657-8da8-f09b4e24f7f8",
   "metadata": {},
   "outputs": [],
   "source": [
    "l1 = list(range(1, 10))"
   ]
  },
  {
   "cell_type": "code",
   "execution_count": 110,
   "id": "4638b690-7812-4d90-98ce-3ff129eea938",
   "metadata": {},
   "outputs": [
    {
     "name": "stdout",
     "output_type": "stream",
     "text": [
      "[1, 2, 3, 4, 5, 6, 7, 8, 9]\n"
     ]
    }
   ],
   "source": [
    "print(l1)"
   ]
  },
  {
   "cell_type": "code",
   "execution_count": 111,
   "id": "1371e26c-e448-48ac-a576-6a5377e182c1",
   "metadata": {},
   "outputs": [
    {
     "ename": "ValueError",
     "evalue": "<built-in function len> is not in list",
     "output_type": "error",
     "traceback": [
      "\u001b[0;31m---------------------------------------------------------------------------\u001b[0m",
      "\u001b[0;31mValueError\u001b[0m                                Traceback (most recent call last)",
      "Cell \u001b[0;32mIn[111], line 1\u001b[0m\n\u001b[0;32m----> 1\u001b[0m \u001b[43ml1\u001b[49m\u001b[38;5;241;43m.\u001b[39;49m\u001b[43mindex\u001b[49m\u001b[43m(\u001b[49m\u001b[38;5;28;43mlen\u001b[39;49m\u001b[43m)\u001b[49m\n",
      "\u001b[0;31mValueError\u001b[0m: <built-in function len> is not in list"
     ]
    }
   ],
   "source": [
    "l1.index(len)"
   ]
  },
  {
   "cell_type": "code",
   "execution_count": 112,
   "id": "6dd031ac-6e5b-4e55-ba86-0c010d7f61c4",
   "metadata": {},
   "outputs": [
    {
     "ename": "AttributeError",
     "evalue": "'list' object has no attribute 'range'",
     "output_type": "error",
     "traceback": [
      "\u001b[0;31m---------------------------------------------------------------------------\u001b[0m",
      "\u001b[0;31mAttributeError\u001b[0m                            Traceback (most recent call last)",
      "Cell \u001b[0;32mIn[112], line 1\u001b[0m\n\u001b[0;32m----> 1\u001b[0m \u001b[43ml1\u001b[49m\u001b[38;5;241;43m.\u001b[39;49m\u001b[43mrange\u001b[49m()\n",
      "\u001b[0;31mAttributeError\u001b[0m: 'list' object has no attribute 'range'"
     ]
    }
   ],
   "source": [
    "l1.range()"
   ]
  },
  {
   "cell_type": "code",
   "execution_count": 113,
   "id": "a6601955-eaa2-4a10-b514-e238bbcb1cae",
   "metadata": {},
   "outputs": [],
   "source": [
    "l1.extend([10,11,12])"
   ]
  },
  {
   "cell_type": "code",
   "execution_count": 114,
   "id": "d678f1a4-71ed-43dd-b69d-250e1a92a294",
   "metadata": {},
   "outputs": [
    {
     "data": {
      "text/plain": [
       "[1, 2, 3, 4, 5, 6, 7, 8, 9, 10, 11, 12]"
      ]
     },
     "execution_count": 114,
     "metadata": {},
     "output_type": "execute_result"
    }
   ],
   "source": [
    "l1"
   ]
  },
  {
   "cell_type": "code",
   "execution_count": 115,
   "id": "10cc1654-5e96-409d-a22c-b5ddee558a2b",
   "metadata": {},
   "outputs": [],
   "source": [
    "l1.insert(1,[2,4,6])"
   ]
  },
  {
   "cell_type": "code",
   "execution_count": 116,
   "id": "7bac8087-62bb-442f-803a-c4ffa2ca1cdc",
   "metadata": {},
   "outputs": [
    {
     "data": {
      "text/plain": [
       "[1, [2, 4, 6], 2, 3, 4, 5, 6, 7, 8, 9, 10, 11, 12]"
      ]
     },
     "execution_count": 116,
     "metadata": {},
     "output_type": "execute_result"
    }
   ],
   "source": [
    "l1"
   ]
  },
  {
   "cell_type": "code",
   "execution_count": 117,
   "id": "d3aa22c9-21d0-4fa6-b0fa-2a1ae7e128b6",
   "metadata": {},
   "outputs": [],
   "source": [
    "l1.remove(12)"
   ]
  },
  {
   "cell_type": "code",
   "execution_count": 118,
   "id": "e0495223-67a5-44e7-b70b-55725ead0b0c",
   "metadata": {},
   "outputs": [
    {
     "data": {
      "text/plain": [
       "[1, [2, 4, 6], 2, 3, 4, 5, 6, 7, 8, 9, 10, 11]"
      ]
     },
     "execution_count": 118,
     "metadata": {},
     "output_type": "execute_result"
    }
   ],
   "source": [
    "l1"
   ]
  },
  {
   "cell_type": "code",
   "execution_count": 119,
   "id": "38662186-efd1-4c4f-8f77-661c5f604451",
   "metadata": {},
   "outputs": [
    {
     "data": {
      "text/plain": [
       "[1, [2, 4, 6], 2, 3, 4, 5, 6, 7, 8, 9, 10, 11]"
      ]
     },
     "execution_count": 119,
     "metadata": {},
     "output_type": "execute_result"
    }
   ],
   "source": [
    "l1"
   ]
  },
  {
   "cell_type": "code",
   "execution_count": 120,
   "id": "7a2c8023-f83e-46cd-b3d4-2447c74bc6ec",
   "metadata": {},
   "outputs": [],
   "source": [
    "l1.reverse()"
   ]
  },
  {
   "cell_type": "code",
   "execution_count": 121,
   "id": "8e314315-c7d2-4c84-9914-b53924a5e591",
   "metadata": {},
   "outputs": [
    {
     "data": {
      "text/plain": [
       "[11, 10, 9, 8, 7, 6, 5, 4, 3, 2, [2, 4, 6], 1]"
      ]
     },
     "execution_count": 121,
     "metadata": {},
     "output_type": "execute_result"
    }
   ],
   "source": [
    "l1"
   ]
  },
  {
   "cell_type": "code",
   "execution_count": 122,
   "id": "6cc5e179-db36-4e84-a6f2-a2d2d794e022",
   "metadata": {},
   "outputs": [],
   "source": [
    "l2 = [10,34,100,4,5,7,-1,0,2]"
   ]
  },
  {
   "cell_type": "code",
   "execution_count": 123,
   "id": "a0d065fd-ccef-4836-8092-7233ae459fa8",
   "metadata": {},
   "outputs": [
    {
     "data": {
      "text/plain": [
       "[10, 34, 100, 4, 5, 7, -1, 0, 2]"
      ]
     },
     "execution_count": 123,
     "metadata": {},
     "output_type": "execute_result"
    }
   ],
   "source": [
    "l2"
   ]
  },
  {
   "cell_type": "code",
   "execution_count": 124,
   "id": "05d31e06-59ad-4fdb-9b5c-a0400b9c449f",
   "metadata": {},
   "outputs": [],
   "source": [
    "l2 = sorted([10, 34, 100, 4, 5, 7, -1, 0, 2])"
   ]
  },
  {
   "cell_type": "code",
   "execution_count": 125,
   "id": "e9d58217-09fb-4040-844d-dfcdf2df04ee",
   "metadata": {},
   "outputs": [
    {
     "name": "stdout",
     "output_type": "stream",
     "text": [
      "Sorted in ascending order:  [-1, 0, 2, 4, 5, 7, 10, 34, 100]\n"
     ]
    }
   ],
   "source": [
    "print(\"Sorted in ascending order: \", l2)"
   ]
  },
  {
   "cell_type": "code",
   "execution_count": 126,
   "id": "aaac4b21-a2b8-4715-82a2-db66bef34a61",
   "metadata": {},
   "outputs": [],
   "source": [
    "l2 = sorted([10, 34, 100, 4, 5, 7, -1, 0, 2], reverse=True)"
   ]
  },
  {
   "cell_type": "code",
   "execution_count": 127,
   "id": "6c06a439-c2a9-464e-af45-f0a41521fba9",
   "metadata": {},
   "outputs": [
    {
     "name": "stdout",
     "output_type": "stream",
     "text": [
      "Sorted in descending order:  [100, 34, 10, 7, 5, 4, 2, 0, -1]\n"
     ]
    }
   ],
   "source": [
    "print(\"Sorted in descending order: \", l2)\n"
   ]
  },
  {
   "cell_type": "code",
   "execution_count": 128,
   "id": "0f45b1c3-16d9-4d92-95bb-558448c51737",
   "metadata": {},
   "outputs": [],
   "source": [
    "even_numbers = list(range(2,21,2))"
   ]
  },
  {
   "cell_type": "code",
   "execution_count": 129,
   "id": "215ff0c4-b74c-4406-9875-080c5cbd574b",
   "metadata": {},
   "outputs": [
    {
     "name": "stdout",
     "output_type": "stream",
     "text": [
      "[2, 4, 6, 8, 10, 12, 14, 16, 18, 20]\n"
     ]
    }
   ],
   "source": [
    "print(even_numbers)"
   ]
  },
  {
   "cell_type": "code",
   "execution_count": 130,
   "id": "f46f346f-e115-45c3-aad5-f26982eec08f",
   "metadata": {},
   "outputs": [],
   "source": [
    "odd_numbers = list(range(1,21,2))"
   ]
  },
  {
   "cell_type": "code",
   "execution_count": 131,
   "id": "dd52deb7-b7e7-425e-8296-5f20a82a8530",
   "metadata": {},
   "outputs": [
    {
     "name": "stdout",
     "output_type": "stream",
     "text": [
      "[1, 3, 5, 7, 9, 11, 13, 15, 17, 19]\n"
     ]
    }
   ],
   "source": [
    "print(odd_numbers)"
   ]
  },
  {
   "cell_type": "code",
   "execution_count": 132,
   "id": "8a55f35b-92a2-4031-949a-27aca6391933",
   "metadata": {},
   "outputs": [
    {
     "data": {
      "text/plain": [
       "[100, 34, 10, 7, 5, 4, 2, 0, -1]"
      ]
     },
     "execution_count": 132,
     "metadata": {},
     "output_type": "execute_result"
    }
   ],
   "source": [
    "l2"
   ]
  },
  {
   "cell_type": "code",
   "execution_count": 133,
   "id": "6b2747bc-1e2b-4598-8400-3a6eff311f43",
   "metadata": {},
   "outputs": [
    {
     "ename": "AttributeError",
     "evalue": "'list' object has no attribute 'sum'",
     "output_type": "error",
     "traceback": [
      "\u001b[0;31m---------------------------------------------------------------------------\u001b[0m",
      "\u001b[0;31mAttributeError\u001b[0m                            Traceback (most recent call last)",
      "Cell \u001b[0;32mIn[133], line 1\u001b[0m\n\u001b[0;32m----> 1\u001b[0m \u001b[43ml2\u001b[49m\u001b[38;5;241;43m.\u001b[39;49m\u001b[43msum\u001b[49m()\n",
      "\u001b[0;31mAttributeError\u001b[0m: 'list' object has no attribute 'sum'"
     ]
    }
   ],
   "source": [
    "l2.sum()"
   ]
  },
  {
   "cell_type": "code",
   "execution_count": 134,
   "id": "8e732ef6-806b-47a6-8ae0-ff8301774cf1",
   "metadata": {},
   "outputs": [],
   "source": [
    "sum_numbers = sum(l2)"
   ]
  },
  {
   "cell_type": "code",
   "execution_count": 135,
   "id": "7e1a4c3e-5014-4ec2-b938-d5e5b8fd0248",
   "metadata": {},
   "outputs": [
    {
     "name": "stdout",
     "output_type": "stream",
     "text": [
      "161\n"
     ]
    }
   ],
   "source": [
    "print(sum_numbers)"
   ]
  },
  {
   "cell_type": "code",
   "execution_count": 136,
   "id": "b20cbc35-e0d9-4177-9db5-09dbca39499c",
   "metadata": {},
   "outputs": [],
   "source": [
    "max_value = max(l2)"
   ]
  },
  {
   "cell_type": "code",
   "execution_count": 137,
   "id": "fe35c9f5-7e58-4455-884d-e6452f0a34a6",
   "metadata": {},
   "outputs": [
    {
     "name": "stdout",
     "output_type": "stream",
     "text": [
      "100\n"
     ]
    }
   ],
   "source": [
    "print(max_value)"
   ]
  },
  {
   "cell_type": "code",
   "execution_count": 138,
   "id": "a4f3ec7e-debc-4a84-8d49-1810c02dd840",
   "metadata": {},
   "outputs": [],
   "source": [
    "min_value = min(l2)"
   ]
  },
  {
   "cell_type": "code",
   "execution_count": 139,
   "id": "1410a0a5-3f7c-49c8-a40a-9c1c2c4a3010",
   "metadata": {},
   "outputs": [
    {
     "name": "stdout",
     "output_type": "stream",
     "text": [
      "-1\n"
     ]
    }
   ],
   "source": [
    "print(min_value)"
   ]
  },
  {
   "cell_type": "code",
   "execution_count": 140,
   "id": "c77e7157-7ad6-4edd-bf5e-5741bd9e1745",
   "metadata": {},
   "outputs": [],
   "source": [
    "squares = [num**2 for num in range(1,10)]"
   ]
  },
  {
   "cell_type": "code",
   "execution_count": 141,
   "id": "6c463a02-a36b-4840-a0c1-3cccfc918057",
   "metadata": {},
   "outputs": [
    {
     "name": "stdout",
     "output_type": "stream",
     "text": [
      "[1, 4, 9, 16, 25, 36, 49, 64, 81]\n"
     ]
    }
   ],
   "source": [
    "print(squares)"
   ]
  },
  {
   "cell_type": "code",
   "execution_count": 142,
   "id": "93989d8a-a516-40b5-ad97-d470b3f01775",
   "metadata": {},
   "outputs": [],
   "source": [
    "l3 = [1,2,3,4,4,5,6,2,22,1,0,3,2]"
   ]
  },
  {
   "cell_type": "code",
   "execution_count": 143,
   "id": "a25a38ea-7b05-4c9c-aa5d-5a530cef2090",
   "metadata": {},
   "outputs": [
    {
     "data": {
      "text/plain": [
       "[1, 2, 3, 4, 4, 5, 6, 2, 22, 1, 0, 3, 2]"
      ]
     },
     "execution_count": 143,
     "metadata": {},
     "output_type": "execute_result"
    }
   ],
   "source": [
    "l3"
   ]
  },
  {
   "cell_type": "code",
   "execution_count": 144,
   "id": "82350954-c1f6-4c40-894e-ab6956bee47c",
   "metadata": {},
   "outputs": [
    {
     "ename": "AttributeError",
     "evalue": "'list' object has no attribute 'duplicate'",
     "output_type": "error",
     "traceback": [
      "\u001b[0;31m---------------------------------------------------------------------------\u001b[0m",
      "\u001b[0;31mAttributeError\u001b[0m                            Traceback (most recent call last)",
      "Cell \u001b[0;32mIn[144], line 1\u001b[0m\n\u001b[0;32m----> 1\u001b[0m \u001b[43ml3\u001b[49m\u001b[38;5;241;43m.\u001b[39;49m\u001b[43mduplicate\u001b[49m()\n",
      "\u001b[0;31mAttributeError\u001b[0m: 'list' object has no attribute 'duplicate'"
     ]
    }
   ],
   "source": [
    "l3.duplicate()"
   ]
  },
  {
   "cell_type": "code",
   "execution_count": 145,
   "id": "14f70c12-3501-48cb-adcb-e9c848b99a39",
   "metadata": {},
   "outputs": [],
   "source": [
    "l3 = list(set(l3))"
   ]
  },
  {
   "cell_type": "code",
   "execution_count": 146,
   "id": "055f8241-d5d2-4c49-8edb-f55cf523e5e6",
   "metadata": {},
   "outputs": [
    {
     "name": "stdout",
     "output_type": "stream",
     "text": [
      "[0, 1, 2, 3, 4, 5, 6, 22]\n"
     ]
    }
   ],
   "source": [
    "print(l3)"
   ]
  },
  {
   "cell_type": "code",
   "execution_count": 147,
   "id": "911048ee-031c-4c28-8038-8c0697280500",
   "metadata": {},
   "outputs": [],
   "source": [
    "common_elements = list(set(l2).intersection(l3))"
   ]
  },
  {
   "cell_type": "code",
   "execution_count": 148,
   "id": "c5a1cd8b-3008-4d71-ac39-40252fbdf66f",
   "metadata": {},
   "outputs": [
    {
     "name": "stdout",
     "output_type": "stream",
     "text": [
      "[0, 2, 4, 5]\n"
     ]
    }
   ],
   "source": [
    "print(common_elements)"
   ]
  },
  {
   "cell_type": "code",
   "execution_count": 149,
   "id": "1416c2db-a9b0-4723-b24c-e39adfb3d326",
   "metadata": {},
   "outputs": [],
   "source": [
    "difference_elements = list(set(l2).difference(l3))"
   ]
  },
  {
   "cell_type": "code",
   "execution_count": 150,
   "id": "4daa7f0c-dbef-485e-a763-ceb22053982b",
   "metadata": {},
   "outputs": [
    {
     "name": "stdout",
     "output_type": "stream",
     "text": [
      "[34, 100, 7, 10, -1]\n"
     ]
    }
   ],
   "source": [
    "print(difference_elements)"
   ]
  },
  {
   "cell_type": "code",
   "execution_count": 151,
   "id": "cae1f87b-88e4-4247-9530-59e6fb13dc19",
   "metadata": {},
   "outputs": [
    {
     "data": {
      "text/plain": [
       "[100, 34, 10, 7, 5, 4, 2, 0, -1, 0, 1, 2, 3, 4, 5, 6, 22]"
      ]
     },
     "execution_count": 151,
     "metadata": {},
     "output_type": "execute_result"
    }
   ],
   "source": [
    "l2+l3"
   ]
  },
  {
   "cell_type": "code",
   "execution_count": 152,
   "id": "253b5449-2544-4d7c-9f09-b5e14ad91c38",
   "metadata": {},
   "outputs": [
    {
     "data": {
      "text/plain": [
       "[0, 1, 2, 3, 4, 5, 6, 22]"
      ]
     },
     "execution_count": 152,
     "metadata": {},
     "output_type": "execute_result"
    }
   ],
   "source": [
    "l3"
   ]
  },
  {
   "cell_type": "code",
   "execution_count": 153,
   "id": "0f434faa-23e6-4e9a-a3fb-d78c727e7963",
   "metadata": {},
   "outputs": [],
   "source": [
    "l3_new = []"
   ]
  },
  {
   "cell_type": "code",
   "execution_count": 154,
   "id": "b170e4e0-3f6d-4db6-b4c0-8119c38d7e8b",
   "metadata": {},
   "outputs": [],
   "source": [
    "for num in l3:l3_new.append(num*2)"
   ]
  },
  {
   "cell_type": "code",
   "execution_count": 155,
   "id": "aaa4ae7c-38a8-4443-903d-928dad09595b",
   "metadata": {},
   "outputs": [
    {
     "name": "stdout",
     "output_type": "stream",
     "text": [
      "[0, 2, 4, 6, 8, 10, 12, 44]\n"
     ]
    }
   ],
   "source": [
    "print(l3_new)"
   ]
  },
  {
   "cell_type": "code",
   "execution_count": 156,
   "id": "a474b938-a63c-4820-94af-4d648cecf600",
   "metadata": {},
   "outputs": [],
   "source": [
    "even_numbers = list(l3)"
   ]
  },
  {
   "cell_type": "code",
   "execution_count": 157,
   "id": "6affd8cd-3e0e-4365-95a5-e6e3830b528a",
   "metadata": {},
   "outputs": [
    {
     "data": {
      "text/plain": [
       "[0, 1, 2, 3, 4, 5, 6, 22]"
      ]
     },
     "execution_count": 157,
     "metadata": {},
     "output_type": "execute_result"
    }
   ],
   "source": [
    "l3"
   ]
  },
  {
   "cell_type": "code",
   "execution_count": 158,
   "id": "41c76342-0b40-41f6-88d3-a1dd5905a857",
   "metadata": {},
   "outputs": [
    {
     "data": {
      "text/plain": [
       "list"
      ]
     },
     "execution_count": 158,
     "metadata": {},
     "output_type": "execute_result"
    }
   ],
   "source": [
    "type(l3)"
   ]
  },
  {
   "cell_type": "code",
   "execution_count": 159,
   "id": "7ccb11a3-919c-44d8-83bc-fdc0e7bf6c3d",
   "metadata": {},
   "outputs": [],
   "source": [
    "a = 'suraj'"
   ]
  },
  {
   "cell_type": "code",
   "execution_count": 160,
   "id": "adb6bfa8-40c5-4f22-9467-0e64c10e5214",
   "metadata": {},
   "outputs": [
    {
     "data": {
      "text/plain": [
       "'suraj'"
      ]
     },
     "execution_count": 160,
     "metadata": {},
     "output_type": "execute_result"
    }
   ],
   "source": [
    "a"
   ]
  },
  {
   "cell_type": "code",
   "execution_count": 161,
   "id": "f0cb7ccd-f04f-4f17-a5e0-d8b7b0ca70de",
   "metadata": {},
   "outputs": [],
   "source": [
    "b = 10"
   ]
  },
  {
   "cell_type": "code",
   "execution_count": 162,
   "id": "2f26def4-bcfc-4390-beba-52955605fb5a",
   "metadata": {},
   "outputs": [
    {
     "data": {
      "text/plain": [
       "10"
      ]
     },
     "execution_count": 162,
     "metadata": {},
     "output_type": "execute_result"
    }
   ],
   "source": [
    "b"
   ]
  },
  {
   "cell_type": "code",
   "execution_count": 163,
   "id": "d3885fcf-b178-4298-a1a1-d0005f80dde9",
   "metadata": {},
   "outputs": [
    {
     "data": {
      "text/plain": [
       "str"
      ]
     },
     "execution_count": 163,
     "metadata": {},
     "output_type": "execute_result"
    }
   ],
   "source": [
    "type(a)"
   ]
  },
  {
   "cell_type": "code",
   "execution_count": 164,
   "id": "ed905538-6d87-4622-b21d-46b1d3a66a64",
   "metadata": {},
   "outputs": [
    {
     "data": {
      "text/plain": [
       "int"
      ]
     },
     "execution_count": 164,
     "metadata": {},
     "output_type": "execute_result"
    }
   ],
   "source": [
    "type(b)"
   ]
  },
  {
   "cell_type": "code",
   "execution_count": 165,
   "id": "1f9bd46b-8a29-4972-8e7d-3f5dccfb141b",
   "metadata": {},
   "outputs": [],
   "source": [
    "b = str(a)"
   ]
  },
  {
   "cell_type": "code",
   "execution_count": 166,
   "id": "3f619c3d-51b9-405f-a34f-7e267550aaaf",
   "metadata": {},
   "outputs": [
    {
     "data": {
      "text/plain": [
       "'suraj'"
      ]
     },
     "execution_count": 166,
     "metadata": {},
     "output_type": "execute_result"
    }
   ],
   "source": [
    "b"
   ]
  },
  {
   "cell_type": "code",
   "execution_count": 167,
   "id": "76f54322-70ab-4031-b399-7144c1a8d069",
   "metadata": {},
   "outputs": [],
   "source": [
    "a = int(10)"
   ]
  },
  {
   "cell_type": "code",
   "execution_count": 168,
   "id": "45a6ec7c-46d6-4385-9d63-5256b5854088",
   "metadata": {},
   "outputs": [
    {
     "data": {
      "text/plain": [
       "10"
      ]
     },
     "execution_count": 168,
     "metadata": {},
     "output_type": "execute_result"
    }
   ],
   "source": [
    "a"
   ]
  },
  {
   "cell_type": "code",
   "execution_count": 169,
   "id": "5c03b50a-9608-4533-b60b-ec4a88db5d12",
   "metadata": {},
   "outputs": [
    {
     "data": {
      "text/plain": [
       "[100, 34, 10, 7, 5, 4, 2, 0, -1]"
      ]
     },
     "execution_count": 169,
     "metadata": {},
     "output_type": "execute_result"
    }
   ],
   "source": [
    "l2"
   ]
  },
  {
   "cell_type": "code",
   "execution_count": 170,
   "id": "aaeb370b-b449-4664-b781-cfef96d24c18",
   "metadata": {},
   "outputs": [],
   "source": [
    "largest = max(l2) \n",
    "l2.remove(largest) \n",
    "second_largest = max(l2)"
   ]
  },
  {
   "cell_type": "code",
   "execution_count": 171,
   "id": "996377fd-8b4b-4c16-a935-4c12089b8a06",
   "metadata": {},
   "outputs": [
    {
     "name": "stdout",
     "output_type": "stream",
     "text": [
      "34\n"
     ]
    }
   ],
   "source": [
    "print(second_largest)"
   ]
  },
  {
   "cell_type": "code",
   "execution_count": 172,
   "id": "df889b7f-76d1-4a42-a777-67f4179c78b8",
   "metadata": {},
   "outputs": [
    {
     "data": {
      "text/plain": [
       "[34, 10, 7, 5, 4, 2, 0, -1]"
      ]
     },
     "execution_count": 172,
     "metadata": {},
     "output_type": "execute_result"
    }
   ],
   "source": [
    "l2"
   ]
  },
  {
   "cell_type": "code",
   "execution_count": 173,
   "id": "017617f7-5637-4a7b-8a10-7866453251c0",
   "metadata": {},
   "outputs": [
    {
     "ename": "NameError",
     "evalue": "name 'random' is not defined",
     "output_type": "error",
     "traceback": [
      "\u001b[0;31m---------------------------------------------------------------------------\u001b[0m",
      "\u001b[0;31mNameError\u001b[0m                                 Traceback (most recent call last)",
      "Cell \u001b[0;32mIn[173], line 1\u001b[0m\n\u001b[0;32m----> 1\u001b[0m \u001b[43mrandom\u001b[49m\u001b[38;5;241m.\u001b[39mshuffle(l2)\n",
      "\u001b[0;31mNameError\u001b[0m: name 'random' is not defined"
     ]
    }
   ],
   "source": [
    "random.shuffle(l2)"
   ]
  },
  {
   "cell_type": "code",
   "execution_count": 174,
   "id": "a0312514-17a5-42c1-9012-676e9a6fbbdd",
   "metadata": {},
   "outputs": [
    {
     "ename": "TypeError",
     "evalue": "list.remove() takes exactly one argument (0 given)",
     "output_type": "error",
     "traceback": [
      "\u001b[0;31m---------------------------------------------------------------------------\u001b[0m",
      "\u001b[0;31mTypeError\u001b[0m                                 Traceback (most recent call last)",
      "Cell \u001b[0;32mIn[174], line 1\u001b[0m\n\u001b[0;32m----> 1\u001b[0m \u001b[43ml2\u001b[49m\u001b[38;5;241;43m.\u001b[39;49m\u001b[43mremove\u001b[49m\u001b[43m(\u001b[49m\u001b[43m)\u001b[49m\n",
      "\u001b[0;31mTypeError\u001b[0m: list.remove() takes exactly one argument (0 given)"
     ]
    }
   ],
   "source": [
    "l2.remove()"
   ]
  },
  {
   "cell_type": "code",
   "execution_count": 175,
   "id": "ff6786d3-da46-41ce-a57e-c51b3288a719",
   "metadata": {},
   "outputs": [
    {
     "ename": "TypeError",
     "evalue": "'list' object is not callable",
     "output_type": "error",
     "traceback": [
      "\u001b[0;31m---------------------------------------------------------------------------\u001b[0m",
      "\u001b[0;31mTypeError\u001b[0m                                 Traceback (most recent call last)",
      "Cell \u001b[0;32mIn[175], line 1\u001b[0m\n\u001b[0;32m----> 1\u001b[0m \u001b[43ml2\u001b[49m\u001b[43m(\u001b[49m\u001b[43m)\u001b[49m\n",
      "\u001b[0;31mTypeError\u001b[0m: 'list' object is not callable"
     ]
    }
   ],
   "source": [
    "l2()"
   ]
  },
  {
   "cell_type": "code",
   "execution_count": 176,
   "id": "43eeb5cd-6be3-4264-9db6-cda59cb5fa11",
   "metadata": {},
   "outputs": [],
   "source": [
    "l2.clear()"
   ]
  },
  {
   "cell_type": "code",
   "execution_count": 177,
   "id": "472d4b34-999a-43de-86fd-bec045ae976f",
   "metadata": {},
   "outputs": [
    {
     "data": {
      "text/plain": [
       "[]"
      ]
     },
     "execution_count": 177,
     "metadata": {},
     "output_type": "execute_result"
    }
   ],
   "source": [
    "l2"
   ]
  },
  {
   "cell_type": "code",
   "execution_count": 178,
   "id": "a5754728-8e73-4ffb-9117-05a9d268197b",
   "metadata": {},
   "outputs": [
    {
     "data": {
      "text/plain": [
       "[]"
      ]
     },
     "execution_count": 178,
     "metadata": {},
     "output_type": "execute_result"
    }
   ],
   "source": [
    "l2 = "
   ]
  },
  {
   "cell_type": "code",
   "execution_count": 180,
   "id": "8b0160b7-ac2a-4fcb-b365-f277c7531dc6",
   "metadata": {},
   "outputs": [],
   "source": [
    "l4 = [-1,-2,4,5,6,1,-4,-2]"
   ]
  },
  {
   "cell_type": "code",
   "execution_count": 181,
   "id": "38dc4a13-5b8f-4ea6-b845-a4ca30fd9aed",
   "metadata": {},
   "outputs": [
    {
     "data": {
      "text/plain": [
       "[-1, -2, 4, 5, 6, 1, -4, -2]"
      ]
     },
     "execution_count": 181,
     "metadata": {},
     "output_type": "execute_result"
    }
   ],
   "source": [
    "l4"
   ]
  },
  {
   "cell_type": "code",
   "execution_count": 183,
   "id": "94258b6e-11e8-44f3-bcea-27faadb3f6aa",
   "metadata": {},
   "outputs": [
    {
     "ename": "AttributeError",
     "evalue": "'list' object has no attribute 'replace'",
     "output_type": "error",
     "traceback": [
      "\u001b[0;31m---------------------------------------------------------------------------\u001b[0m",
      "\u001b[0;31mAttributeError\u001b[0m                            Traceback (most recent call last)",
      "Cell \u001b[0;32mIn[183], line 1\u001b[0m\n\u001b[0;32m----> 1\u001b[0m \u001b[43ml4\u001b[49m\u001b[38;5;241;43m.\u001b[39;49m\u001b[43mreplace\u001b[49m(\u001b[38;5;124m'\u001b[39m\u001b[38;5;124m-1, -2, 4, 5, 6, 1, -4, -2\u001b[39m\u001b[38;5;124m'\u001b[39m,\u001b[38;5;124m'\u001b[39m\u001b[38;5;124m0, 0, 4, 5, 6, 1, 0, 0\u001b[39m\u001b[38;5;124m'\u001b[39m)\n",
      "\u001b[0;31mAttributeError\u001b[0m: 'list' object has no attribute 'replace'"
     ]
    }
   ],
   "source": [
    "l4.replace('-1, -2, 4, 5, 6, 1, -4, -2','0, 0, 4, 5, 6, 1, 0, 0')"
   ]
  },
  {
   "cell_type": "code",
   "execution_count": 184,
   "id": "e46f6f12-7e55-4dec-af8b-590913ae2558",
   "metadata": {},
   "outputs": [],
   "source": [
    "replaced_numbers = [0 if num < 0 else num for num in l4]"
   ]
  },
  {
   "cell_type": "code",
   "execution_count": 185,
   "id": "06b71745-ae72-48ec-9cb4-4915abac993d",
   "metadata": {},
   "outputs": [
    {
     "name": "stdout",
     "output_type": "stream",
     "text": [
      "[0, 0, 4, 5, 6, 1, 0, 0]\n"
     ]
    }
   ],
   "source": [
    "print(replaced_numbers)"
   ]
  },
  {
   "cell_type": "code",
   "execution_count": 186,
   "id": "9415b2c4-3300-4def-9d99-8c33a0e80ea4",
   "metadata": {},
   "outputs": [
    {
     "data": {
      "text/plain": [
       "'my name is suraj sharma'"
      ]
     },
     "execution_count": 186,
     "metadata": {},
     "output_type": "execute_result"
    }
   ],
   "source": [
    "s2"
   ]
  },
  {
   "cell_type": "code",
   "execution_count": 187,
   "id": "8759e501-a0c3-41b4-aed1-9e8aba3b6464",
   "metadata": {},
   "outputs": [
    {
     "data": {
      "text/plain": [
       "['my', 'name', 'is', 'suraj', 'sharma']"
      ]
     },
     "execution_count": 187,
     "metadata": {},
     "output_type": "execute_result"
    }
   ],
   "source": [
    "s2.split()"
   ]
  },
  {
   "cell_type": "code",
   "execution_count": 188,
   "id": "d84e8b62-8d28-4dd7-b724-e4794fe2c9f7",
   "metadata": {},
   "outputs": [
    {
     "data": {
      "text/plain": [
       "'my name is suraj sharma'"
      ]
     },
     "execution_count": 188,
     "metadata": {},
     "output_type": "execute_result"
    }
   ],
   "source": [
    "s2"
   ]
  },
  {
   "cell_type": "code",
   "execution_count": 29,
   "id": "0043802e-4630-4f03-bdb4-fb9a1f2c0a51",
   "metadata": {},
   "outputs": [],
   "source": [
    "s8 = ['Hi,',  'how',  'are',  'you',  'today?']"
   ]
  },
  {
   "cell_type": "code",
   "execution_count": 30,
   "id": "29968eb7-cb99-4843-ae3e-88a2e1fdd4fa",
   "metadata": {},
   "outputs": [
    {
     "data": {
      "text/plain": [
       "['Hi,', 'how', 'are', 'you', 'today?']"
      ]
     },
     "execution_count": 30,
     "metadata": {},
     "output_type": "execute_result"
    }
   ],
   "source": [
    "s8"
   ]
  },
  {
   "cell_type": "code",
   "execution_count": 31,
   "id": "cd56b42f-b4c1-4b07-b548-35f8574ec3bb",
   "metadata": {},
   "outputs": [],
   "source": [
    "Text = ''.join(s8)"
   ]
  },
  {
   "cell_type": "code",
   "execution_count": 32,
   "id": "86971aa4-069b-4af3-b3b4-b01423115311",
   "metadata": {},
   "outputs": [
    {
     "name": "stdout",
     "output_type": "stream",
     "text": [
      "Hi,howareyoutoday?\n"
     ]
    }
   ],
   "source": [
    "print(Text)"
   ]
  },
  {
   "cell_type": "code",
   "execution_count": 204,
   "id": "6803a6d4-4980-4196-b196-16a017c03b60",
   "metadata": {},
   "outputs": [],
   "source": [
    "longest_word = max(s2.split(),key=len)"
   ]
  },
  {
   "cell_type": "code",
   "execution_count": 205,
   "id": "53be486a-21e3-4843-b2ff-4a3923ede542",
   "metadata": {},
   "outputs": [
    {
     "name": "stdout",
     "output_type": "stream",
     "text": [
      "sharma\n"
     ]
    }
   ],
   "source": [
    "print(longest_word)"
   ]
  },
  {
   "cell_type": "code",
   "execution_count": 206,
   "id": "f1d47096-c2a2-470a-8303-61806bc40db5",
   "metadata": {},
   "outputs": [],
   "source": [
    "shortest_word = min(s2.split(),key=len)"
   ]
  },
  {
   "cell_type": "code",
   "execution_count": 207,
   "id": "ea670c32-c1bb-4a81-bd84-9ee211b8e601",
   "metadata": {},
   "outputs": [
    {
     "name": "stdout",
     "output_type": "stream",
     "text": [
      "my\n"
     ]
    }
   ],
   "source": [
    "print(shortest_word)"
   ]
  },
  {
   "cell_type": "code",
   "execution_count": 208,
   "id": "849c7575-ea57-49b7-870e-997cd01e7109",
   "metadata": {},
   "outputs": [
    {
     "data": {
      "text/plain": [
       "[-1, -2, 4, 5, 6, 1, -4, -2]"
      ]
     },
     "execution_count": 208,
     "metadata": {},
     "output_type": "execute_result"
    }
   ],
   "source": [
    "l4"
   ]
  },
  {
   "cell_type": "code",
   "execution_count": 209,
   "id": "239c61ea-6e1b-4ba0-849b-ac03d6652e60",
   "metadata": {},
   "outputs": [],
   "source": [
    "index1 = 1"
   ]
  },
  {
   "cell_type": "code",
   "execution_count": 210,
   "id": "853092a8-fbf4-488d-bb86-060b7c49b240",
   "metadata": {},
   "outputs": [],
   "source": [
    "index2 = 3"
   ]
  },
  {
   "cell_type": "code",
   "execution_count": 211,
   "id": "6aa53edc-cb0d-4b81-a1ea-f8d7841a63a7",
   "metadata": {},
   "outputs": [],
   "source": [
    "l4[index1],l4[index2]=l4[index2],l4[index1]"
   ]
  },
  {
   "cell_type": "code",
   "execution_count": 212,
   "id": "f15750b8-779f-4b3c-9601-1982fa5775dc",
   "metadata": {},
   "outputs": [
    {
     "name": "stdout",
     "output_type": "stream",
     "text": [
      "[-1, 5, 4, -2, 6, 1, -4, -2]\n"
     ]
    }
   ],
   "source": [
    "print(l4)"
   ]
  },
  {
   "cell_type": "code",
   "execution_count": 213,
   "id": "9eb575ee-8d32-438d-b1dd-7ffe83c70585",
   "metadata": {},
   "outputs": [],
   "source": [
    "#Tuple Based Practice Problem "
   ]
  },
  {
   "cell_type": "code",
   "execution_count": 2,
   "id": "561f2d5b-772e-4cf5-b26d-846273e0ae6b",
   "metadata": {},
   "outputs": [],
   "source": [
    "t1 = tuple(range(1,6))"
   ]
  },
  {
   "cell_type": "code",
   "execution_count": 3,
   "id": "8e7e2d9b-bec9-4faa-9df9-c1a150ef9469",
   "metadata": {},
   "outputs": [
    {
     "data": {
      "text/plain": [
       "(1, 2, 3, 4, 5)"
      ]
     },
     "execution_count": 3,
     "metadata": {},
     "output_type": "execute_result"
    }
   ],
   "source": [
    "t1"
   ]
  },
  {
   "cell_type": "code",
   "execution_count": 4,
   "id": "52deab5f-02af-4541-b7b3-95e26905ae60",
   "metadata": {},
   "outputs": [
    {
     "ename": "TypeError",
     "evalue": "'tuple' object is not callable",
     "output_type": "error",
     "traceback": [
      "\u001b[0;31m---------------------------------------------------------------------------\u001b[0m",
      "\u001b[0;31mTypeError\u001b[0m                                 Traceback (most recent call last)",
      "Cell \u001b[0;32mIn[4], line 1\u001b[0m\n\u001b[0;32m----> 1\u001b[0m \u001b[43mt1\u001b[49m\u001b[43m(\u001b[49m\u001b[38;5;241;43m3\u001b[39;49m\u001b[43m)\u001b[49m\n",
      "\u001b[0;31mTypeError\u001b[0m: 'tuple' object is not callable"
     ]
    }
   ],
   "source": [
    "t1(3)"
   ]
  },
  {
   "cell_type": "code",
   "execution_count": 5,
   "id": "9788458d-a695-4c9a-a532-bb9b128f4e35",
   "metadata": {},
   "outputs": [
    {
     "data": {
      "text/plain": [
       "3"
      ]
     },
     "execution_count": 5,
     "metadata": {},
     "output_type": "execute_result"
    }
   ],
   "source": [
    "t1[2]"
   ]
  },
  {
   "cell_type": "code",
   "execution_count": 6,
   "id": "7dadd2ee-672a-403e-9f80-c1c4e608326a",
   "metadata": {},
   "outputs": [
    {
     "name": "stdout",
     "output_type": "stream",
     "text": [
      "5\n"
     ]
    }
   ],
   "source": [
    "t1 = (1, 2, 3, 4, 5)\n",
    "\n",
    "count = 0\n",
    "\n",
    "for i in t1:\n",
    "    count += 1\n",
    "print(count)    "
   ]
  },
  {
   "cell_type": "code",
   "execution_count": 14,
   "id": "16790e4b-3e88-4116-b03b-b0e48dc33711",
   "metadata": {},
   "outputs": [],
   "source": [
    "t2 = (1,2,3,4,4,5,2,3,0,7,8)"
   ]
  },
  {
   "cell_type": "code",
   "execution_count": 15,
   "id": "cdc5ef0e-f558-4c00-b3ba-0a6a80c2481a",
   "metadata": {},
   "outputs": [
    {
     "data": {
      "text/plain": [
       "(1, 2, 3, 4, 4, 5, 2, 3, 0, 7, 8)"
      ]
     },
     "execution_count": 15,
     "metadata": {},
     "output_type": "execute_result"
    }
   ],
   "source": [
    "t2"
   ]
  },
  {
   "cell_type": "code",
   "execution_count": 9,
   "id": "bb9e55cc-5484-47c2-aef8-8a456b7aacd0",
   "metadata": {},
   "outputs": [
    {
     "name": "stdout",
     "output_type": "stream",
     "text": [
      "The element4occurs2times in the tuple.\n"
     ]
    }
   ],
   "source": [
    "t2 = (1,2,3,4,4,5,2,3,0,7,8)\n",
    "element = 4\n",
    "\n",
    "count = t2.count(element)\n",
    "print(f\"The element{element}occurs{count}times in the tuple.\")"
   ]
  },
  {
   "cell_type": "code",
   "execution_count": 10,
   "id": "d614fdb0-e4fd-473c-9e5c-52482537803f",
   "metadata": {},
   "outputs": [
    {
     "name": "stdout",
     "output_type": "stream",
     "text": [
      "9\n"
     ]
    }
   ],
   "source": [
    "print(t2.index(7))"
   ]
  },
  {
   "cell_type": "code",
   "execution_count": 11,
   "id": "babe9335-8dc4-4096-bf68-07dd22dd5d46",
   "metadata": {},
   "outputs": [],
   "source": [
    "t3 = (1,2,3,4,4,5,3,6,\"boy\")"
   ]
  },
  {
   "cell_type": "code",
   "execution_count": 12,
   "id": "78815902-c619-44c5-acf7-2da54b0d4503",
   "metadata": {},
   "outputs": [
    {
     "data": {
      "text/plain": [
       "(1, 2, 3, 4, 4, 5, 3, 6, 'boy')"
      ]
     },
     "execution_count": 12,
     "metadata": {},
     "output_type": "execute_result"
    }
   ],
   "source": [
    "t3"
   ]
  },
  {
   "cell_type": "code",
   "execution_count": 13,
   "id": "ca700287-5fd7-4fdd-814f-54889a473a94",
   "metadata": {},
   "outputs": [],
   "source": [
    "l1 = list(t3)"
   ]
  },
  {
   "cell_type": "code",
   "execution_count": 14,
   "id": "371545f2-86df-40e6-9f82-3adc91ef5f50",
   "metadata": {},
   "outputs": [
    {
     "data": {
      "text/plain": [
       "[1, 2, 3, 4, 4, 5, 3, 6, 'boy']"
      ]
     },
     "execution_count": 14,
     "metadata": {},
     "output_type": "execute_result"
    }
   ],
   "source": [
    "l1"
   ]
  },
  {
   "cell_type": "code",
   "execution_count": 15,
   "id": "887f3fb5-2894-4614-8daa-b5675c90e85a",
   "metadata": {},
   "outputs": [
    {
     "data": {
      "text/plain": [
       "tuple"
      ]
     },
     "execution_count": 15,
     "metadata": {},
     "output_type": "execute_result"
    }
   ],
   "source": [
    "type(t3)"
   ]
  },
  {
   "cell_type": "code",
   "execution_count": 16,
   "id": "62d40447-9871-4f97-a660-e63bdec13202",
   "metadata": {},
   "outputs": [
    {
     "data": {
      "text/plain": [
       "list"
      ]
     },
     "execution_count": 16,
     "metadata": {},
     "output_type": "execute_result"
    }
   ],
   "source": [
    "type(l1)"
   ]
  },
  {
   "cell_type": "code",
   "execution_count": 17,
   "id": "a3455539-93b7-422c-a736-9eef60f6315a",
   "metadata": {},
   "outputs": [],
   "source": [
    "t3 = tuple(l1)"
   ]
  },
  {
   "cell_type": "code",
   "execution_count": 18,
   "id": "28ef06b3-114a-4bdd-a2ca-d932f7409927",
   "metadata": {},
   "outputs": [
    {
     "data": {
      "text/plain": [
       "tuple"
      ]
     },
     "execution_count": 18,
     "metadata": {},
     "output_type": "execute_result"
    }
   ],
   "source": [
    "type(t3)"
   ]
  },
  {
   "cell_type": "code",
   "execution_count": 19,
   "id": "a2dfa820-107e-4d14-a757-f0bcab200fa4",
   "metadata": {},
   "outputs": [
    {
     "data": {
      "text/plain": [
       "(1, 2, 3, 4, 4, 5, 3, 6, 'boy')"
      ]
     },
     "execution_count": 19,
     "metadata": {},
     "output_type": "execute_result"
    }
   ],
   "source": [
    "t3"
   ]
  },
  {
   "cell_type": "code",
   "execution_count": 20,
   "id": "9eedcd67-bd23-4be6-b692-d2432b4fe170",
   "metadata": {},
   "outputs": [],
   "source": [
    "t4 = (\"10\", \"20\",\"30\")"
   ]
  },
  {
   "cell_type": "code",
   "execution_count": 22,
   "id": "432699bc-cc85-4232-9105-98eaca71ae0f",
   "metadata": {},
   "outputs": [
    {
     "data": {
      "text/plain": [
       "('10', '20', '30')"
      ]
     },
     "execution_count": 22,
     "metadata": {},
     "output_type": "execute_result"
    }
   ],
   "source": [
    "t4"
   ]
  },
  {
   "cell_type": "code",
   "execution_count": 23,
   "id": "7d434888-9f3f-401c-9835-f1cb24881d4d",
   "metadata": {},
   "outputs": [],
   "source": [
    "vegies = (\"potato\", \"tomato\", \"brinjal\")\n",
    "(yellow, red, green) = vegies"
   ]
  },
  {
   "cell_type": "code",
   "execution_count": 24,
   "id": "ac4917f8-7d1f-4046-b7fb-1ef7c8cbb13f",
   "metadata": {},
   "outputs": [
    {
     "name": "stdout",
     "output_type": "stream",
     "text": [
      "potato\n"
     ]
    }
   ],
   "source": [
    "print(yellow)"
   ]
  },
  {
   "cell_type": "code",
   "execution_count": 25,
   "id": "a2908294-5173-423a-ac63-361604897669",
   "metadata": {},
   "outputs": [
    {
     "name": "stdout",
     "output_type": "stream",
     "text": [
      "brinjal\n"
     ]
    }
   ],
   "source": [
    "print(green)"
   ]
  },
  {
   "cell_type": "code",
   "execution_count": 26,
   "id": "06caac9d-c0e5-49f5-81b0-243fab1d6c42",
   "metadata": {},
   "outputs": [],
   "source": [
    "ev_numbers = tuple(range(2,11,2))"
   ]
  },
  {
   "cell_type": "code",
   "execution_count": 27,
   "id": "84c030c2-173d-4df9-a0ee-1ba7d4af876e",
   "metadata": {},
   "outputs": [
    {
     "data": {
      "text/plain": [
       "(2, 4, 6, 8, 10)"
      ]
     },
     "execution_count": 27,
     "metadata": {},
     "output_type": "execute_result"
    }
   ],
   "source": [
    "ev_numbers"
   ]
  },
  {
   "cell_type": "code",
   "execution_count": 28,
   "id": "46e516d9-0960-43eb-bf70-e4713a4eda92",
   "metadata": {},
   "outputs": [],
   "source": [
    "od_numbers = tuple(range(1,10,2))"
   ]
  },
  {
   "cell_type": "code",
   "execution_count": 29,
   "id": "c452a891-7cdf-4d1e-9b90-f0f59e7b48a3",
   "metadata": {},
   "outputs": [
    {
     "data": {
      "text/plain": [
       "(1, 3, 5, 7, 9)"
      ]
     },
     "execution_count": 29,
     "metadata": {},
     "output_type": "execute_result"
    }
   ],
   "source": [
    "od_numbers"
   ]
  },
  {
   "cell_type": "code",
   "execution_count": 30,
   "id": "5969f94c-ec2b-4934-ab56-376cfb93df0d",
   "metadata": {},
   "outputs": [
    {
     "data": {
      "text/plain": [
       "(1, 2, 3, 4, 4, 5, 3, 6, 'boy', '10', '20', '30')"
      ]
     },
     "execution_count": 30,
     "metadata": {},
     "output_type": "execute_result"
    }
   ],
   "source": [
    "t3+t4"
   ]
  },
  {
   "cell_type": "code",
   "execution_count": 31,
   "id": "d689f119-6bdb-43af-a9a0-e7b4d7cb2796",
   "metadata": {},
   "outputs": [
    {
     "data": {
      "text/plain": [
       "(1, 2, 3, 4, 5, 1, 2, 3, 4, 5, 1, 2, 3, 4, 5)"
      ]
     },
     "execution_count": 31,
     "metadata": {},
     "output_type": "execute_result"
    }
   ],
   "source": [
    "t1*3"
   ]
  },
  {
   "cell_type": "code",
   "execution_count": 32,
   "id": "8a13f5be-78fa-455e-8782-d40039e02427",
   "metadata": {},
   "outputs": [],
   "source": [
    "t5 = ()"
   ]
  },
  {
   "cell_type": "code",
   "execution_count": 33,
   "id": "e7fd5bbc-6bc1-4215-b5f3-12c0ea8c6dbf",
   "metadata": {},
   "outputs": [
    {
     "data": {
      "text/plain": [
       "()"
      ]
     },
     "execution_count": 33,
     "metadata": {},
     "output_type": "execute_result"
    }
   ],
   "source": [
    "t5"
   ]
  },
  {
   "cell_type": "code",
   "execution_count": 34,
   "id": "310fea00-40bf-454e-8895-ef603f6ce22c",
   "metadata": {},
   "outputs": [
    {
     "name": "stdout",
     "output_type": "stream",
     "text": [
      "False\n"
     ]
    }
   ],
   "source": [
    "print(len(t1)==0)"
   ]
  },
  {
   "cell_type": "code",
   "execution_count": 35,
   "id": "4bebcb50-f069-4b20-a3b5-bc6c94d67a06",
   "metadata": {},
   "outputs": [
    {
     "name": "stdout",
     "output_type": "stream",
     "text": [
      "True\n"
     ]
    }
   ],
   "source": [
    "print(len(t5)==0)"
   ]
  },
  {
   "cell_type": "code",
   "execution_count": 36,
   "id": "da99c124-9496-4bb1-a8fa-45ca049bb57b",
   "metadata": {},
   "outputs": [],
   "source": [
    "n_t = ((\"apple\", \"banana\", \"mango\"), (1,2,3),(\"a\",\"b\",\"m\"))"
   ]
  },
  {
   "cell_type": "code",
   "execution_count": 38,
   "id": "2610f457-4c7d-4737-bfc5-9e8e56ec22b5",
   "metadata": {},
   "outputs": [
    {
     "name": "stdout",
     "output_type": "stream",
     "text": [
      "(('apple', 'banana', 'mango'), (1, 2, 3), ('a', 'b', 'm'))\n"
     ]
    }
   ],
   "source": [
    "print(n_t)"
   ]
  },
  {
   "cell_type": "code",
   "execution_count": 39,
   "id": "7220ee9f-f147-49ca-8b91-c446ef5d8999",
   "metadata": {},
   "outputs": [],
   "source": [
    "f_e = (n_t[0])"
   ]
  },
  {
   "cell_type": "code",
   "execution_count": 40,
   "id": "37e85a9c-ace1-4ab6-93d6-788d2490c277",
   "metadata": {},
   "outputs": [
    {
     "data": {
      "text/plain": [
       "('apple', 'banana', 'mango')"
      ]
     },
     "execution_count": 40,
     "metadata": {},
     "output_type": "execute_result"
    }
   ],
   "source": [
    "f_e"
   ]
  },
  {
   "cell_type": "code",
   "execution_count": 41,
   "id": "828514fd-d8d6-4eab-aa3a-d8ee51a70f0f",
   "metadata": {},
   "outputs": [],
   "source": [
    "t6 = (1)"
   ]
  },
  {
   "cell_type": "code",
   "execution_count": 42,
   "id": "1b6eca2e-3d84-4514-b2ac-6473bfa87248",
   "metadata": {},
   "outputs": [
    {
     "data": {
      "text/plain": [
       "1"
      ]
     },
     "execution_count": 42,
     "metadata": {},
     "output_type": "execute_result"
    }
   ],
   "source": [
    "t6"
   ]
  },
  {
   "cell_type": "code",
   "execution_count": 43,
   "id": "98728b8e-22f2-4a03-8279-fbfea6339f0f",
   "metadata": {},
   "outputs": [],
   "source": [
    "t7 = (1,4,3)"
   ]
  },
  {
   "cell_type": "code",
   "execution_count": 44,
   "id": "9e12957c-fcb2-4b2e-85d8-8d6d1a06ffd3",
   "metadata": {},
   "outputs": [
    {
     "data": {
      "text/plain": [
       "(1, 4, 3)"
      ]
     },
     "execution_count": 44,
     "metadata": {},
     "output_type": "execute_result"
    }
   ],
   "source": [
    "t7"
   ]
  },
  {
   "cell_type": "code",
   "execution_count": 45,
   "id": "474b1ea8-dfd0-41dc-a351-3eeb568dd8b3",
   "metadata": {},
   "outputs": [
    {
     "name": "stdout",
     "output_type": "stream",
     "text": [
      "False\n"
     ]
    }
   ],
   "source": [
    "print(t1==t7)"
   ]
  },
  {
   "cell_type": "code",
   "execution_count": 46,
   "id": "00c363ea-ec0c-489e-8a1f-a6905b318ac8",
   "metadata": {},
   "outputs": [],
   "source": [
    "del(t7)"
   ]
  },
  {
   "cell_type": "code",
   "execution_count": 47,
   "id": "f4bd4568-9489-45ff-8722-f3de94a814b8",
   "metadata": {},
   "outputs": [
    {
     "ename": "NameError",
     "evalue": "name 't7' is not defined",
     "output_type": "error",
     "traceback": [
      "\u001b[0;31m---------------------------------------------------------------------------\u001b[0m",
      "\u001b[0;31mNameError\u001b[0m                                 Traceback (most recent call last)",
      "Cell \u001b[0;32mIn[47], line 1\u001b[0m\n\u001b[0;32m----> 1\u001b[0m \u001b[43mt7\u001b[49m\n",
      "\u001b[0;31mNameError\u001b[0m: name 't7' is not defined"
     ]
    }
   ],
   "source": [
    "t7"
   ]
  },
  {
   "cell_type": "code",
   "execution_count": 48,
   "id": "5a34b742-7ae4-400c-bfc3-55fad430ee98",
   "metadata": {},
   "outputs": [],
   "source": [
    "t7 = (1,3,5,6,7)"
   ]
  },
  {
   "cell_type": "code",
   "execution_count": 49,
   "id": "efa1eede-44ed-4c7d-98aa-710786d3dbde",
   "metadata": {},
   "outputs": [
    {
     "data": {
      "text/plain": [
       "(1, 3, 5, 6, 7)"
      ]
     },
     "execution_count": 49,
     "metadata": {},
     "output_type": "execute_result"
    }
   ],
   "source": [
    "t7"
   ]
  },
  {
   "cell_type": "code",
   "execution_count": 50,
   "id": "a6065198-a04c-49e9-90a5-a58ed4f42427",
   "metadata": {},
   "outputs": [],
   "source": [
    "t7 = tuple[0:1]"
   ]
  },
  {
   "cell_type": "code",
   "execution_count": 51,
   "id": "10f6e168-a649-4cbe-858b-bd4f96041a35",
   "metadata": {},
   "outputs": [
    {
     "data": {
      "text/plain": [
       "tuple[slice(0, 1, None)]"
      ]
     },
     "execution_count": 51,
     "metadata": {},
     "output_type": "execute_result"
    }
   ],
   "source": [
    "t7"
   ]
  },
  {
   "cell_type": "code",
   "execution_count": 52,
   "id": "38a48f57-30e3-4cdc-ad1d-57369d663290",
   "metadata": {},
   "outputs": [
    {
     "data": {
      "text/plain": [
       "tuple[slice(0, 1, None)]"
      ]
     },
     "execution_count": 52,
     "metadata": {},
     "output_type": "execute_result"
    }
   ],
   "source": [
    "t7"
   ]
  },
  {
   "cell_type": "code",
   "execution_count": 53,
   "id": "57a27787-ec95-45b0-8bd9-b88d3f54368f",
   "metadata": {},
   "outputs": [
    {
     "name": "stdout",
     "output_type": "stream",
     "text": [
      "30\n"
     ]
    }
   ],
   "source": [
    "print(max(t4))"
   ]
  },
  {
   "cell_type": "code",
   "execution_count": 54,
   "id": "6c6441f6-aeb2-4be8-a40e-d52461d08c5e",
   "metadata": {},
   "outputs": [
    {
     "name": "stdout",
     "output_type": "stream",
     "text": [
      "10\n"
     ]
    }
   ],
   "source": [
    "print(min(t4))"
   ]
  },
  {
   "cell_type": "code",
   "execution_count": 33,
   "id": "89db0631-80d9-4dd8-aaed-0752286e2972",
   "metadata": {},
   "outputs": [],
   "source": [
    "t8 = (\"i\", \"am\", \"suraj\", \"sharma\")"
   ]
  },
  {
   "cell_type": "code",
   "execution_count": 34,
   "id": "b2edcac3-f004-4233-9507-c2a47b2f8b90",
   "metadata": {},
   "outputs": [
    {
     "data": {
      "text/plain": [
       "('i', 'am', 'suraj', 'sharma')"
      ]
     },
     "execution_count": 34,
     "metadata": {},
     "output_type": "execute_result"
    }
   ],
   "source": [
    "t8"
   ]
  },
  {
   "cell_type": "code",
   "execution_count": 35,
   "id": "e567c9c3-ca72-49c0-aefe-ce78de04139c",
   "metadata": {},
   "outputs": [
    {
     "name": "stdout",
     "output_type": "stream",
     "text": [
      "i am suraj sharma\n"
     ]
    }
   ],
   "source": [
    "print(\" \".join(t8))"
   ]
  },
  {
   "cell_type": "code",
   "execution_count": 36,
   "id": "a0dd3c7f-ed24-4116-9997-b5d901af2d53",
   "metadata": {},
   "outputs": [
    {
     "data": {
      "text/plain": [
       "('i', 'am', 'suraj', 'sharma')"
      ]
     },
     "execution_count": 36,
     "metadata": {},
     "output_type": "execute_result"
    }
   ],
   "source": [
    "t8"
   ]
  },
  {
   "cell_type": "code",
   "execution_count": 59,
   "id": "18d99038-f649-43d4-a49b-1ba5bde9fea9",
   "metadata": {},
   "outputs": [],
   "source": [
    "t9 = (\"i love coding\")"
   ]
  },
  {
   "cell_type": "code",
   "execution_count": 60,
   "id": "986b128d-321c-496e-be41-48905cf5e1c0",
   "metadata": {},
   "outputs": [
    {
     "data": {
      "text/plain": [
       "'i love coding'"
      ]
     },
     "execution_count": 60,
     "metadata": {},
     "output_type": "execute_result"
    }
   ],
   "source": [
    "t9"
   ]
  },
  {
   "cell_type": "code",
   "execution_count": 61,
   "id": "7f95ca90-e174-4fb0-ada0-a726989d32d4",
   "metadata": {},
   "outputs": [
    {
     "data": {
      "text/plain": [
       "['i', 'love', 'coding']"
      ]
     },
     "execution_count": 61,
     "metadata": {},
     "output_type": "execute_result"
    }
   ],
   "source": [
    "t9.split()"
   ]
  },
  {
   "cell_type": "code",
   "execution_count": 62,
   "id": "805973b6-f4dc-4bb6-bba7-c49be2ff344b",
   "metadata": {},
   "outputs": [],
   "source": [
    "t9 = (\"hi\", \"apple\", 99, True, 3.55, [\"blue\", \"white\"])"
   ]
  },
  {
   "cell_type": "code",
   "execution_count": 63,
   "id": "d467c09a-ddfd-4a19-98a3-866c90ea70c5",
   "metadata": {},
   "outputs": [
    {
     "data": {
      "text/plain": [
       "('hi', 'apple', 99, True, 3.55, ['blue', 'white'])"
      ]
     },
     "execution_count": 63,
     "metadata": {},
     "output_type": "execute_result"
    }
   ],
   "source": [
    "t9"
   ]
  },
  {
   "cell_type": "code",
   "execution_count": 64,
   "id": "40e0a76f-3d00-4460-a25b-006cdc82312a",
   "metadata": {},
   "outputs": [
    {
     "data": {
      "text/plain": [
       "tuple[slice(0, 1, None)]"
      ]
     },
     "execution_count": 64,
     "metadata": {},
     "output_type": "execute_result"
    }
   ],
   "source": [
    "t7"
   ]
  },
  {
   "cell_type": "code",
   "execution_count": 65,
   "id": "c6dfcaaa-ce29-4e6a-bbd2-c317d1bf7d45",
   "metadata": {},
   "outputs": [
    {
     "data": {
      "text/plain": [
       "('i', 'am', 'suraj', 'sharma')"
      ]
     },
     "execution_count": 65,
     "metadata": {},
     "output_type": "execute_result"
    }
   ],
   "source": [
    "t8"
   ]
  },
  {
   "cell_type": "code",
   "execution_count": 66,
   "id": "7a367ea2-d454-43c3-acae-e734b48186b5",
   "metadata": {},
   "outputs": [
    {
     "data": {
      "text/plain": [
       "1"
      ]
     },
     "execution_count": 66,
     "metadata": {},
     "output_type": "execute_result"
    }
   ],
   "source": [
    "t6"
   ]
  },
  {
   "cell_type": "code",
   "execution_count": 67,
   "id": "4415c484-e308-4897-a443-38c474b61bf2",
   "metadata": {},
   "outputs": [
    {
     "data": {
      "text/plain": [
       "()"
      ]
     },
     "execution_count": 67,
     "metadata": {},
     "output_type": "execute_result"
    }
   ],
   "source": [
    "t5"
   ]
  },
  {
   "cell_type": "code",
   "execution_count": 68,
   "id": "a4ab9e5d-ce58-4549-8235-099896960196",
   "metadata": {},
   "outputs": [
    {
     "data": {
      "text/plain": [
       "('10', '20', '30')"
      ]
     },
     "execution_count": 68,
     "metadata": {},
     "output_type": "execute_result"
    }
   ],
   "source": [
    "t4"
   ]
  },
  {
   "cell_type": "code",
   "execution_count": 69,
   "id": "6f48d4f4-6aa5-434e-b308-9af4974db194",
   "metadata": {},
   "outputs": [],
   "source": [
    "t10 = (\"10\", \"20\", \"30\")"
   ]
  },
  {
   "cell_type": "code",
   "execution_count": 70,
   "id": "3f0f3cfc-687b-46b8-9f60-8142a0edffbe",
   "metadata": {},
   "outputs": [
    {
     "name": "stdout",
     "output_type": "stream",
     "text": [
      "the tuples are identical.\n"
     ]
    }
   ],
   "source": [
    "if t4 == t10:\n",
    "    print(\"the tuples are identical.\")\n",
    "else:\n",
    "    print(\"the tuples are not identical.\")"
   ]
  },
  {
   "cell_type": "code",
   "execution_count": 71,
   "id": "401d0360-9f64-4b5e-81d3-e2b975c1b03a",
   "metadata": {},
   "outputs": [
    {
     "data": {
      "text/plain": [
       "('hi', 'apple', 99, True, 3.55, ['blue', 'white'])"
      ]
     },
     "execution_count": 71,
     "metadata": {},
     "output_type": "execute_result"
    }
   ],
   "source": [
    "t9"
   ]
  },
  {
   "cell_type": "code",
   "execution_count": 72,
   "id": "a7638f30-4d41-4fbc-a430-3857a26282e7",
   "metadata": {},
   "outputs": [
    {
     "data": {
      "text/plain": [
       "('i', 'am', 'suraj', 'sharma')"
      ]
     },
     "execution_count": 72,
     "metadata": {},
     "output_type": "execute_result"
    }
   ],
   "source": [
    "t8"
   ]
  },
  {
   "cell_type": "code",
   "execution_count": 73,
   "id": "65b8942c-6957-4d98-8c72-81d2cd6d05ee",
   "metadata": {},
   "outputs": [
    {
     "name": "stdout",
     "output_type": "stream",
     "text": [
      "i am suraj sharma\n"
     ]
    }
   ],
   "source": [
    "print(\" \".join(t8))"
   ]
  },
  {
   "cell_type": "code",
   "execution_count": 74,
   "id": "0517d960-f87f-4692-a373-98b590a09e66",
   "metadata": {},
   "outputs": [
    {
     "data": {
      "text/plain": [
       "('i', 'am', 'suraj', 'sharma')"
      ]
     },
     "execution_count": 74,
     "metadata": {},
     "output_type": "execute_result"
    }
   ],
   "source": [
    "t8"
   ]
  },
  {
   "cell_type": "code",
   "execution_count": 93,
   "id": "1da527d2-898c-46df-b960-bc5860b3f91b",
   "metadata": {},
   "outputs": [],
   "source": [
    "t11 = (\"i love coding\")"
   ]
  },
  {
   "cell_type": "code",
   "execution_count": 92,
   "id": "d56137ed-4be9-4aa2-b3eb-d8377452f291",
   "metadata": {},
   "outputs": [
    {
     "ename": "NameError",
     "evalue": "name 't11' is not defined",
     "output_type": "error",
     "traceback": [
      "\u001b[0;31m---------------------------------------------------------------------------\u001b[0m",
      "\u001b[0;31mNameError\u001b[0m                                 Traceback (most recent call last)",
      "Cell \u001b[0;32mIn[92], line 1\u001b[0m\n\u001b[0;32m----> 1\u001b[0m \u001b[43mt11\u001b[49m\n",
      "\u001b[0;31mNameError\u001b[0m: name 't11' is not defined"
     ]
    }
   ],
   "source": [
    "t11"
   ]
  },
  {
   "cell_type": "code",
   "execution_count": 77,
   "id": "c1d8aa09-844c-4666-8500-be6f742762dc",
   "metadata": {},
   "outputs": [
    {
     "ename": "AttributeError",
     "evalue": "'str' object has no attribute 'sort'",
     "output_type": "error",
     "traceback": [
      "\u001b[0;31m---------------------------------------------------------------------------\u001b[0m",
      "\u001b[0;31mAttributeError\u001b[0m                            Traceback (most recent call last)",
      "Cell \u001b[0;32mIn[77], line 1\u001b[0m\n\u001b[0;32m----> 1\u001b[0m \u001b[43mt11\u001b[49m\u001b[38;5;241;43m.\u001b[39;49m\u001b[43msort\u001b[49m()\n",
      "\u001b[0;31mAttributeError\u001b[0m: 'str' object has no attribute 'sort'"
     ]
    }
   ],
   "source": [
    "t11.sort()"
   ]
  },
  {
   "cell_type": "code",
   "execution_count": 78,
   "id": "8409185b-73f0-4936-b432-ba08cf4567d4",
   "metadata": {},
   "outputs": [
    {
     "ename": "AttributeError",
     "evalue": "'tuple' object has no attribute 'sort'",
     "output_type": "error",
     "traceback": [
      "\u001b[0;31m---------------------------------------------------------------------------\u001b[0m",
      "\u001b[0;31mAttributeError\u001b[0m                            Traceback (most recent call last)",
      "Cell \u001b[0;32mIn[78], line 1\u001b[0m\n\u001b[0;32m----> 1\u001b[0m \u001b[43mt8\u001b[49m\u001b[38;5;241;43m.\u001b[39;49m\u001b[43msort\u001b[49m()\n",
      "\u001b[0;31mAttributeError\u001b[0m: 'tuple' object has no attribute 'sort'"
     ]
    }
   ],
   "source": [
    "t8.sort()"
   ]
  },
  {
   "cell_type": "code",
   "execution_count": 79,
   "id": "bbaabcf9-b151-4915-8058-62915454d813",
   "metadata": {},
   "outputs": [
    {
     "ename": "AttributeError",
     "evalue": "type object 'tuple' has no attribute 'sort'",
     "output_type": "error",
     "traceback": [
      "\u001b[0;31m---------------------------------------------------------------------------\u001b[0m",
      "\u001b[0;31mAttributeError\u001b[0m                            Traceback (most recent call last)",
      "Cell \u001b[0;32mIn[79], line 1\u001b[0m\n\u001b[0;32m----> 1\u001b[0m \u001b[43mt7\u001b[49m\u001b[38;5;241;43m.\u001b[39;49m\u001b[43msort\u001b[49m()\n",
      "\u001b[0;31mAttributeError\u001b[0m: type object 'tuple' has no attribute 'sort'"
     ]
    }
   ],
   "source": [
    "t7.sort()"
   ]
  },
  {
   "cell_type": "code",
   "execution_count": 80,
   "id": "7173fa44-862a-489c-980b-2a8246e0824a",
   "metadata": {},
   "outputs": [
    {
     "ename": "AttributeError",
     "evalue": "'tuple' object has no attribute 'sort'",
     "output_type": "error",
     "traceback": [
      "\u001b[0;31m---------------------------------------------------------------------------\u001b[0m",
      "\u001b[0;31mAttributeError\u001b[0m                            Traceback (most recent call last)",
      "Cell \u001b[0;32mIn[80], line 1\u001b[0m\n\u001b[0;32m----> 1\u001b[0m \u001b[43mt2\u001b[49m\u001b[38;5;241;43m.\u001b[39;49m\u001b[43msort\u001b[49m()\n",
      "\u001b[0;31mAttributeError\u001b[0m: 'tuple' object has no attribute 'sort'"
     ]
    }
   ],
   "source": [
    "t2.sort()"
   ]
  },
  {
   "cell_type": "code",
   "execution_count": 81,
   "id": "062166d6-6f1a-493e-ba2a-2d8def8d2291",
   "metadata": {},
   "outputs": [],
   "source": [
    "t8 = list(t8)"
   ]
  },
  {
   "cell_type": "code",
   "execution_count": 82,
   "id": "96318524-5fc1-4455-b421-d35da6ea58de",
   "metadata": {},
   "outputs": [],
   "source": [
    "t8.sort()"
   ]
  },
  {
   "cell_type": "code",
   "execution_count": 83,
   "id": "f782973d-b53e-42b4-8451-6e0779edec7e",
   "metadata": {},
   "outputs": [
    {
     "data": {
      "text/plain": [
       "['am', 'i', 'sharma', 'suraj']"
      ]
     },
     "execution_count": 83,
     "metadata": {},
     "output_type": "execute_result"
    }
   ],
   "source": [
    "t8"
   ]
  },
  {
   "cell_type": "code",
   "execution_count": 84,
   "id": "ebc0ed3a-a38c-416c-847d-3cde00301968",
   "metadata": {},
   "outputs": [],
   "source": [
    "t12 = (1,2,3,4,5,6,7,8,9,10)"
   ]
  },
  {
   "cell_type": "code",
   "execution_count": 85,
   "id": "08b0ad5a-6398-47c2-b413-07ba2dce68f7",
   "metadata": {},
   "outputs": [
    {
     "data": {
      "text/plain": [
       "(1, 2, 3, 4, 5, 6, 7, 8, 9, 10)"
      ]
     },
     "execution_count": 85,
     "metadata": {},
     "output_type": "execute_result"
    }
   ],
   "source": [
    "t12"
   ]
  },
  {
   "cell_type": "code",
   "execution_count": 86,
   "id": "64425d8f-6403-4e76-beb1-7667a80da3d1",
   "metadata": {},
   "outputs": [],
   "source": [
    "t12 = tuple(str(element) for element in t12)"
   ]
  },
  {
   "cell_type": "code",
   "execution_count": 87,
   "id": "a847f6a9-0523-4a2d-8c4d-9f233faf5460",
   "metadata": {},
   "outputs": [
    {
     "data": {
      "text/plain": [
       "('1', '2', '3', '4', '5', '6', '7', '8', '9', '10')"
      ]
     },
     "execution_count": 87,
     "metadata": {},
     "output_type": "execute_result"
    }
   ],
   "source": [
    "t12"
   ]
  },
  {
   "cell_type": "code",
   "execution_count": 88,
   "id": "6d0d5c12-96fb-4464-b65c-f3189903d708",
   "metadata": {},
   "outputs": [],
   "source": [
    "t13 = tuple(int(element) for element in t12)"
   ]
  },
  {
   "cell_type": "code",
   "execution_count": 90,
   "id": "3b69131e-88fb-46b9-9649-4dbe78aad1c0",
   "metadata": {},
   "outputs": [
    {
     "data": {
      "text/plain": [
       "(1, 2, 3, 4, 5, 6, 7, 8, 9, 10)"
      ]
     },
     "execution_count": 90,
     "metadata": {},
     "output_type": "execute_result"
    }
   ],
   "source": [
    "t13"
   ]
  },
  {
   "cell_type": "code",
   "execution_count": 91,
   "id": "3d8f42bc-f3e7-4b13-a418-528b20bbe955",
   "metadata": {},
   "outputs": [],
   "source": [
    "t13 = t1+t4"
   ]
  },
  {
   "cell_type": "code",
   "execution_count": 92,
   "id": "2b168eb4-eb56-4c6b-a0a0-d7e25a6acb36",
   "metadata": {},
   "outputs": [
    {
     "data": {
      "text/plain": [
       "(1, 2, 3, 4, 5, '10', '20', '30')"
      ]
     },
     "execution_count": 92,
     "metadata": {},
     "output_type": "execute_result"
    }
   ],
   "source": [
    "t13"
   ]
  },
  {
   "cell_type": "code",
   "execution_count": 93,
   "id": "66b74227-7218-498a-9eb5-5249d093def8",
   "metadata": {},
   "outputs": [
    {
     "data": {
      "text/plain": [
       "(('apple', 'banana', 'mango'), (1, 2, 3), ('a', 'b', 'm'))"
      ]
     },
     "execution_count": 93,
     "metadata": {},
     "output_type": "execute_result"
    }
   ],
   "source": [
    "n_t"
   ]
  },
  {
   "cell_type": "code",
   "execution_count": 94,
   "id": "5323183e-6a03-4cc8-b354-e6974700f05f",
   "metadata": {},
   "outputs": [
    {
     "ename": "NameError",
     "evalue": "name 'f_t' is not defined",
     "output_type": "error",
     "traceback": [
      "\u001b[0;31m---------------------------------------------------------------------------\u001b[0m",
      "\u001b[0;31mNameError\u001b[0m                                 Traceback (most recent call last)",
      "Cell \u001b[0;32mIn[94], line 1\u001b[0m\n\u001b[0;32m----> 1\u001b[0m f_t \u001b[38;5;241m=\u001b[39m \u001b[43mf_t\u001b[49m(n_t)\n",
      "\u001b[0;31mNameError\u001b[0m: name 'f_t' is not defined"
     ]
    }
   ],
   "source": [
    "f_t = f_t(n_t)"
   ]
  },
  {
   "cell_type": "code",
   "execution_count": 95,
   "id": "a93a7ef4-2585-469c-9fb8-a36309285db9",
   "metadata": {},
   "outputs": [],
   "source": [
    "primes = (2,3,5,7,11)"
   ]
  },
  {
   "cell_type": "code",
   "execution_count": 96,
   "id": "4d8e302f-9365-44c3-9ceb-269adbbbe8c9",
   "metadata": {},
   "outputs": [
    {
     "data": {
      "text/plain": [
       "(2, 3, 5, 7, 11)"
      ]
     },
     "execution_count": 96,
     "metadata": {},
     "output_type": "execute_result"
    }
   ],
   "source": [
    "primes"
   ]
  },
  {
   "cell_type": "code",
   "execution_count": 14,
   "id": "e52ac905-2fec-4545-8c21-01821fc59289",
   "metadata": {},
   "outputs": [
    {
     "data": {
      "text/plain": [
       "('1', '2', '3', '4', '5', '6', '7', '8', '9', '10')"
      ]
     },
     "execution_count": 14,
     "metadata": {},
     "output_type": "execute_result"
    }
   ],
   "source": [
    "t12"
   ]
  },
  {
   "cell_type": "code",
   "execution_count": 142,
   "id": "3c45c512-b410-4cd7-b095-12ec75c83584",
   "metadata": {},
   "outputs": [
    {
     "data": {
      "text/plain": [
       "(0, 1, 2, 3)"
      ]
     },
     "execution_count": 142,
     "metadata": {},
     "output_type": "execute_result"
    }
   ],
   "source": [
    "t13"
   ]
  },
  {
   "cell_type": "code",
   "execution_count": 143,
   "id": "2cf2ef95-6148-4be3-845d-d9c7990e096b",
   "metadata": {},
   "outputs": [],
   "source": [
    "ev_num = tuple(x for x in t13 if x % 2 == 0)"
   ]
  },
  {
   "cell_type": "code",
   "execution_count": 144,
   "id": "6fdae761-e092-433d-8042-8dfd579c80d8",
   "metadata": {},
   "outputs": [
    {
     "data": {
      "text/plain": [
       "(0, 2)"
      ]
     },
     "execution_count": 144,
     "metadata": {},
     "output_type": "execute_result"
    }
   ],
   "source": [
    "ev_num"
   ]
  },
  {
   "cell_type": "code",
   "execution_count": 140,
   "id": "35ee912c-5639-4143-91c2-8db23356a005",
   "metadata": {},
   "outputs": [
    {
     "data": {
      "text/plain": [
       "(0, 1, 2, 3)"
      ]
     },
     "execution_count": 140,
     "metadata": {},
     "output_type": "execute_result"
    }
   ],
   "source": [
    "t13"
   ]
  },
  {
   "cell_type": "code",
   "execution_count": 141,
   "id": "108d07f3-8b16-4f8d-a716-cb98367a1fed",
   "metadata": {},
   "outputs": [],
   "source": [
    "m_t = tuple(x*2 for x in t13)"
   ]
  },
  {
   "cell_type": "code",
   "execution_count": 103,
   "id": "b1514e33-d327-40c8-ab5f-52892fb6e16b",
   "metadata": {},
   "outputs": [
    {
     "data": {
      "text/plain": [
       "(2, 4, 6, 8, 10, '1010', '2020', '3030')"
      ]
     },
     "execution_count": 103,
     "metadata": {},
     "output_type": "execute_result"
    }
   ],
   "source": [
    "m_t"
   ]
  },
  {
   "cell_type": "code",
   "execution_count": 104,
   "id": "6e4a3e10-7d38-4a28-8678-5192cdadcf6e",
   "metadata": {},
   "outputs": [
    {
     "ename": "NameError",
     "evalue": "name 'random' is not defined",
     "output_type": "error",
     "traceback": [
      "\u001b[0;31m---------------------------------------------------------------------------\u001b[0m",
      "\u001b[0;31mNameError\u001b[0m                                 Traceback (most recent call last)",
      "Cell \u001b[0;32mIn[104], line 1\u001b[0m\n\u001b[0;32m----> 1\u001b[0m r_t \u001b[38;5;241m=\u001b[39m \u001b[38;5;28mtuple\u001b[39m(\u001b[43mrandom\u001b[49m\u001b[38;5;241m.\u001b[39mrandint(\u001b[38;5;241m1\u001b[39m,\u001b[38;5;241m100\u001b[39m))\n",
      "\u001b[0;31mNameError\u001b[0m: name 'random' is not defined"
     ]
    }
   ],
   "source": [
    "r_t = tuple(random.randint(1,100))"
   ]
  },
  {
   "cell_type": "code",
   "execution_count": 105,
   "id": "e99217f4-cc58-4508-a36f-59a8ed335486",
   "metadata": {},
   "outputs": [
    {
     "data": {
      "text/plain": [
       "(1, 2, 3, 4, 4, 5, 2, 3, 0, 7, 8)"
      ]
     },
     "execution_count": 105,
     "metadata": {},
     "output_type": "execute_result"
    }
   ],
   "source": [
    "t2"
   ]
  },
  {
   "cell_type": "code",
   "execution_count": 106,
   "id": "90e750ee-8111-4875-8e3a-6a09add30bb9",
   "metadata": {},
   "outputs": [],
   "source": [
    "t2 = list(t2)"
   ]
  },
  {
   "cell_type": "code",
   "execution_count": 108,
   "id": "94cd22b0-bf2b-46e9-9bba-7ff8fc545c4c",
   "metadata": {},
   "outputs": [
    {
     "ename": "AttributeError",
     "evalue": "'list' object has no attribute 'sorted'",
     "output_type": "error",
     "traceback": [
      "\u001b[0;31m---------------------------------------------------------------------------\u001b[0m",
      "\u001b[0;31mAttributeError\u001b[0m                            Traceback (most recent call last)",
      "Cell \u001b[0;32mIn[108], line 1\u001b[0m\n\u001b[0;32m----> 1\u001b[0m \u001b[43mt2\u001b[49m\u001b[38;5;241;43m.\u001b[39;49m\u001b[43msorted\u001b[49m(t2)\n",
      "\u001b[0;31mAttributeError\u001b[0m: 'list' object has no attribute 'sorted'"
     ]
    }
   ],
   "source": [
    "t2.sorted(t2)"
   ]
  },
  {
   "cell_type": "code",
   "execution_count": 109,
   "id": "08fb66d2-e8a1-4cc2-aa58-b7e2e390b8d0",
   "metadata": {},
   "outputs": [],
   "source": [
    "sort = tuple(sorted(t2)) == t2"
   ]
  },
  {
   "cell_type": "code",
   "execution_count": 111,
   "id": "29734395-2450-43b7-97b8-495b5011f381",
   "metadata": {},
   "outputs": [
    {
     "name": "stdout",
     "output_type": "stream",
     "text": [
      "False\n"
     ]
    }
   ],
   "source": [
    "print(sort)"
   ]
  },
  {
   "cell_type": "code",
   "execution_count": 94,
   "id": "3af1c069-94ed-4682-a7f2-7163ec58849b",
   "metadata": {},
   "outputs": [
    {
     "ename": "SyntaxError",
     "evalue": "invalid syntax (1737228485.py, line 1)",
     "output_type": "error",
     "traceback": [
      "\u001b[0;36m  Cell \u001b[0;32mIn[94], line 1\u001b[0;36m\u001b[0m\n\u001b[0;31m    leftshift(t2, n):\u001b[0m\n\u001b[0m                    ^\u001b[0m\n\u001b[0;31mSyntaxError\u001b[0m\u001b[0;31m:\u001b[0m invalid syntax\n"
     ]
    }
   ],
   "source": [
    "leftshift(t2, n):\n",
    "length = len(t2)\n",
    "if length !=0:\n",
    "    n = n % length\n",
    "else:\n",
    "    return t2()\n",
    "return t2[n:] + t2[0:n]"
   ]
  },
  {
   "cell_type": "code",
   "execution_count": 121,
   "id": "8a3b9c88-cb9f-4bbe-8914-e5faa9e35ef0",
   "metadata": {},
   "outputs": [
    {
     "name": "stdin",
     "output_type": "stream",
     "text": [
      "enter tuple 25\n"
     ]
    }
   ],
   "source": [
    "t12 = tuple(input(\"enter tuple\"))"
   ]
  },
  {
   "cell_type": "code",
   "execution_count": 122,
   "id": "dd50a02f-6b03-4e13-a247-fc35951eb960",
   "metadata": {},
   "outputs": [
    {
     "data": {
      "text/plain": [
       "('2', '5')"
      ]
     },
     "execution_count": 122,
     "metadata": {},
     "output_type": "execute_result"
    }
   ],
   "source": [
    "t12"
   ]
  },
  {
   "cell_type": "code",
   "execution_count": 123,
   "id": "00df2478-5c91-45f4-84e7-474a6846470e",
   "metadata": {},
   "outputs": [],
   "source": [
    "t13 = (0,1,2,3)"
   ]
  },
  {
   "cell_type": "code",
   "execution_count": 124,
   "id": "f4ff08b7-3855-4876-a379-8b425de84e1e",
   "metadata": {},
   "outputs": [
    {
     "data": {
      "text/plain": [
       "(0, 1, 2, 3)"
      ]
     },
     "execution_count": 124,
     "metadata": {},
     "output_type": "execute_result"
    }
   ],
   "source": [
    "t13"
   ]
  },
  {
   "cell_type": "code",
   "execution_count": 125,
   "id": "8e79272f-7686-4e98-bbb2-e6e859437437",
   "metadata": {},
   "outputs": [],
   "source": [
    "ls = list(t13)"
   ]
  },
  {
   "cell_type": "code",
   "execution_count": 126,
   "id": "3e94af55-f15c-4885-8b45-c5853c3d0d6c",
   "metadata": {},
   "outputs": [
    {
     "data": {
      "text/plain": [
       "[0, 1, 2, 3]"
      ]
     },
     "execution_count": 126,
     "metadata": {},
     "output_type": "execute_result"
    }
   ],
   "source": [
    "ls"
   ]
  },
  {
   "cell_type": "code",
   "execution_count": 127,
   "id": "a0886afa-cf0f-4459-8db6-f5fd40463751",
   "metadata": {},
   "outputs": [],
   "source": [
    "ls[0], ls[1] = ls[1], ls[0]"
   ]
  },
  {
   "cell_type": "code",
   "execution_count": 128,
   "id": "5780041d-58a3-4e24-95fb-aad20db2f5c1",
   "metadata": {},
   "outputs": [],
   "source": [
    "new_t = tuple(ls)"
   ]
  },
  {
   "cell_type": "code",
   "execution_count": 130,
   "id": "37f010f0-a193-424e-9d0b-0f79585d84cd",
   "metadata": {},
   "outputs": [
    {
     "data": {
      "text/plain": [
       "(1, 0, 2, 3)"
      ]
     },
     "execution_count": 130,
     "metadata": {},
     "output_type": "execute_result"
    }
   ],
   "source": [
    "new_t"
   ]
  },
  {
   "cell_type": "code",
   "execution_count": 131,
   "id": "57901bb2-f8f7-4a15-b140-fae6afd720d4",
   "metadata": {},
   "outputs": [],
   "source": [
    "new_t = tuple(reversed(new_t))"
   ]
  },
  {
   "cell_type": "code",
   "execution_count": 132,
   "id": "7691a0de-d4ef-4711-888e-a65e1baf8687",
   "metadata": {},
   "outputs": [
    {
     "data": {
      "text/plain": [
       "(3, 2, 0, 1)"
      ]
     },
     "execution_count": 132,
     "metadata": {},
     "output_type": "execute_result"
    }
   ],
   "source": [
    "new_t"
   ]
  },
  {
   "cell_type": "code",
   "execution_count": 133,
   "id": "8dce990f-06fe-40c1-8d56-4c65d0233222",
   "metadata": {},
   "outputs": [],
   "source": [
    "t8 = max(t8,key=len)"
   ]
  },
  {
   "cell_type": "code",
   "execution_count": 134,
   "id": "883ddf6b-b1ba-48d0-b55c-37f0871e4789",
   "metadata": {},
   "outputs": [
    {
     "data": {
      "text/plain": [
       "'sharma'"
      ]
     },
     "execution_count": 134,
     "metadata": {},
     "output_type": "execute_result"
    }
   ],
   "source": [
    "t8"
   ]
  },
  {
   "cell_type": "code",
   "execution_count": 135,
   "id": "412b33ab-489a-4f3b-9929-6c28377cbf15",
   "metadata": {},
   "outputs": [],
   "source": [
    "t8 = min(t8,key=len)"
   ]
  },
  {
   "cell_type": "code",
   "execution_count": 136,
   "id": "8e84b434-4413-4494-a1ee-24b20aab5608",
   "metadata": {},
   "outputs": [
    {
     "data": {
      "text/plain": [
       "'s'"
      ]
     },
     "execution_count": 136,
     "metadata": {},
     "output_type": "execute_result"
    }
   ],
   "source": [
    "t8"
   ]
  },
  {
   "cell_type": "code",
   "execution_count": 145,
   "id": "37098410-f670-43f0-9b42-8304fa28586c",
   "metadata": {},
   "outputs": [],
   "source": [
    "t14 = (0,1,2,3,4,5,6)"
   ]
  },
  {
   "cell_type": "code",
   "execution_count": 146,
   "id": "6312f605-55fe-46bf-9680-210696840967",
   "metadata": {},
   "outputs": [],
   "source": [
    "t15 = (5,6)"
   ]
  },
  {
   "cell_type": "code",
   "execution_count": 147,
   "id": "cbf3adca-2a9d-42ec-b4d6-82d00def94d0",
   "metadata": {},
   "outputs": [
    {
     "name": "stdout",
     "output_type": "stream",
     "text": [
      "the tuple does not contains the sub-tuple as a subsequence\n"
     ]
    }
   ],
   "source": [
    "if t15 in t14:\n",
    "    print(\"the tuple contains the sub-tuple as a subsequence\")\n",
    "else:\n",
    "    print(\"the tuple does not contains the sub-tuple as a subsequence\")"
   ]
  },
  {
   "cell_type": "code",
   "execution_count": 149,
   "id": "d66ddc7e-073f-4d25-b489-64e942240c55",
   "metadata": {},
   "outputs": [],
   "source": [
    "t_a = tuple(1 if i % 2 == 0 else 0 for i in range(length))"
   ]
  },
  {
   "cell_type": "code",
   "execution_count": 150,
   "id": "a14325e9-07e3-4f83-97d9-865dc38317df",
   "metadata": {},
   "outputs": [
    {
     "data": {
      "text/plain": [
       "(1, 0, 1, 0, 1, 0, 1, 0, 1, 0, 1)"
      ]
     },
     "execution_count": 150,
     "metadata": {},
     "output_type": "execute_result"
    }
   ],
   "source": [
    "t_a"
   ]
  },
  {
   "cell_type": "code",
   "execution_count": 153,
   "id": "cdee3231-66f3-4e1d-896b-47766c0e47c3",
   "metadata": {},
   "outputs": [],
   "source": [
    "#Set based practive problem"
   ]
  },
  {
   "cell_type": "code",
   "execution_count": 11,
   "id": "89682e9e-3de6-49e4-adf4-2d312b167d61",
   "metadata": {},
   "outputs": [],
   "source": [
    "s1 = {1,2,3,4,5}"
   ]
  },
  {
   "cell_type": "code",
   "execution_count": 12,
   "id": "0b1ce968-db5d-4ba8-9d77-f66b9301c38f",
   "metadata": {},
   "outputs": [
    {
     "data": {
      "text/plain": [
       "{1, 2, 3, 4, 5}"
      ]
     },
     "execution_count": 12,
     "metadata": {},
     "output_type": "execute_result"
    }
   ],
   "source": [
    "s1"
   ]
  },
  {
   "cell_type": "code",
   "execution_count": 13,
   "id": "6cb07e14-4a46-4139-9d8d-19b65f829902",
   "metadata": {},
   "outputs": [],
   "source": [
    "s1.add(6)"
   ]
  },
  {
   "cell_type": "code",
   "execution_count": 14,
   "id": "4f0f06a5-b13f-4280-9adf-a1d3f944e8d6",
   "metadata": {},
   "outputs": [
    {
     "data": {
      "text/plain": [
       "{1, 2, 3, 4, 5, 6}"
      ]
     },
     "execution_count": 14,
     "metadata": {},
     "output_type": "execute_result"
    }
   ],
   "source": [
    "s1"
   ]
  },
  {
   "cell_type": "code",
   "execution_count": 15,
   "id": "6ed1fbeb-e045-4c4f-be05-7a96c23d8b3a",
   "metadata": {},
   "outputs": [
    {
     "ename": "KeyError",
     "evalue": "'5'",
     "output_type": "error",
     "traceback": [
      "\u001b[0;31m---------------------------------------------------------------------------\u001b[0m",
      "\u001b[0;31mKeyError\u001b[0m                                  Traceback (most recent call last)",
      "Cell \u001b[0;32mIn[15], line 1\u001b[0m\n\u001b[0;32m----> 1\u001b[0m \u001b[43ms1\u001b[49m\u001b[38;5;241;43m.\u001b[39;49m\u001b[43mremove\u001b[49m\u001b[43m(\u001b[49m\u001b[38;5;124;43m'\u001b[39;49m\u001b[38;5;124;43m5\u001b[39;49m\u001b[38;5;124;43m'\u001b[39;49m\u001b[43m)\u001b[49m\n",
      "\u001b[0;31mKeyError\u001b[0m: '5'"
     ]
    }
   ],
   "source": [
    "s1.remove('5')"
   ]
  },
  {
   "cell_type": "code",
   "execution_count": 16,
   "id": "a48dc6f0-fdcc-453c-b6df-5d7185f78ddc",
   "metadata": {},
   "outputs": [
    {
     "data": {
      "text/plain": [
       "{1, 2, 3, 4, 5, 6}"
      ]
     },
     "execution_count": 16,
     "metadata": {},
     "output_type": "execute_result"
    }
   ],
   "source": [
    "s1"
   ]
  },
  {
   "cell_type": "code",
   "execution_count": 17,
   "id": "90e11bb0-f354-4c47-9229-35ca2a0c7dc4",
   "metadata": {},
   "outputs": [],
   "source": [
    "s1.remove(5)"
   ]
  },
  {
   "cell_type": "code",
   "execution_count": 18,
   "id": "3faf2ffa-1d7e-4af7-abe2-1aff77aab3f4",
   "metadata": {},
   "outputs": [
    {
     "data": {
      "text/plain": [
       "{1, 2, 3, 4, 6}"
      ]
     },
     "execution_count": 18,
     "metadata": {},
     "output_type": "execute_result"
    }
   ],
   "source": [
    "s1"
   ]
  },
  {
   "cell_type": "code",
   "execution_count": 19,
   "id": "e10c127b-76cb-4026-b3ff-e1b5d56b9b23",
   "metadata": {},
   "outputs": [
    {
     "name": "stdout",
     "output_type": "stream",
     "text": [
      "True\n"
     ]
    }
   ],
   "source": [
    "print(4 in s1)"
   ]
  },
  {
   "cell_type": "code",
   "execution_count": 24,
   "id": "bd67bce5-fbdf-4a22-aeda-25d5d9daeda2",
   "metadata": {},
   "outputs": [
    {
     "name": "stdout",
     "output_type": "stream",
     "text": [
      "False\n"
     ]
    }
   ],
   "source": [
    "print(0 in s1)"
   ]
  },
  {
   "cell_type": "code",
   "execution_count": 25,
   "id": "452f03bd-9e02-442f-9cfa-da6a71752902",
   "metadata": {},
   "outputs": [
    {
     "ename": "SyntaxError",
     "evalue": "invalid syntax (3961343805.py, line 4)",
     "output_type": "error",
     "traceback": [
      "\u001b[0;36m  Cell \u001b[0;32mIn[25], line 4\u001b[0;36m\u001b[0m\n\u001b[0;31m    for_in s1:\u001b[0m\n\u001b[0m           ^\u001b[0m\n\u001b[0;31mSyntaxError\u001b[0m\u001b[0;31m:\u001b[0m invalid syntax\n"
     ]
    }
   ],
   "source": [
    "s1 = {1, 2, 3, 4, 6}\n",
    "count = 0\n",
    "\n",
    "for_in s1:\n",
    "    count += 1\n",
    "print(count) "
   ]
  },
  {
   "cell_type": "code",
   "execution_count": 22,
   "id": "cc8a2dac-fdf2-445e-a669-985c673bc05d",
   "metadata": {},
   "outputs": [],
   "source": [
    "s2 = {0,1,2,3,4,5,4,6}"
   ]
  },
  {
   "cell_type": "code",
   "execution_count": 26,
   "id": "f84d5cb9-fb16-4bf5-9106-1eece671d5a2",
   "metadata": {},
   "outputs": [
    {
     "data": {
      "text/plain": [
       "{0, 1, 2, 3, 4, 5, 6}"
      ]
     },
     "execution_count": 26,
     "metadata": {},
     "output_type": "execute_result"
    }
   ],
   "source": [
    "s2"
   ]
  },
  {
   "cell_type": "code",
   "execution_count": 27,
   "id": "4d8cac6b-f015-4dca-85e9-288f3b35c8e1",
   "metadata": {},
   "outputs": [],
   "source": [
    "s2.clear()"
   ]
  },
  {
   "cell_type": "code",
   "execution_count": 28,
   "id": "445f652b-e591-4ef4-b191-bbb2a25b53c6",
   "metadata": {},
   "outputs": [
    {
     "data": {
      "text/plain": [
       "set()"
      ]
     },
     "execution_count": 28,
     "metadata": {},
     "output_type": "execute_result"
    }
   ],
   "source": [
    "s2"
   ]
  },
  {
   "cell_type": "code",
   "execution_count": 29,
   "id": "e6eaf28d-eea3-4c29-9d2f-b232c6efbd18",
   "metadata": {},
   "outputs": [],
   "source": [
    "ev_num = set()\n",
    "\n",
    "for num in range(1,11):\n",
    "    if num % 2  == 0:\n",
    "        ev_num.add(num)"
   ]
  },
  {
   "cell_type": "code",
   "execution_count": 30,
   "id": "792eb9b3-0fee-4edb-9c10-21b7349b69c7",
   "metadata": {},
   "outputs": [
    {
     "data": {
      "text/plain": [
       "{2, 4, 6, 8, 10}"
      ]
     },
     "execution_count": 30,
     "metadata": {},
     "output_type": "execute_result"
    }
   ],
   "source": [
    "ev_num"
   ]
  },
  {
   "cell_type": "code",
   "execution_count": 31,
   "id": "1f12698d-f78c-4265-b3b7-584094fe9316",
   "metadata": {},
   "outputs": [],
   "source": [
    "od_num = set()\n",
    "\n",
    "for num in range(1,11):\n",
    "    if num % 2 != 0:\n",
    "        od_num.add(num)"
   ]
  },
  {
   "cell_type": "code",
   "execution_count": 32,
   "id": "a610901a-81a1-4619-9bc3-e70d61a602e8",
   "metadata": {},
   "outputs": [
    {
     "data": {
      "text/plain": [
       "{1, 3, 5, 7, 9}"
      ]
     },
     "execution_count": 32,
     "metadata": {},
     "output_type": "execute_result"
    }
   ],
   "source": [
    "od_num"
   ]
  },
  {
   "cell_type": "code",
   "execution_count": 33,
   "id": "c173c92f-c60a-4e52-842c-b012554a9b47",
   "metadata": {},
   "outputs": [
    {
     "data": {
      "text/plain": [
       "{1, 2, 3, 4, 6}"
      ]
     },
     "execution_count": 33,
     "metadata": {},
     "output_type": "execute_result"
    }
   ],
   "source": [
    "s1"
   ]
  },
  {
   "cell_type": "code",
   "execution_count": 34,
   "id": "dcc01f32-0abb-43a7-b8a0-4107ddb580d3",
   "metadata": {},
   "outputs": [
    {
     "data": {
      "text/plain": [
       "set()"
      ]
     },
     "execution_count": 34,
     "metadata": {},
     "output_type": "execute_result"
    }
   ],
   "source": [
    "s2"
   ]
  },
  {
   "cell_type": "code",
   "execution_count": 35,
   "id": "a103a48e-8b5e-4728-8ca4-b6e9ea23860d",
   "metadata": {},
   "outputs": [],
   "source": [
    "s3 = {6,7,8,9,10}"
   ]
  },
  {
   "cell_type": "code",
   "execution_count": 36,
   "id": "efa0e540-5089-47d4-ad75-3fdfae0b9af6",
   "metadata": {},
   "outputs": [
    {
     "data": {
      "text/plain": [
       "{6, 7, 8, 9, 10}"
      ]
     },
     "execution_count": 36,
     "metadata": {},
     "output_type": "execute_result"
    }
   ],
   "source": [
    "s3"
   ]
  },
  {
   "cell_type": "code",
   "execution_count": 37,
   "id": "8bf34488-725c-4fa4-8bbd-62b4c9e4a68f",
   "metadata": {},
   "outputs": [],
   "source": [
    "u_s = s1.union(s3)"
   ]
  },
  {
   "cell_type": "code",
   "execution_count": 38,
   "id": "d54c9fe3-78fa-4231-8e90-6c027fd479fd",
   "metadata": {},
   "outputs": [
    {
     "data": {
      "text/plain": [
       "{1, 2, 3, 4, 6, 7, 8, 9, 10}"
      ]
     },
     "execution_count": 38,
     "metadata": {},
     "output_type": "execute_result"
    }
   ],
   "source": [
    "u_s"
   ]
  },
  {
   "cell_type": "code",
   "execution_count": 39,
   "id": "0a64f1e0-8fde-4b6f-856a-24ac90095b0b",
   "metadata": {},
   "outputs": [],
   "source": [
    "i_s = s1.intersection(s3)"
   ]
  },
  {
   "cell_type": "code",
   "execution_count": 40,
   "id": "3c702dba-d2c3-4bdb-89a2-fb9f2fd40ea9",
   "metadata": {},
   "outputs": [
    {
     "data": {
      "text/plain": [
       "{6}"
      ]
     },
     "execution_count": 40,
     "metadata": {},
     "output_type": "execute_result"
    }
   ],
   "source": [
    "i_s"
   ]
  },
  {
   "cell_type": "code",
   "execution_count": 42,
   "id": "215a22ff-a790-435b-a451-88569c5ca857",
   "metadata": {},
   "outputs": [],
   "source": [
    "d_s = s1.difference(s3)"
   ]
  },
  {
   "cell_type": "code",
   "execution_count": 43,
   "id": "43ca1ecc-cb43-4da4-99b0-5be63685e56d",
   "metadata": {},
   "outputs": [
    {
     "data": {
      "text/plain": [
       "{1, 2, 3, 4}"
      ]
     },
     "execution_count": 43,
     "metadata": {},
     "output_type": "execute_result"
    }
   ],
   "source": [
    "d_s"
   ]
  },
  {
   "cell_type": "code",
   "execution_count": 44,
   "id": "fe293e14-59a7-4f4b-a006-a26124e3f216",
   "metadata": {},
   "outputs": [
    {
     "data": {
      "text/plain": [
       "True"
      ]
     },
     "execution_count": 44,
     "metadata": {},
     "output_type": "execute_result"
    }
   ],
   "source": [
    "s1.issuperset(s2)"
   ]
  },
  {
   "cell_type": "code",
   "execution_count": 45,
   "id": "dfcf6ee0-f2b2-4685-b1f9-3b7137791cae",
   "metadata": {},
   "outputs": [],
   "source": [
    "s4 = {0,1,2,3,4,5,6,7,8}"
   ]
  },
  {
   "cell_type": "code",
   "execution_count": 46,
   "id": "7230e69a-66a3-41cc-8f1a-ce18bd3b7e4d",
   "metadata": {},
   "outputs": [],
   "source": [
    "s5 = {1,2,3}"
   ]
  },
  {
   "cell_type": "code",
   "execution_count": 47,
   "id": "39e771f6-4e13-4b20-8104-70e4ac60eb4d",
   "metadata": {},
   "outputs": [
    {
     "data": {
      "text/plain": [
       "False"
      ]
     },
     "execution_count": 47,
     "metadata": {},
     "output_type": "execute_result"
    }
   ],
   "source": [
    "s4.issuperset(s3)"
   ]
  },
  {
   "cell_type": "code",
   "execution_count": 48,
   "id": "529acde6-667d-491e-8965-3a9232021e1f",
   "metadata": {},
   "outputs": [
    {
     "data": {
      "text/plain": [
       "True"
      ]
     },
     "execution_count": 48,
     "metadata": {},
     "output_type": "execute_result"
    }
   ],
   "source": [
    "s4.issuperset(s5)"
   ]
  },
  {
   "cell_type": "code",
   "execution_count": 49,
   "id": "e2741eac-2c61-449e-925d-81ed8ba24e7e",
   "metadata": {},
   "outputs": [
    {
     "data": {
      "text/plain": [
       "True"
      ]
     },
     "execution_count": 49,
     "metadata": {},
     "output_type": "execute_result"
    }
   ],
   "source": [
    "s5.issubset(s4)"
   ]
  },
  {
   "cell_type": "code",
   "execution_count": 50,
   "id": "bfac911f-9a08-4133-8bb5-e10cd008c30c",
   "metadata": {},
   "outputs": [
    {
     "data": {
      "text/plain": [
       "False"
      ]
     },
     "execution_count": 50,
     "metadata": {},
     "output_type": "execute_result"
    }
   ],
   "source": [
    "s4.issubset(s5)"
   ]
  },
  {
   "cell_type": "code",
   "execution_count": 51,
   "id": "a2e4e131-d551-4d84-a235-d98064c4e243",
   "metadata": {},
   "outputs": [],
   "source": [
    "l1 = [1,2]"
   ]
  },
  {
   "cell_type": "code",
   "execution_count": 52,
   "id": "6f473a67-d604-4d23-bf8d-d1875bb24053",
   "metadata": {},
   "outputs": [],
   "source": [
    "s6 = set(l1)"
   ]
  },
  {
   "cell_type": "code",
   "execution_count": 53,
   "id": "7586b068-85dc-427b-9048-c71a0fbda587",
   "metadata": {},
   "outputs": [
    {
     "data": {
      "text/plain": [
       "{1, 2}"
      ]
     },
     "execution_count": 53,
     "metadata": {},
     "output_type": "execute_result"
    }
   ],
   "source": [
    "s6"
   ]
  },
  {
   "cell_type": "code",
   "execution_count": 54,
   "id": "3fd84d2b-6d94-485f-ac19-c3b2dc0554b2",
   "metadata": {},
   "outputs": [],
   "source": [
    "l2 = list(s6)"
   ]
  },
  {
   "cell_type": "code",
   "execution_count": 55,
   "id": "d2032468-0dcf-494f-aab8-5ba4bdb964c8",
   "metadata": {},
   "outputs": [
    {
     "data": {
      "text/plain": [
       "[1, 2]"
      ]
     },
     "execution_count": 55,
     "metadata": {},
     "output_type": "execute_result"
    }
   ],
   "source": [
    "l2"
   ]
  },
  {
   "cell_type": "code",
   "execution_count": 56,
   "id": "6632095c-9816-4f9b-a9a9-a7ac09469a74",
   "metadata": {},
   "outputs": [
    {
     "data": {
      "text/plain": [
       "0"
      ]
     },
     "execution_count": 56,
     "metadata": {},
     "output_type": "execute_result"
    }
   ],
   "source": [
    "s4.pop()"
   ]
  },
  {
   "cell_type": "code",
   "execution_count": 57,
   "id": "d7e14c65-6950-467b-bcbe-91eabbd311fc",
   "metadata": {},
   "outputs": [
    {
     "data": {
      "text/plain": [
       "{1, 2, 3, 4, 5, 6, 7, 8}"
      ]
     },
     "execution_count": 57,
     "metadata": {},
     "output_type": "execute_result"
    }
   ],
   "source": [
    "s4"
   ]
  },
  {
   "cell_type": "code",
   "execution_count": 58,
   "id": "e7c55859-b508-4da4-ae32-ffeed36e21e2",
   "metadata": {},
   "outputs": [
    {
     "data": {
      "text/plain": [
       "1"
      ]
     },
     "execution_count": 58,
     "metadata": {},
     "output_type": "execute_result"
    }
   ],
   "source": [
    "s4.pop()"
   ]
  },
  {
   "cell_type": "code",
   "execution_count": 59,
   "id": "8e710193-9a19-43b3-80d8-953607389ce5",
   "metadata": {},
   "outputs": [
    {
     "data": {
      "text/plain": [
       "{2, 3, 4, 5, 6, 7, 8}"
      ]
     },
     "execution_count": 59,
     "metadata": {},
     "output_type": "execute_result"
    }
   ],
   "source": [
    "s4"
   ]
  },
  {
   "cell_type": "code",
   "execution_count": 60,
   "id": "07540110-6dd0-40a4-976b-190fc4e02bbf",
   "metadata": {},
   "outputs": [
    {
     "ename": "SyntaxError",
     "evalue": "invalid syntax. Perhaps you forgot a comma? (695273501.py, line 1)",
     "output_type": "error",
     "traceback": [
      "\u001b[0;36m  Cell \u001b[0;32mIn[60], line 1\u001b[0;36m\u001b[0m\n\u001b[0;31m    print(\"an element from the s4:\" random.choice(s4))\u001b[0m\n\u001b[0m          ^\u001b[0m\n\u001b[0;31mSyntaxError\u001b[0m\u001b[0;31m:\u001b[0m invalid syntax. Perhaps you forgot a comma?\n"
     ]
    }
   ],
   "source": [
    "print(\"an element from the s4:\" random.choice(s4))"
   ]
  },
  {
   "cell_type": "code",
   "execution_count": 61,
   "id": "51096eb2-a240-4671-b979-1409548a67d7",
   "metadata": {},
   "outputs": [
    {
     "data": {
      "text/plain": [
       "2"
      ]
     },
     "execution_count": 61,
     "metadata": {},
     "output_type": "execute_result"
    }
   ],
   "source": [
    "s4.pop()"
   ]
  },
  {
   "cell_type": "code",
   "execution_count": 62,
   "id": "21cf91bd-262a-438a-a304-da34c5d54f61",
   "metadata": {},
   "outputs": [
    {
     "ename": "NameError",
     "evalue": "name 'random' is not defined",
     "output_type": "error",
     "traceback": [
      "\u001b[0;31m---------------------------------------------------------------------------\u001b[0m",
      "\u001b[0;31mNameError\u001b[0m                                 Traceback (most recent call last)",
      "Cell \u001b[0;32mIn[62], line 1\u001b[0m\n\u001b[0;32m----> 1\u001b[0m s4\u001b[38;5;241m.\u001b[39mpop(\u001b[43mrandom\u001b[49m\u001b[38;5;241m.\u001b[39msample(s4,\u001b[38;5;241m1\u001b[39m))\n",
      "\u001b[0;31mNameError\u001b[0m: name 'random' is not defined"
     ]
    }
   ],
   "source": [
    "s4.pop(random.sample(s4,1))"
   ]
  },
  {
   "cell_type": "code",
   "execution_count": 63,
   "id": "b15e618d-747b-45ed-b549-8b754b82e867",
   "metadata": {},
   "outputs": [
    {
     "data": {
      "text/plain": [
       "{3, 4, 5, 6, 7, 8}"
      ]
     },
     "execution_count": 63,
     "metadata": {},
     "output_type": "execute_result"
    }
   ],
   "source": [
    "s4"
   ]
  },
  {
   "cell_type": "code",
   "execution_count": 64,
   "id": "df6d8c96-13b2-46ea-a13a-673c578b4d59",
   "metadata": {},
   "outputs": [
    {
     "data": {
      "text/plain": [
       "{1, 2, 3}"
      ]
     },
     "execution_count": 64,
     "metadata": {},
     "output_type": "execute_result"
    }
   ],
   "source": [
    "s5"
   ]
  },
  {
   "cell_type": "code",
   "execution_count": 65,
   "id": "b4e6e51f-4941-45f5-98d8-23dbebf446c4",
   "metadata": {},
   "outputs": [],
   "source": [
    "u_c = s3.isdisjoint(s4)"
   ]
  },
  {
   "cell_type": "code",
   "execution_count": 66,
   "id": "62325e09-fb2e-4f75-ad76-7bea25ea8211",
   "metadata": {},
   "outputs": [
    {
     "data": {
      "text/plain": [
       "False"
      ]
     },
     "execution_count": 66,
     "metadata": {},
     "output_type": "execute_result"
    }
   ],
   "source": [
    "u_c"
   ]
  },
  {
   "cell_type": "code",
   "execution_count": 67,
   "id": "f1b38917-8bde-4416-88d4-18ac49cdd959",
   "metadata": {},
   "outputs": [
    {
     "name": "stdout",
     "output_type": "stream",
     "text": [
      "the sets have common elements\n"
     ]
    }
   ],
   "source": [
    "if s3.isdisjoint(s4):\n",
    "    print(\"the sets have no common elements\")\n",
    "else:\n",
    "    print(\"the sets have common elements\")"
   ]
  },
  {
   "cell_type": "code",
   "execution_count": 68,
   "id": "07564510-220a-4200-a900-a476ac73f74f",
   "metadata": {},
   "outputs": [
    {
     "data": {
      "text/plain": [
       "{3, 4, 5, 9, 10}"
      ]
     },
     "execution_count": 68,
     "metadata": {},
     "output_type": "execute_result"
    }
   ],
   "source": [
    "s3.symmetric_difference(s4)"
   ]
  },
  {
   "cell_type": "code",
   "execution_count": 69,
   "id": "25e2b5c0-2057-4757-959c-0f878403a922",
   "metadata": {},
   "outputs": [],
   "source": [
    "s3.update(s4)"
   ]
  },
  {
   "cell_type": "code",
   "execution_count": 70,
   "id": "0ee4996d-d2b0-427a-ab13-24cb85270e91",
   "metadata": {},
   "outputs": [
    {
     "data": {
      "text/plain": [
       "{3, 4, 5, 6, 7, 8, 9, 10}"
      ]
     },
     "execution_count": 70,
     "metadata": {},
     "output_type": "execute_result"
    }
   ],
   "source": [
    "s3"
   ]
  },
  {
   "cell_type": "code",
   "execution_count": 71,
   "id": "ca20d52f-2d94-4ad0-b5f1-e672df4cbcf5",
   "metadata": {},
   "outputs": [
    {
     "name": "stdout",
     "output_type": "stream",
     "text": [
      "not identical\n"
     ]
    }
   ],
   "source": [
    "if set(s3) == set(s4):\n",
    "    print(\"identical\")\n",
    "else:\n",
    "    print(\"not identical\")"
   ]
  },
  {
   "cell_type": "code",
   "execution_count": 72,
   "id": "31cd7393-f8c5-4b0e-bc96-b2b4686969a3",
   "metadata": {},
   "outputs": [],
   "source": [
    "s6 = {9,8,7,6}"
   ]
  },
  {
   "cell_type": "code",
   "execution_count": 73,
   "id": "da0679ff-cda9-4a72-b5e0-ac9f7b5818eb",
   "metadata": {},
   "outputs": [
    {
     "data": {
      "text/plain": [
       "{6, 7, 8, 9}"
      ]
     },
     "execution_count": 73,
     "metadata": {},
     "output_type": "execute_result"
    }
   ],
   "source": [
    "s6"
   ]
  },
  {
   "cell_type": "code",
   "execution_count": 74,
   "id": "e5d57164-a5c0-4e16-a891-0774325a77b6",
   "metadata": {},
   "outputs": [],
   "source": [
    "s6 = frozenset([6,7,8,9])"
   ]
  },
  {
   "cell_type": "code",
   "execution_count": 75,
   "id": "fff2c958-132d-43a7-a6ef-a341236666d9",
   "metadata": {},
   "outputs": [
    {
     "data": {
      "text/plain": [
       "frozenset({6, 7, 8, 9})"
      ]
     },
     "execution_count": 75,
     "metadata": {},
     "output_type": "execute_result"
    }
   ],
   "source": [
    "s6"
   ]
  },
  {
   "cell_type": "code",
   "execution_count": 76,
   "id": "d2a9d98b-4e43-4bdc-937a-f8f6cb36eca5",
   "metadata": {},
   "outputs": [
    {
     "name": "stdout",
     "output_type": "stream",
     "text": [
      "s4 and s5 are not disjoint.\n"
     ]
    }
   ],
   "source": [
    "if s4.isdisjoint(s5):\n",
    "    print(\"s4 and s5 are disjoint.\")\n",
    "else:\n",
    "    print(\"s4 and s5 are not disjoint.\")    "
   ]
  },
  {
   "cell_type": "code",
   "execution_count": 77,
   "id": "25036e2f-121f-4167-8111-ea8df1f1c951",
   "metadata": {},
   "outputs": [],
   "source": [
    "s7 = {1,3,5,6,7}"
   ]
  },
  {
   "cell_type": "code",
   "execution_count": 78,
   "id": "85b792a5-1853-4a2b-8411-f9d959ee5c78",
   "metadata": {},
   "outputs": [
    {
     "data": {
      "text/plain": [
       "{1, 3, 5, 6, 7}"
      ]
     },
     "execution_count": 78,
     "metadata": {},
     "output_type": "execute_result"
    }
   ],
   "source": [
    "s7"
   ]
  },
  {
   "cell_type": "code",
   "execution_count": 79,
   "id": "d0f64dca-b95e-4c4e-ac99-b5c81acd6f64",
   "metadata": {},
   "outputs": [],
   "source": [
    "s8 = {x**2 for x in range(1,6)}"
   ]
  },
  {
   "cell_type": "code",
   "execution_count": 80,
   "id": "5932f1e8-89b4-4989-94ff-62d3be162935",
   "metadata": {},
   "outputs": [
    {
     "data": {
      "text/plain": [
       "{1, 4, 9, 16, 25}"
      ]
     },
     "execution_count": 80,
     "metadata": {},
     "output_type": "execute_result"
    }
   ],
   "source": [
    "s8"
   ]
  },
  {
   "cell_type": "code",
   "execution_count": 87,
   "id": "3aca8191-a23a-42b1-a59c-06b05f33d2fd",
   "metadata": {},
   "outputs": [],
   "source": [
    "s7 = {x for x in s7 if x %2 != 0}"
   ]
  },
  {
   "cell_type": "code",
   "execution_count": 81,
   "id": "781cab70-38e1-451e-a535-ac8b9a4bb98d",
   "metadata": {},
   "outputs": [
    {
     "data": {
      "text/plain": [
       "{1, 3, 5, 6, 7}"
      ]
     },
     "execution_count": 81,
     "metadata": {},
     "output_type": "execute_result"
    }
   ],
   "source": [
    "s7"
   ]
  },
  {
   "cell_type": "code",
   "execution_count": 82,
   "id": "f0274088-40b3-4aeb-b387-c28072b924c5",
   "metadata": {},
   "outputs": [],
   "source": [
    "s8 = {x * 2 for x in s8}"
   ]
  },
  {
   "cell_type": "code",
   "execution_count": 83,
   "id": "59fe6657-c493-45ba-80d0-3c941a29260c",
   "metadata": {},
   "outputs": [
    {
     "data": {
      "text/plain": [
       "{2, 8, 18, 32, 50}"
      ]
     },
     "execution_count": 83,
     "metadata": {},
     "output_type": "execute_result"
    }
   ],
   "source": [
    "s8"
   ]
  },
  {
   "cell_type": "code",
   "execution_count": 84,
   "id": "0a641b41-92bf-4c12-8ff3-f611fd17181d",
   "metadata": {},
   "outputs": [
    {
     "name": "stdout",
     "output_type": "stream",
     "text": [
      "False\n"
     ]
    }
   ],
   "source": [
    "print(len(s8)==0)"
   ]
  },
  {
   "cell_type": "code",
   "execution_count": 85,
   "id": "c62e6c41-4444-4dfc-9cfc-ebab1bb2f9e1",
   "metadata": {},
   "outputs": [],
   "source": [
    "s9 = set()"
   ]
  },
  {
   "cell_type": "code",
   "execution_count": 86,
   "id": "dd40465f-4aff-4eeb-9070-00fa17126210",
   "metadata": {},
   "outputs": [
    {
     "name": "stdout",
     "output_type": "stream",
     "text": [
      "True\n"
     ]
    }
   ],
   "source": [
    "print(len(s9)==0)"
   ]
  },
  {
   "cell_type": "code",
   "execution_count": 87,
   "id": "31e2f531-d4d9-4e2c-b91e-8f07129b64e3",
   "metadata": {},
   "outputs": [],
   "source": [
    "n_s = {frozenset({1,2,3}),frozenset({1,2,3}),frozenset({4,5,6}),frozenset({7,8,9})}"
   ]
  },
  {
   "cell_type": "code",
   "execution_count": 88,
   "id": "418f6882-4540-4d10-b289-a393c26e9c8e",
   "metadata": {},
   "outputs": [
    {
     "data": {
      "text/plain": [
       "{frozenset({1, 2, 3}), frozenset({4, 5, 6}), frozenset({7, 8, 9})}"
      ]
     },
     "execution_count": 88,
     "metadata": {},
     "output_type": "execute_result"
    }
   ],
   "source": [
    "n_s"
   ]
  },
  {
   "cell_type": "code",
   "execution_count": 89,
   "id": "4f5ae190-46b9-40b2-b383-afcbfb2f90cb",
   "metadata": {},
   "outputs": [],
   "source": [
    "s8.discard(32)"
   ]
  },
  {
   "cell_type": "code",
   "execution_count": 90,
   "id": "c5393279-5fa8-45cf-9af5-766f8750a05a",
   "metadata": {},
   "outputs": [
    {
     "data": {
      "text/plain": [
       "{2, 8, 18, 50}"
      ]
     },
     "execution_count": 90,
     "metadata": {},
     "output_type": "execute_result"
    }
   ],
   "source": [
    "s8"
   ]
  },
  {
   "cell_type": "code",
   "execution_count": 91,
   "id": "35a658dd-70f3-47cd-a900-bcf8cd04d1d4",
   "metadata": {},
   "outputs": [],
   "source": [
    "st = \"hello, everyone\""
   ]
  },
  {
   "cell_type": "code",
   "execution_count": 92,
   "id": "fbbb78f3-4c32-4761-9a4f-4e9063e277bf",
   "metadata": {},
   "outputs": [
    {
     "data": {
      "text/plain": [
       "'hello, everyone'"
      ]
     },
     "execution_count": 92,
     "metadata": {},
     "output_type": "execute_result"
    }
   ],
   "source": [
    "st"
   ]
  },
  {
   "cell_type": "code",
   "execution_count": 93,
   "id": "c2c0e8bb-0727-467f-b05c-ab356f610024",
   "metadata": {},
   "outputs": [],
   "source": [
    "s_t = set(st)"
   ]
  },
  {
   "cell_type": "code",
   "execution_count": 94,
   "id": "ec541732-0210-4e00-8551-87cf6f21392d",
   "metadata": {},
   "outputs": [
    {
     "data": {
      "text/plain": [
       "{' ', ',', 'e', 'h', 'l', 'n', 'o', 'r', 'v', 'y'}"
      ]
     },
     "execution_count": 94,
     "metadata": {},
     "output_type": "execute_result"
    }
   ],
   "source": [
    "s_t"
   ]
  },
  {
   "cell_type": "code",
   "execution_count": 96,
   "id": "b195d6d6-49d6-40df-a372-a20d776d0021",
   "metadata": {},
   "outputs": [],
   "source": [
    "st_set = {\"1\", \"2\", \"4\", \"5\"}"
   ]
  },
  {
   "cell_type": "code",
   "execution_count": 97,
   "id": "44eab2a7-6e8b-4d4b-a0e1-4f3ecc490fce",
   "metadata": {},
   "outputs": [],
   "source": [
    "int_set = set(map(int,st_set))"
   ]
  },
  {
   "cell_type": "code",
   "execution_count": 98,
   "id": "f2f3ff81-0e27-4264-81ff-057a99f62c80",
   "metadata": {},
   "outputs": [
    {
     "data": {
      "text/plain": [
       "{1, 2, 4, 5}"
      ]
     },
     "execution_count": 98,
     "metadata": {},
     "output_type": "execute_result"
    }
   ],
   "source": [
    "int_set"
   ]
  },
  {
   "cell_type": "code",
   "execution_count": 99,
   "id": "15c82012-5dde-4c29-b709-d8bab51adb49",
   "metadata": {},
   "outputs": [],
   "source": [
    "s11 = {0,1,2,3,}"
   ]
  },
  {
   "cell_type": "code",
   "execution_count": 100,
   "id": "77dc6277-d10d-4f95-84b7-83d5126da791",
   "metadata": {},
   "outputs": [],
   "source": [
    "s11 = set(str(x) for x in s11)"
   ]
  },
  {
   "cell_type": "code",
   "execution_count": 101,
   "id": "d173e061-e243-4d73-823e-c4fb0e3b691f",
   "metadata": {},
   "outputs": [
    {
     "data": {
      "text/plain": [
       "{'0', '1', '2', '3'}"
      ]
     },
     "execution_count": 101,
     "metadata": {},
     "output_type": "execute_result"
    }
   ],
   "source": [
    "s11"
   ]
  },
  {
   "cell_type": "code",
   "execution_count": 102,
   "id": "1722a490-7cbe-46bc-a32c-e38b670915ce",
   "metadata": {},
   "outputs": [
    {
     "ename": "NameError",
     "evalue": "name 't1' is not defined",
     "output_type": "error",
     "traceback": [
      "\u001b[0;31m---------------------------------------------------------------------------\u001b[0m",
      "\u001b[0;31mNameError\u001b[0m                                 Traceback (most recent call last)",
      "Cell \u001b[0;32mIn[102], line 1\u001b[0m\n\u001b[0;32m----> 1\u001b[0m \u001b[43mt1\u001b[49m\n",
      "\u001b[0;31mNameError\u001b[0m: name 't1' is not defined"
     ]
    }
   ],
   "source": [
    "t1"
   ]
  },
  {
   "cell_type": "code",
   "execution_count": 103,
   "id": "b01145d9-5bb9-43d2-aed7-03cef9425558",
   "metadata": {},
   "outputs": [
    {
     "ename": "NameError",
     "evalue": "name 't2' is not defined",
     "output_type": "error",
     "traceback": [
      "\u001b[0;31m---------------------------------------------------------------------------\u001b[0m",
      "\u001b[0;31mNameError\u001b[0m                                 Traceback (most recent call last)",
      "Cell \u001b[0;32mIn[103], line 1\u001b[0m\n\u001b[0;32m----> 1\u001b[0m \u001b[43mt2\u001b[49m\n",
      "\u001b[0;31mNameError\u001b[0m: name 't2' is not defined"
     ]
    }
   ],
   "source": [
    "t2"
   ]
  },
  {
   "cell_type": "code",
   "execution_count": 104,
   "id": "121e3a9c-8159-4de3-97ef-135f1f0d84eb",
   "metadata": {},
   "outputs": [],
   "source": [
    "t14 = (5,9,1,4,0,2,4,3)"
   ]
  },
  {
   "cell_type": "code",
   "execution_count": 105,
   "id": "8d16f3d2-b3e6-4f6a-9355-5e9d485ef598",
   "metadata": {},
   "outputs": [
    {
     "data": {
      "text/plain": [
       "(5, 9, 1, 4, 0, 2, 4, 3)"
      ]
     },
     "execution_count": 105,
     "metadata": {},
     "output_type": "execute_result"
    }
   ],
   "source": [
    "t14"
   ]
  },
  {
   "cell_type": "code",
   "execution_count": 106,
   "id": "d96ac2ef-c442-444d-a21a-2d08779c013e",
   "metadata": {},
   "outputs": [
    {
     "ename": "AttributeError",
     "evalue": "type object 'type' has no attribute 'set'",
     "output_type": "error",
     "traceback": [
      "\u001b[0;31m---------------------------------------------------------------------------\u001b[0m",
      "\u001b[0;31mAttributeError\u001b[0m                            Traceback (most recent call last)",
      "Cell \u001b[0;32mIn[106], line 1\u001b[0m\n\u001b[0;32m----> 1\u001b[0m \u001b[38;5;28;43mtype\u001b[39;49m\u001b[38;5;241;43m.\u001b[39;49m\u001b[43mset\u001b[49m()\n",
      "\u001b[0;31mAttributeError\u001b[0m: type object 'type' has no attribute 'set'"
     ]
    }
   ],
   "source": [
    "type.set()"
   ]
  },
  {
   "cell_type": "code",
   "execution_count": 107,
   "id": "af94e17b-2901-449e-a7ad-c6adffb33f06",
   "metadata": {},
   "outputs": [
    {
     "ename": "AttributeError",
     "evalue": "'tuple' object has no attribute 'set'",
     "output_type": "error",
     "traceback": [
      "\u001b[0;31m---------------------------------------------------------------------------\u001b[0m",
      "\u001b[0;31mAttributeError\u001b[0m                            Traceback (most recent call last)",
      "Cell \u001b[0;32mIn[107], line 1\u001b[0m\n\u001b[0;32m----> 1\u001b[0m \u001b[43mt14\u001b[49m\u001b[38;5;241;43m.\u001b[39;49m\u001b[43mset\u001b[49m()\n",
      "\u001b[0;31mAttributeError\u001b[0m: 'tuple' object has no attribute 'set'"
     ]
    }
   ],
   "source": [
    "t14.set()"
   ]
  },
  {
   "cell_type": "code",
   "execution_count": 108,
   "id": "8950c858-b7a6-4fbb-bb51-04386e41d3bf",
   "metadata": {},
   "outputs": [],
   "source": [
    "s = set(t14)"
   ]
  },
  {
   "cell_type": "code",
   "execution_count": 109,
   "id": "d4a61688-1cf5-4567-b49e-0d303a15bb1d",
   "metadata": {},
   "outputs": [
    {
     "data": {
      "text/plain": [
       "(5, 9, 1, 4, 0, 2, 4, 3)"
      ]
     },
     "execution_count": 109,
     "metadata": {},
     "output_type": "execute_result"
    }
   ],
   "source": [
    "t14"
   ]
  },
  {
   "cell_type": "code",
   "execution_count": 110,
   "id": "861762fb-7045-4183-9867-2082b0f663ae",
   "metadata": {},
   "outputs": [
    {
     "name": "stdout",
     "output_type": "stream",
     "text": [
      "{0, 1, 2, 3, 4, 5, 9}\n"
     ]
    }
   ],
   "source": [
    "print(s)"
   ]
  },
  {
   "cell_type": "code",
   "execution_count": 111,
   "id": "272e14c0-2d78-4812-b084-785672901869",
   "metadata": {},
   "outputs": [
    {
     "data": {
      "text/plain": [
       "{0, 1, 2, 3, 4, 5, 9}"
      ]
     },
     "execution_count": 111,
     "metadata": {},
     "output_type": "execute_result"
    }
   ],
   "source": [
    "s"
   ]
  },
  {
   "cell_type": "code",
   "execution_count": 112,
   "id": "f81c2458-011c-486f-9b6e-68335db192a2",
   "metadata": {},
   "outputs": [],
   "source": [
    "t15 = tuple(s)"
   ]
  },
  {
   "cell_type": "code",
   "execution_count": 113,
   "id": "e2e75eb1-8d17-4835-823f-1f62a15e2cdb",
   "metadata": {},
   "outputs": [
    {
     "data": {
      "text/plain": [
       "(0, 1, 2, 3, 4, 5, 9)"
      ]
     },
     "execution_count": 113,
     "metadata": {},
     "output_type": "execute_result"
    }
   ],
   "source": [
    "t15"
   ]
  },
  {
   "cell_type": "code",
   "execution_count": 114,
   "id": "9c6436b5-d66e-4360-9369-8d00f03d241f",
   "metadata": {},
   "outputs": [
    {
     "data": {
      "text/plain": [
       "{2, 8, 18, 50}"
      ]
     },
     "execution_count": 114,
     "metadata": {},
     "output_type": "execute_result"
    }
   ],
   "source": [
    "s8"
   ]
  },
  {
   "cell_type": "code",
   "execution_count": 115,
   "id": "e16620b4-3096-4be5-93b9-f32d0645cce4",
   "metadata": {},
   "outputs": [
    {
     "data": {
      "text/plain": [
       "{2, 8, 18, 50}"
      ]
     },
     "execution_count": 115,
     "metadata": {},
     "output_type": "execute_result"
    }
   ],
   "source": [
    "s8"
   ]
  },
  {
   "cell_type": "code",
   "execution_count": 116,
   "id": "2268a2f9-2123-47b9-ad42-1dd3f53d11d4",
   "metadata": {},
   "outputs": [
    {
     "name": "stdout",
     "output_type": "stream",
     "text": [
      "50\n"
     ]
    }
   ],
   "source": [
    "print(max(s8))"
   ]
  },
  {
   "cell_type": "code",
   "execution_count": 117,
   "id": "e07cdd00-63d6-40dd-b432-f67a09f6b25b",
   "metadata": {},
   "outputs": [
    {
     "name": "stdout",
     "output_type": "stream",
     "text": [
      "2\n"
     ]
    }
   ],
   "source": [
    "print(min(s8))"
   ]
  },
  {
   "cell_type": "code",
   "execution_count": 118,
   "id": "a02bd61a-5711-429d-866a-577709f48644",
   "metadata": {},
   "outputs": [
    {
     "name": "stdout",
     "output_type": "stream",
     "text": [
      "the intersection of s8 and s11 is empty\n"
     ]
    }
   ],
   "source": [
    "intersection = s8.intersection(s11)\n",
    "\n",
    "if len(intersection) == 0:\n",
    "    print(\"the intersection of s8 and s11 is empty\")\n",
    "else:\n",
    "    print(\"the intersection of s8 and s11 is not empty\")"
   ]
  },
  {
   "cell_type": "code",
   "execution_count": 119,
   "id": "218fd411-90d9-4a54-930e-85dbfd58303c",
   "metadata": {},
   "outputs": [
    {
     "data": {
      "text/plain": [
       "{2, 8, 18, 50}"
      ]
     },
     "execution_count": 119,
     "metadata": {},
     "output_type": "execute_result"
    }
   ],
   "source": [
    "s8"
   ]
  },
  {
   "cell_type": "code",
   "execution_count": 120,
   "id": "399c4fd2-1c20-4233-bb7f-cbaf9479ab0e",
   "metadata": {},
   "outputs": [
    {
     "data": {
      "text/plain": [
       "{'0', '1', '2', '3'}"
      ]
     },
     "execution_count": 120,
     "metadata": {},
     "output_type": "execute_result"
    }
   ],
   "source": [
    "s11"
   ]
  },
  {
   "cell_type": "code",
   "execution_count": 121,
   "id": "1f2954ef-db18-4199-a623-06ac3514ac8e",
   "metadata": {},
   "outputs": [],
   "source": [
    "l15 = [0,1,2,3,4,2,1,5,6,0]"
   ]
  },
  {
   "cell_type": "code",
   "execution_count": 122,
   "id": "418d667a-4985-4001-aad1-7e16a6a24265",
   "metadata": {},
   "outputs": [
    {
     "data": {
      "text/plain": [
       "[0, 1, 2, 3, 4, 2, 1, 5, 6, 0]"
      ]
     },
     "execution_count": 122,
     "metadata": {},
     "output_type": "execute_result"
    }
   ],
   "source": [
    "l15"
   ]
  },
  {
   "cell_type": "code",
   "execution_count": 123,
   "id": "10ec17a7-e2b2-41f5-8e6a-407b257c02d3",
   "metadata": {},
   "outputs": [],
   "source": [
    "l15 = list(set(l15))"
   ]
  },
  {
   "cell_type": "code",
   "execution_count": 124,
   "id": "e21960b4-17a2-43ee-9441-94aec067dd3d",
   "metadata": {},
   "outputs": [
    {
     "data": {
      "text/plain": [
       "[0, 1, 2, 3, 4, 5, 6]"
      ]
     },
     "execution_count": 124,
     "metadata": {},
     "output_type": "execute_result"
    }
   ],
   "source": [
    "l15"
   ]
  },
  {
   "cell_type": "code",
   "execution_count": 125,
   "id": "7e0f6ff0-57a9-4a37-a9fa-be0ac898a9b5",
   "metadata": {},
   "outputs": [
    {
     "ename": "NameError",
     "evalue": "name 't11' is not defined",
     "output_type": "error",
     "traceback": [
      "\u001b[0;31m---------------------------------------------------------------------------\u001b[0m",
      "\u001b[0;31mNameError\u001b[0m                                 Traceback (most recent call last)",
      "Cell \u001b[0;32mIn[125], line 1\u001b[0m\n\u001b[0;32m----> 1\u001b[0m \u001b[43mt11\u001b[49m\n",
      "\u001b[0;31mNameError\u001b[0m: name 't11' is not defined"
     ]
    }
   ],
   "source": [
    "t11"
   ]
  },
  {
   "cell_type": "code",
   "execution_count": 91,
   "id": "9bcc6c44-9d77-4fc0-aba3-bb8c518ffe00",
   "metadata": {},
   "outputs": [
    {
     "ename": "NameError",
     "evalue": "name 't12' is not defined",
     "output_type": "error",
     "traceback": [
      "\u001b[0;31m---------------------------------------------------------------------------\u001b[0m",
      "\u001b[0;31mNameError\u001b[0m                                 Traceback (most recent call last)",
      "Cell \u001b[0;32mIn[91], line 1\u001b[0m\n\u001b[0;32m----> 1\u001b[0m \u001b[43mt12\u001b[49m\n",
      "\u001b[0;31mNameError\u001b[0m: name 't12' is not defined"
     ]
    }
   ],
   "source": [
    "t12"
   ]
  },
  {
   "cell_type": "code",
   "execution_count": 126,
   "id": "19754536-5338-41a0-b8e8-5914ceb0e0c9",
   "metadata": {},
   "outputs": [
    {
     "data": {
      "text/plain": [
       "{2, 8, 18, 50}"
      ]
     },
     "execution_count": 126,
     "metadata": {},
     "output_type": "execute_result"
    }
   ],
   "source": [
    "s8"
   ]
  },
  {
   "cell_type": "code",
   "execution_count": 127,
   "id": "60810d77-e1d6-477a-9843-af23c17304aa",
   "metadata": {},
   "outputs": [
    {
     "data": {
      "text/plain": [
       "{'0', '1', '2', '3'}"
      ]
     },
     "execution_count": 127,
     "metadata": {},
     "output_type": "execute_result"
    }
   ],
   "source": [
    "s11"
   ]
  },
  {
   "cell_type": "code",
   "execution_count": 128,
   "id": "b51dbfb1-45c1-4748-a176-1bd93e1e53b5",
   "metadata": {},
   "outputs": [
    {
     "name": "stdout",
     "output_type": "stream",
     "text": [
      "does not have same elements\n"
     ]
    }
   ],
   "source": [
    "if s8 == s11:\n",
    "    print(\"same elements\")\n",
    "else:\n",
    "    print(\"does not have same elements\")"
   ]
  },
  {
   "cell_type": "code",
   "execution_count": 129,
   "id": "d3553b15-3feb-4f8a-aaa3-a321064aa7c2",
   "metadata": {},
   "outputs": [
    {
     "name": "stdout",
     "output_type": "stream",
     "text": [
      "does not have common elements\n"
     ]
    }
   ],
   "source": [
    "if s8 & s11:\n",
    "    print(\"have at least 1 elements commmon\")\n",
    "else:\n",
    "    print(\"does not have common elements\")"
   ]
  },
  {
   "cell_type": "code",
   "execution_count": 130,
   "id": "3597f519-99c9-456f-8ff5-8d3fa8677199",
   "metadata": {},
   "outputs": [],
   "source": [
    "s12 = {7,8,9,10,11}"
   ]
  },
  {
   "cell_type": "code",
   "execution_count": 131,
   "id": "e91674e7-fde5-4546-b137-42401801e235",
   "metadata": {},
   "outputs": [],
   "source": [
    "l16 = [10,11,12,13,14]"
   ]
  },
  {
   "cell_type": "code",
   "execution_count": 132,
   "id": "9db1f2ca-31a5-42f5-96ad-5f5f0517cd2b",
   "metadata": {},
   "outputs": [],
   "source": [
    "c_e = s12.intersection(l16)"
   ]
  },
  {
   "cell_type": "code",
   "execution_count": 133,
   "id": "c185d78f-8461-4979-86aa-4e5a0d609440",
   "metadata": {},
   "outputs": [
    {
     "data": {
      "text/plain": [
       "{10, 11}"
      ]
     },
     "execution_count": 133,
     "metadata": {},
     "output_type": "execute_result"
    }
   ],
   "source": [
    "c_e"
   ]
  },
  {
   "cell_type": "code",
   "execution_count": 137,
   "id": "1f932ecc-6a01-4d75-8300-3ffe7eaa7493",
   "metadata": {},
   "outputs": [
    {
     "data": {
      "text/plain": [
       "False"
      ]
     },
     "execution_count": 137,
     "metadata": {},
     "output_type": "execute_result"
    }
   ],
   "source": [
    "s11.issubset(s12)"
   ]
  },
  {
   "cell_type": "code",
   "execution_count": 138,
   "id": "41705b9c-47fa-4cf2-916a-87543836634b",
   "metadata": {},
   "outputs": [],
   "source": [
    "m_s = s11.union(s12)"
   ]
  },
  {
   "cell_type": "code",
   "execution_count": 139,
   "id": "7c4a3f2e-3f12-42c7-a370-33130a3589fe",
   "metadata": {},
   "outputs": [
    {
     "data": {
      "text/plain": [
       "{'0', '1', 10, 11, '2', '3', 7, 8, 9}"
      ]
     },
     "execution_count": 139,
     "metadata": {},
     "output_type": "execute_result"
    }
   ],
   "source": [
    "m_s"
   ]
  },
  {
   "cell_type": "code",
   "execution_count": null,
   "id": "99e85e25-fd83-4ea8-b9b8-e4dcfb58bd79",
   "metadata": {},
   "outputs": [],
   "source": []
  }
 ],
 "metadata": {
  "kernelspec": {
   "display_name": "Python 3 (ipykernel)",
   "language": "python",
   "name": "python3"
  },
  "language_info": {
   "codemirror_mode": {
    "name": "ipython",
    "version": 3
   },
   "file_extension": ".py",
   "mimetype": "text/x-python",
   "name": "python",
   "nbconvert_exporter": "python",
   "pygments_lexer": "ipython3",
   "version": "3.10.8"
  }
 },
 "nbformat": 4,
 "nbformat_minor": 5
}
