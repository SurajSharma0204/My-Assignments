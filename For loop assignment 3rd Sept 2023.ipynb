{
 "cells": [
  {
   "cell_type": "code",
   "execution_count": 5,
   "id": "3b144160-83d7-40a5-8de8-a612871178e0",
   "metadata": {},
   "outputs": [],
   "source": [
    "#Basic level:\n"
   ]
  },
  {
   "cell_type": "code",
   "execution_count": 9,
   "id": "66c1b9a0-0668-40d4-8b79-828b45545a47",
   "metadata": {},
   "outputs": [
    {
     "name": "stdout",
     "output_type": "stream",
     "text": [
      "1\n",
      "2\n",
      "3\n",
      "4\n",
      "5\n",
      "6\n",
      "7\n",
      "8\n",
      "9\n"
     ]
    }
   ],
   "source": [
    "1.\n",
    "for i in range(1,10):\n",
    "    print(i)"
   ]
  },
  {
   "cell_type": "code",
   "execution_count": 12,
   "id": "bf990f62-ba75-4d19-977d-0f0341ad4992",
   "metadata": {},
   "outputs": [
    {
     "name": "stdout",
     "output_type": "stream",
     "text": [
      "36\n"
     ]
    }
   ],
   "source": [
    "2.\n",
    "numbers = [1,2,3,4,5,6,7,8]\n",
    "sum = 0\n",
    "for num in numbers:\n",
    "    sum+=num\n",
    "print(sum)    "
   ]
  },
  {
   "cell_type": "code",
   "execution_count": 13,
   "id": "1d6b561b-0e6e-4332-a63b-386d3a8e04be",
   "metadata": {},
   "outputs": [
    {
     "name": "stdin",
     "output_type": "stream",
     "text": [
      "Enter a string: Hello everyone\n"
     ]
    },
    {
     "name": "stdout",
     "output_type": "stream",
     "text": [
      "enoyreve olleH"
     ]
    }
   ],
   "source": [
    "3.\n",
    "string = input(\"Enter a string:\")\n",
    "for i in range(len(string)-1,-1,-1):\n",
    "    print(string[i],end=\"\")"
   ]
  },
  {
   "cell_type": "code",
   "execution_count": 16,
   "id": "833f426a-7a47-4be9-8181-3fb9fb79c0d0",
   "metadata": {},
   "outputs": [
    {
     "name": "stdin",
     "output_type": "stream",
     "text": [
      "Enter a number: 6\n"
     ]
    },
    {
     "name": "stdout",
     "output_type": "stream",
     "text": [
      "The factorial of 6 is 720\n"
     ]
    }
   ],
   "source": [
    "4.\n",
    "num = int(input(\"Enter a number:\"))\n",
    "factorial =1\n",
    "for i in range(1,num+1):\n",
    "    factorial*=i\n",
    "print(\"The factorial of\", num, \"is\", factorial)    "
   ]
  },
  {
   "cell_type": "code",
   "execution_count": 19,
   "id": "4b5d526a-e4d6-4160-9722-c37cccfc9e7a",
   "metadata": {},
   "outputs": [
    {
     "name": "stdout",
     "output_type": "stream",
     "text": [
      "5 x 1 = 5\n",
      "5 x 2 = 10\n",
      "5 x 3 = 15\n",
      "5 x 4 = 20\n",
      "5 x 5 = 25\n",
      "5 x 6 = 30\n",
      "5 x 7 = 35\n",
      "5 x 8 = 40\n",
      "5 x 9 = 45\n",
      "5 x 10 = 50\n"
     ]
    }
   ],
   "source": [
    "5.\n",
    "num = 5\n",
    "for i in range(1, 11):\n",
    "   print(num, 'x', i, '=', num*i)"
   ]
  },
  {
   "cell_type": "code",
   "execution_count": 20,
   "id": "ffa74a57-93d8-4f38-80c0-2c2ccc63aa56",
   "metadata": {},
   "outputs": [
    {
     "name": "stdout",
     "output_type": "stream",
     "text": [
      "number of even numbers: 6\n",
      "number of odd numbers : 5\n"
     ]
    }
   ],
   "source": [
    "6.\n",
    "Numbers = (0,1,2,3,4,5,6,7,8,9,10)\n",
    "count_odd = 0\n",
    "count_even = 0\n",
    "for x in Numbers:\n",
    "    if not x%2:\n",
    "        count_even+=1\n",
    "    else:\n",
    "        count_odd+=1\n",
    "print(\"number of even numbers:\", count_even)\n",
    "print(\"number of odd numbers :\", count_odd)"
   ]
  },
  {
   "cell_type": "code",
   "execution_count": 21,
   "id": "316aa103-dd21-436e-bf2f-6c647eddd26a",
   "metadata": {},
   "outputs": [
    {
     "name": "stdout",
     "output_type": "stream",
     "text": [
      "5\n"
     ]
    }
   ],
   "source": [
    "print(count_odd)"
   ]
  },
  {
   "cell_type": "code",
   "execution_count": 22,
   "id": "27c5b7aa-6593-43e4-9a69-b7281a3efb08",
   "metadata": {},
   "outputs": [
    {
     "name": "stdout",
     "output_type": "stream",
     "text": [
      "6\n"
     ]
    }
   ],
   "source": [
    "print(count_even)"
   ]
  },
  {
   "cell_type": "code",
   "execution_count": 24,
   "id": "3b7d051e-2180-457f-b0ce-e90e496095d2",
   "metadata": {},
   "outputs": [
    {
     "name": "stdout",
     "output_type": "stream",
     "text": [
      "25\n"
     ]
    }
   ],
   "source": [
    "7.\n",
    "for num in range(1,6):\n",
    "    square = num ** 2\n",
    "print(square)    "
   ]
  },
  {
   "cell_type": "code",
   "execution_count": 25,
   "id": "2427a053-c62f-4ce8-afb5-355c689ac5c2",
   "metadata": {},
   "outputs": [
    {
     "name": "stdout",
     "output_type": "stream",
     "text": [
      "2\n"
     ]
    }
   ],
   "source": [
    "print(2)"
   ]
  },
  {
   "cell_type": "code",
   "execution_count": 26,
   "id": "b8ad057a-9c0a-444a-9df8-84a1c7bbcb04",
   "metadata": {},
   "outputs": [
    {
     "name": "stdout",
     "output_type": "stream",
     "text": [
      "0\n",
      "1\n",
      "4\n",
      "9\n",
      "16\n",
      "25\n"
     ]
    }
   ],
   "source": [
    "7.\n",
    "\n",
    "number = 5\n",
    "for index in range(0,number+1):\n",
    "    print(index**2)\n",
    "    "
   ]
  },
  {
   "cell_type": "code",
   "execution_count": 28,
   "id": "a0d3cd9f-04bf-4e30-85ca-995f3983ff28",
   "metadata": {},
   "outputs": [
    {
     "name": "stdout",
     "output_type": "stream",
     "text": [
      "length of the string: 14\n"
     ]
    }
   ],
   "source": [
    "8.\n",
    "String = \"Hello Friends!\"\n",
    "length = 0\n",
    "for char in string:\n",
    "    length +=1\n",
    "print(\"length of the string:\", length)   "
   ]
  },
  {
   "cell_type": "code",
   "execution_count": 29,
   "id": "3437ed01-5e09-432c-a8a6-766500a8b095",
   "metadata": {},
   "outputs": [],
   "source": [
    "9.\n",
    "\n",
    "numbers = [2,6,10,4,8]\n",
    "total = 0\n",
    "count = 0\n",
    "total += num\n",
    "count += 1\n",
    "average = total/count"
   ]
  },
  {
   "cell_type": "code",
   "execution_count": 32,
   "id": "63d9816d-d8ca-424b-8312-7bf4c7183742",
   "metadata": {},
   "outputs": [
    {
     "name": "stdout",
     "output_type": "stream",
     "text": [
      "Average: 5.0\n"
     ]
    }
   ],
   "source": [
    "print(\"Average:\", average)"
   ]
  },
  {
   "cell_type": "code",
   "execution_count": null,
   "id": "c3916fe7-f6b6-403f-aed5-983c26785673",
   "metadata": {},
   "outputs": [],
   "source": []
  }
 ],
 "metadata": {
  "kernelspec": {
   "display_name": "Python 3 (ipykernel)",
   "language": "python",
   "name": "python3"
  },
  "language_info": {
   "codemirror_mode": {
    "name": "ipython",
    "version": 3
   },
   "file_extension": ".py",
   "mimetype": "text/x-python",
   "name": "python",
   "nbconvert_exporter": "python",
   "pygments_lexer": "ipython3",
   "version": "3.10.8"
  }
 },
 "nbformat": 4,
 "nbformat_minor": 5
}
