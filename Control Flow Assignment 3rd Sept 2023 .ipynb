{
 "cells": [
  {
   "cell_type": "code",
   "execution_count": 1,
   "id": "352e77bb-5f34-41df-8d1b-9808e8fd05b7",
   "metadata": {},
   "outputs": [],
   "source": [
    "#Basic If-Else statements:"
   ]
  },
  {
   "cell_type": "code",
   "execution_count": 4,
   "id": "5eea7006-61f5-4606-a49c-a0abd37b583d",
   "metadata": {},
   "outputs": [
    {
     "name": "stdin",
     "output_type": "stream",
     "text": [
      "Enter a number:  -1\n"
     ]
    },
    {
     "name": "stdout",
     "output_type": "stream",
     "text": [
      "Negative number\n"
     ]
    }
   ],
   "source": [
    "1.\n",
    "\n",
    "num = int(input(\"Enter a number: \"))\n",
    "if num >= 0:\n",
    "    if num == 0:\n",
    "        print(\"Zero\")\n",
    "    else:\n",
    "        print(\"Positive number\")\n",
    "else:\n",
    "    print(\"Negative number\")"
   ]
  },
  {
   "cell_type": "code",
   "execution_count": 5,
   "id": "a23356c5-26ef-4521-8870-d77fdc54153a",
   "metadata": {},
   "outputs": [
    {
     "name": "stdin",
     "output_type": "stream",
     "text": [
      "Enter age :  16\n"
     ]
    },
    {
     "name": "stdout",
     "output_type": "stream",
     "text": [
      "Not Eligible for Voting!\n"
     ]
    }
   ],
   "source": [
    "2.\n",
    "\n",
    "age = int(input(\"Enter age : \"))\n",
    "\n",
    "if age >= 18:\n",
    "    print(\"Eligible for Voting!\")\n",
    "else:\n",
    "    print(\"Not Eligible for Voting!\")"
   ]
  },
  {
   "cell_type": "code",
   "execution_count": 8,
   "id": "75212092-174c-43c2-b7b3-6d1ce0a7a753",
   "metadata": {},
   "outputs": [
    {
     "name": "stdout",
     "output_type": "stream",
     "text": [
      "maximum number is 20\n"
     ]
    }
   ],
   "source": [
    "3.\n",
    "\n",
    "num1=10\n",
    "num2=20\n",
    "\n",
    "if (num1>=num2):\n",
    "    maximum=num1\n",
    "    print(\"maximum number is\", maximum)\n",
    "else:\n",
    "    maximum=num2\n",
    "    print(\"maximum number is\", maximum)"
   ]
  },
  {
   "cell_type": "code",
   "execution_count": 10,
   "id": "cf95726c-d6da-4cae-8a5d-d54af816a7ca",
   "metadata": {},
   "outputs": [
    {
     "name": "stdin",
     "output_type": "stream",
     "text": [
      "Enter a year:  2023\n"
     ]
    },
    {
     "name": "stdout",
     "output_type": "stream",
     "text": [
      "2023 is not a leap year\n"
     ]
    }
   ],
   "source": [
    "4.\n",
    "\n",
    "year = int(input(\"Enter a year: \"))\n",
    "\n",
    "if year % 4 == 0:\n",
    "    if year % 100 == 0:\n",
    "        if year % 400 == 0:\n",
    "            print(year, \"is a leap year\")\n",
    "        else:\n",
    "            print(year, \"is not a leap year\")\n",
    "    else:\n",
    "        print(year, \"is a leap year\")\n",
    "else:\n",
    "    print(year, \"is not a leap year\")"
   ]
  },
  {
   "cell_type": "code",
   "execution_count": 26,
   "id": "065f8b19-3fcb-4c9a-866b-073cf5c3569c",
   "metadata": {},
   "outputs": [
    {
     "name": "stdout",
     "output_type": "stream",
     "text": [
      "Leap Year\n"
     ]
    }
   ],
   "source": [
    "4.\n",
    "\n",
    "year = 2000\n",
    "\n",
    "if (year%400 == 0) or (year%4==0 and year%100!=0):\n",
    "    print(\"Leap Year\")\n",
    "else:\n",
    "    print(\"Not a Leap Year\")"
   ]
  },
  {
   "cell_type": "code",
   "execution_count": 27,
   "id": "dffa3660-6136-4e76-998c-62a5c4590dfc",
   "metadata": {},
   "outputs": [
    {
     "name": "stdin",
     "output_type": "stream",
     "text": [
      "Input a letter of the alphabet:  t\n"
     ]
    },
    {
     "name": "stdout",
     "output_type": "stream",
     "text": [
      "t is a consonant.\n"
     ]
    },
    {
     "name": "stdin",
     "output_type": "stream",
     "text": [
      "Input a letter of the alphabet:  e\n"
     ]
    },
    {
     "name": "stdout",
     "output_type": "stream",
     "text": [
      "e is a vowel.\n"
     ]
    }
   ],
   "source": [
    "5.\n",
    "\n",
    "l = input(\"Input a letter of the alphabet: \")\n",
    "\n",
    "if l in ('a', 'e', 'i', 'o', 'u'):\n",
    "\tprint(\"%s is a vowel.\" % l)\n",
    "else:\n",
    "\tprint(\"%s is a consonant.\" % l) \n",
    "l = input(\"Input a letter of the alphabet: \")\n",
    "\n",
    "if l in ('a', 'e', 'i', 'o', 'u'):\n",
    "\tprint(\"%s is a vowel.\" % l)\n",
    "elif l == 'y':\n",
    "\tprint(\"Sometimes letter y stand for vowel, sometimes stand for consonant.\")\n",
    "else:\n",
    "\tprint(\"%s is a consonant.\" % l) "
   ]
  },
  {
   "cell_type": "code",
   "execution_count": 22,
   "id": "1f8a903b-372c-4415-bb33-66b5937f1d94",
   "metadata": {},
   "outputs": [
    {
     "name": "stdout",
     "output_type": "stream",
     "text": [
      "largest number is 50\n"
     ]
    }
   ],
   "source": [
    "8.\n",
    "\n",
    "num1=10\n",
    "num2=20\n",
    "num3=50\n",
    "\n",
    "if (num1>=num2) and (num1>=num3):\n",
    "    largest=num1\n",
    "    print(\"largest number is\", largest) \n",
    "elif(num2>=num1) and (num2>=num3):\n",
    "    largest=num2\n",
    "    print(\"largest number is\", largest)  \n",
    "else:\n",
    "    largest=num3\n",
    "    print(\"largest number is\", largest)"
   ]
  },
  {
   "cell_type": "code",
   "execution_count": 23,
   "id": "7d676dde-1469-4291-8383-68312b1e215a",
   "metadata": {},
   "outputs": [
    {
     "name": "stdin",
     "output_type": "stream",
     "text": [
      "Enter the string:  suraj\n"
     ]
    },
    {
     "name": "stdout",
     "output_type": "stream",
     "text": [
      "suraj is not a Palindrome\n"
     ]
    }
   ],
   "source": [
    "9.\n",
    "\n",
    "string = input(\"Enter the string: \")\n",
    "\n",
    "reverse = str(string)[::-1]\n",
    "\n",
    "if(reverse == string):\n",
    "    print(string,\"is a Palindrome\")\n",
    "else:\n",
    "    print(string,\"is not a Palindrome\")"
   ]
  },
  {
   "cell_type": "code",
   "execution_count": 6,
   "id": "e818dfde-9ec6-4350-aa31-b15214583ffb",
   "metadata": {},
   "outputs": [
    {
     "name": "stdout",
     "output_type": "stream",
     "text": [
      "The student's grade is B\n"
     ]
    }
   ],
   "source": [
    "10.\n",
    "\n",
    "score = 85\n",
    "\n",
    "if score >= 90:\n",
    "    print(\"The student's grade is A\")\n",
    "else:\n",
    "    if score >= 80:\n",
    "        print(\"The student's grade is B\")\n",
    "    else:\n",
    "        if score >= 70:\n",
    "            print(\"The student's grade is C\")\n",
    "        else:\n",
    "            if score >= 50:\n",
    "                print(\"The student's grade is D\")\n",
    "            else:\n",
    "                print(\"The student's grade is E\")"
   ]
  },
  {
   "cell_type": "code",
   "execution_count": 1,
   "id": "7c03a489-9e39-4f1e-98d0-421db9eb2814",
   "metadata": {},
   "outputs": [],
   "source": [
    "# Nested If-Else Statements:"
   ]
  },
  {
   "cell_type": "code",
   "execution_count": 5,
   "id": "62fdddf3-f867-4cd3-a650-42855659058b",
   "metadata": {},
   "outputs": [
    {
     "name": "stdin",
     "output_type": "stream",
     "text": [
      "Enter A:  20\n",
      "Enter B:  10\n",
      "Enter C:  40\n"
     ]
    },
    {
     "name": "stdout",
     "output_type": "stream",
     "text": [
      "Greater  =  40\n"
     ]
    }
   ],
   "source": [
    "11.\n",
    "\n",
    "a=int(input(\"Enter A: \"))\n",
    "b=int(input(\"Enter B: \"))\n",
    "c=int(input(\"Enter C: \"))\n",
    "\n",
    "# conditions to find largest \n",
    "if a>b:\n",
    "    if a>c:\n",
    "        g=a\n",
    "    else:\n",
    "        g=c\n",
    "else:\n",
    "    if b>c:\n",
    "        g=b\n",
    "    else:\n",
    "        g=c\n",
    "\n",
    "# print the largest number \n",
    "print(\"Greater  = \",g)"
   ]
  },
  {
   "cell_type": "code",
   "execution_count": 6,
   "id": "a7fbcae2-75fe-4cd5-9eb5-92d5384a7aba",
   "metadata": {},
   "outputs": [
    {
     "name": "stdout",
     "output_type": "stream",
     "text": [
      "80\n"
     ]
    }
   ],
   "source": [
    "11.\n",
    "\n",
    "num1=50\n",
    "num2=60\n",
    "num3=80\n",
    "\n",
    "if num1>num2:\n",
    "    if num1>num3:\n",
    "        largest=num1\n",
    "    else:\n",
    "        largest=num3\n",
    "else:\n",
    "    if num2>num3:\n",
    "        largest=num2\n",
    "    else:\n",
    "        largest=num3\n",
    "print(largest)        "
   ]
  },
  {
   "cell_type": "code",
   "execution_count": 18,
   "id": "8c65623b-d78e-4a8f-bcb8-493e1ffe3548",
   "metadata": {
    "tags": []
   },
   "outputs": [],
   "source": [
    "12.\n",
    "\n",
    "x =5\n",
    "y =5\n",
    "z =5\n",
    "\n",
    "# Function to check if the triangle\n",
    "# is equilateral or isosceles or scalene\n",
    "def checkTriangle(x, y, z):\n",
    " \n",
    "\n",
    "\n",
    "    # _Check for equilateral triangle\n",
    "    if x == y == z:\n",
    "        print(\"Triangle is Equilateral \")\n",
    " \n",
    "    # Check for isosceles triangle\n",
    "    elif x == y or y == z or z == x:\n",
    "        print(\"Triangle is Isosceles\")\n",
    " \n",
    "    # Otherwise scalene triangle\n",
    "    else:\n",
    "        print(\"Triangle is Scalene \")\n",
    " "
   ]
  },
  {
   "cell_type": "code",
   "execution_count": 19,
   "id": "1e044796-575f-4c72-a5d7-25f1b42a41b1",
   "metadata": {},
   "outputs": [
    {
     "name": "stdout",
     "output_type": "stream",
     "text": [
      "Triangle is Equilateral \n"
     ]
    }
   ],
   "source": [
    "checkTriangle(x,y,z)"
   ]
  },
  {
   "cell_type": "code",
   "execution_count": 34,
   "id": "1e3299d2-a68e-4d90-aef7-b72c1beff1b7",
   "metadata": {},
   "outputs": [
    {
     "ename": "IndentationError",
     "evalue": "unindent does not match any outer indentation level (<tokenize>, line 7)",
     "output_type": "error",
     "traceback": [
      "\u001b[0;36m  File \u001b[0;32m<tokenize>:7\u001b[0;36m\u001b[0m\n\u001b[0;31m    else:\u001b[0m\n\u001b[0m    ^\u001b[0m\n\u001b[0;31mIndentationError\u001b[0m\u001b[0;31m:\u001b[0m unindent does not match any outer indentation level\n"
     ]
    }
   ],
   "source": [
    "13.\n",
    "year = 2000\n",
    "\n",
    "if year % 400 == 0\n",
    "if year % 100 == 0:\n",
    "        print(year, is a leapyear and a century year)\n",
    "    else:\n",
    "        print(year, is not a leapyear but it is a century year)\n",
    "    else:\n",
    "        \n",
    "    if year % 4 == 0:\n",
    "        print(year, is a leapyear but not a century year)\n",
    "    else:\n",
    "         print(year, is not a leapyear and not a century year)           \n",
    "                    "
   ]
  },
  {
   "cell_type": "code",
   "execution_count": 47,
   "id": "76b78818-dc9b-4109-b3df-537591fbd5ea",
   "metadata": {},
   "outputs": [
    {
     "name": "stdin",
     "output_type": "stream",
     "text": [
      "Enter a number:  4\n"
     ]
    },
    {
     "name": "stdout",
     "output_type": "stream",
     "text": [
      "Positive number\n"
     ]
    }
   ],
   "source": [
    "14. # find positive, negative, zero number Using input function\n",
    "\n",
    "num = int(input(\"Enter a number: \"))\n",
    "if num >= 0:\n",
    "    if num == 0:\n",
    "        print(\"Zero\")\n",
    "    else:\n",
    "        print(\"Positive number\")\n",
    "else:\n",
    "    print(\"Negative number\")"
   ]
  },
  {
   "cell_type": "code",
   "execution_count": 41,
   "id": "7578e78b-ab11-44ab-ba28-08b0a6557a7d",
   "metadata": {},
   "outputs": [
    {
     "name": "stdout",
     "output_type": "stream",
     "text": [
      "Negative number\n"
     ]
    }
   ],
   "source": [
    "14. # find positive, negative, zero number Using input function without using input function\n",
    "\n",
    "num = -2\n",
    "if num >= 0:\n",
    "    if num == 0:\n",
    "        print(\"Zero\")\n",
    "    else:\n",
    "        print(\"Positive number\")\n",
    "else:\n",
    "    print(\"Negative number\")"
   ]
  },
  {
   "cell_type": "code",
   "execution_count": 46,
   "id": "83565fa2-2b23-4d7e-a3bf-c35f6abd6b17",
   "metadata": {},
   "outputs": [
    {
     "name": "stdout",
     "output_type": "stream",
     "text": [
      "person is a teenager\n"
     ]
    }
   ],
   "source": [
    "15.\n",
    "\n",
    "age = 17\n",
    "if age <18:\n",
    "    if age == 17:\n",
    "        print(\"person is a teenager\")\n",
    "    else:\n",
    "        print(\"person is not a teenager\")\n"
   ]
  },
  {
   "cell_type": "code",
   "execution_count": 53,
   "id": "dc9d2e0e-8946-4aef-b825-e5e07fad7d8c",
   "metadata": {},
   "outputs": [
    {
     "name": "stdin",
     "output_type": "stream",
     "text": [
      "enter the measure of the angle 90\n"
     ]
    },
    {
     "name": "stdout",
     "output_type": "stream",
     "text": [
      "right anlge\n"
     ]
    }
   ],
   "source": [
    "16.\n",
    "\n",
    "angle = int(input(\"enter the measure of the angle\"))\n",
    "if angle >= 90:\n",
    "    if angle == 90:\n",
    "        print(\"right anlge\")\n",
    "    else:\n",
    "        print(\"obtuse angle\")\n",
    "else:\n",
    "    print(\"acute angle\")"
   ]
  },
  {
   "cell_type": "code",
   "execution_count": 68,
   "id": "0df22b76-e272-4520-94dd-761409cb3efb",
   "metadata": {},
   "outputs": [
    {
     "name": "stdin",
     "output_type": "stream",
     "text": [
      "Enter weekday day number:  11\n"
     ]
    },
    {
     "name": "stdout",
     "output_type": "stream",
     "text": [
      "It is: Invalid input!\n"
     ]
    }
   ],
   "source": [
    "17. # find week days based on user provided number using nested if else\n",
    "\n",
    "weekday = int(input(\"Enter weekday day number: \"))\n",
    "\n",
    "if weekday == 1 :\n",
    "    day =\"Monday\"\n",
    "else :\n",
    "    if weekday == 2 :\n",
    "        day =\"Tuesday\"\n",
    "    else :\n",
    "        if weekday == 3 :\n",
    "            day =\"Wednesday\"\n",
    "        else :\n",
    "            if weekday == 4 :\n",
    "                day =\"Thursday\"\n",
    "            else :\n",
    "                if weekday == 5 :\n",
    "                    day =\"Friday\"\n",
    "                else :\n",
    "                    if weekday == 6 :\n",
    "                        day =\"Saturday\"\n",
    "                    else :\n",
    "                        if weekday == 7 :\n",
    "                            day =\"Sunday\"\n",
    "                        else :\n",
    "                            day =\"Invalid input!\"\n",
    "print(\"It is:\", day)                            "
   ]
  },
  {
   "cell_type": "code",
   "execution_count": 67,
   "id": "c348f414-57a4-4308-8f00-76b5e402c995",
   "metadata": {},
   "outputs": [
    {
     "name": "stdin",
     "output_type": "stream",
     "text": [
      "Enter weekday day number (1-7) :  6\n"
     ]
    },
    {
     "name": "stdout",
     "output_type": "stream",
     "text": [
      "Saturday\n"
     ]
    }
   ],
   "source": [
    " # find week days based on user provided number using elif\n",
    "\n",
    "weekday = int(input(\"Enter weekday day number (1-7) : \"))\n",
    "\n",
    "\n",
    "if weekday == 1 :\n",
    "    print(\"Monday\");\n",
    "\n",
    "elif weekday == 2 :\n",
    "    print(\"Tuesday\")\n",
    "\n",
    "elif(weekday == 3) :\n",
    "    print(\"Wednesday\")\n",
    "\n",
    "elif(weekday == 4) :\n",
    "    print(\"Thursday\")\n",
    "\n",
    "elif(weekday == 5) :\n",
    "    print(\"Friday\")\n",
    "\n",
    "elif(weekday == 6) :\n",
    "    print(\"Saturday\")\n",
    "\n",
    "elif (weekday == 7) :\n",
    "    print(\"Sunday\")\n",
    "\n",
    "else :\n",
    "    print(\"Please enter weekday number between 1-7.\")\n"
   ]
  },
  {
   "cell_type": "code",
   "execution_count": 76,
   "id": "881cb03e-78f0-4848-938e-c95204aeeeec",
   "metadata": {},
   "outputs": [
    {
     "name": "stdout",
     "output_type": "stream",
     "text": [
      "10 is not a prime number\n"
     ]
    }
   ],
   "source": [
    "20.\n",
    "\n",
    "num = 10\n",
    "\n",
    "if num > 1:\n",
    "    for i in range(2, int(num/2)+1):\n",
    "        \n",
    "        \n",
    "        if (num % i) == 0:\n",
    "            print(num, \"is not a prime number\")\n",
    "            break\n",
    "    else:\n",
    "        print(num, \"is a prime number\")\n",
    "else:\n",
    "    print(num, \"is not a prime number\")\n"
   ]
  },
  {
   "cell_type": "code",
   "execution_count": 79,
   "id": "011321fc-2fe9-4df3-a336-e552fbe8d755",
   "metadata": {},
   "outputs": [],
   "source": [
    "#ELif statements"
   ]
  },
  {
   "cell_type": "code",
   "execution_count": 4,
   "id": "a4f08634-72fb-4156-9f89-814b28382d5b",
   "metadata": {},
   "outputs": [
    {
     "name": "stdout",
     "output_type": "stream",
     "text": [
      "D\n"
     ]
    }
   ],
   "source": [
    "21.\n",
    "\n",
    "marks = [25, 65, 46, 98, 78, 65 ]\n",
    " \n",
    "max_marks = len(marks)* 100\n",
    " \n",
    "total = 72\n",
    "\n",
    "percentage = ((total) /max_marks) * 100\n",
    "\n",
    "if (percentage >= 90):\n",
    "    grade = 'A+'\n",
    "\n",
    "else :\n",
    "    if (percentage >= 80 and\n",
    "        percentage <= 89) :\n",
    "        grade = 'A'\n",
    "             \n",
    "    else :\n",
    "        if (percentage >= 60 and\n",
    "            percentage <= 79) :\n",
    "            grade = 'B'\n",
    "                 \n",
    "        else :\n",
    "            if (percentage >= 33 and\n",
    "                percentage <= 59) :\n",
    "                grade = 'c'\n",
    "                     \n",
    "            else:\n",
    "                grade = 'D'\n",
    "print(grade)\n",
    " \n",
    "          "
   ]
  },
  {
   "cell_type": "code",
   "execution_count": 5,
   "id": "4d1b7051-cf28-4d04-b2f7-afa930e28403",
   "metadata": {},
   "outputs": [
    {
     "name": "stdout",
     "output_type": "stream",
     "text": [
      "excellent performance and your grade is A\n"
     ]
    }
   ],
   "source": [
    "21.\n",
    "\n",
    "\n",
    "score=80\n",
    "\n",
    "if score>=85:\n",
    "    print(\"excellent performance and your grade is A+\")\n",
    "elif score>=75:\n",
    "    print(\"excellent performance and your grade is A\")\n",
    "elif score>=65:\n",
    "    print(\"excellent performance and your grade is B\")\n",
    "else:\n",
    "    print(\"excellent performance and your grade is C\")"
   ]
  },
  {
   "cell_type": "code",
   "execution_count": 11,
   "id": "95cbd69c-9200-48a2-8671-fd78fed9a597",
   "metadata": {},
   "outputs": [
    {
     "name": "stdin",
     "output_type": "stream",
     "text": [
      "Enter the student's score:  70\n"
     ]
    },
    {
     "name": "stdout",
     "output_type": "stream",
     "text": [
      "The student's grade is C\n"
     ]
    }
   ],
   "source": [
    "# Get the student's score as input\n",
    "score = int(input(\"Enter the student's score: \"))\n",
    "\n",
    "# Check the score and assign a grade\n",
    "if score >= 90:\n",
    "    grade = \"A\"\n",
    "elif score >= 80:\n",
    "    grade = \"B\"\n",
    "elif score >= 70:\n",
    "    grade = \"C\"\n",
    "elif score >= 50:\n",
    "    grade = \"D\"\n",
    "else:\n",
    "    grade = \"E\"\n",
    "\n",
    "# Display the grade\n",
    "print(f\"The student's grade is {grade}\")"
   ]
  },
  {
   "cell_type": "code",
   "execution_count": 15,
   "id": "ffaddc49-2763-4d61-9ec2-1094eae08a7c",
   "metadata": {},
   "outputs": [
    {
     "name": "stdin",
     "output_type": "stream",
     "text": [
      "Enter the first angle:  90\n",
      "Enter the second angle:  90\n",
      "Enter the third angle:  90\n"
     ]
    },
    {
     "name": "stdout",
     "output_type": "stream",
     "text": [
      "It's an isosceles triangle.\n"
     ]
    }
   ],
   "source": [
    "22.\n",
    "\n",
    "#Equilateral Triangle: All three angles are equal to 60 degrees.\n",
    "#Isosceles Triangle: Two angles are equal, and the third is different.\n",
    "#Scalene Triangle: All three angles are different.\n",
    "\n",
    "angle1 = int(input(\"Enter the first angle: \"))\n",
    "angle2 = int(input(\"Enter the second angle: \"))\n",
    "angle3 = int(input(\"Enter the third angle: \"))\n",
    "\n",
    "if angle1 == angle2 == angle3 == 60:\n",
    "    print(\"It's an equilateral triangle.\")\n",
    "elif angle1 == angle2 or angle1 == angle3 or angle2 == angle3:\n",
    "    print(\"It's an isosceles triangle.\")\n",
    "else:\n",
    "    print(\"It's a scalene triangle.\")\n"
   ]
  },
  {
   "cell_type": "code",
   "execution_count": 4,
   "id": "47971802-a64d-41d2-9208-2f66974a00ff",
   "metadata": {},
   "outputs": [
    {
     "name": "stdout",
     "output_type": "stream",
     "text": [
      "The BMI is 20.3\n",
      "Health status = Normal\n"
     ]
    }
   ],
   "source": [
    "23.\n",
    "\n",
    "height = 1.72\n",
    "weight = 60\n",
    "bmi = round(weight/(height**2),1)\n",
    "print(\"The BMI is\", bmi)\n",
    "print(\"Health status = \",end=\"\")\n",
    "if (bmi < 18.5): \n",
    "  print(\"Underweight\") \n",
    "elif ( bmi >= 18.5 and bmi < 24.9): \n",
    "  print(\"Normal\") \n",
    "elif ( bmi >= 24.9 and bmi < 30): \n",
    "  print(\"Overweight\") \n",
    "elif ( bmi >=30): \n",
    "  print(\"Obese\")"
   ]
  },
  {
   "cell_type": "code",
   "execution_count": 5,
   "id": "5cb8c305-7a2f-4b90-9bf0-2c31fd9c3c32",
   "metadata": {},
   "outputs": [
    {
     "name": "stdout",
     "output_type": "stream",
     "text": [
      "positive number\n"
     ]
    }
   ],
   "source": [
    "24.\n",
    "\n",
    "\n",
    "num = 3\n",
    "\n",
    "if num > 0:\n",
    "    print(\"positive number\")\n",
    "elif num == 3:\n",
    "    print(\"zero\")\n",
    "else:\n",
    "    print(\"negative number\")"
   ]
  },
  {
   "cell_type": "code",
   "execution_count": 8,
   "id": "36f9ff23-aaa9-41fc-8bb3-e5a5a8acc8b2",
   "metadata": {},
   "outputs": [
    {
     "name": "stdin",
     "output_type": "stream",
     "text": [
      "Enter a character:  R\n"
     ]
    },
    {
     "name": "stdout",
     "output_type": "stream",
     "text": [
      "The character is uppercase.\n"
     ]
    }
   ],
   "source": [
    "25.\n",
    "\n",
    "character = input(\"Enter a character: \")\n",
    "\n",
    "if character.islower():\n",
    "    print(\"The character is lowercase.\")\n",
    "elif character.isupper():\n",
    "    print(\"The character is uppercase.\")\n",
    "else:\n",
    "    print(\"The character is special.\")"
   ]
  },
  {
   "cell_type": "code",
   "execution_count": 21,
   "id": "f186f94b-90f2-40c5-9b4a-b0f993982787",
   "metadata": {},
   "outputs": [
    {
     "name": "stdin",
     "output_type": "stream",
     "text": [
      "Enter the purchase amount:  100\n"
     ]
    },
    {
     "name": "stdout",
     "output_type": "stream",
     "text": [
      "Discount Rate: 5.0%\n",
      "Discounted Price: $95.00\n"
     ]
    }
   ],
   "source": [
    "26.\n",
    "\n",
    "# Get the purchase amount from the user\n",
    "purchase_amount = float(input(\"Enter the purchase amount: \"))\n",
    "\n",
    "# Define discount rates for different purchase amounts\n",
    "if purchase_amount < 100:\n",
    "    discount_rate = 0\n",
    "elif purchase_amount < 200:\n",
    "    discount_rate = 0.05  # 5% discount for purchases between 50 and 99.99\n",
    "elif purchase_amount < 300:\n",
    "    discount_rate = 0.10  # 10% discount for purchases between 100 and 199.99\n",
    "else:\n",
    "    discount_rate = 0.15  # 15% discount for purchases of 200 or more\n",
    "\n",
    "# Calculate the discounted price\n",
    "discount = purchase_amount * discount_rate\n",
    "discounted_price = purchase_amount - discount\n",
    "\n",
    "# Display the discounted price\n",
    "print(f\"Discount Rate: {discount_rate * 100}%\")\n",
    "print(f\"Discounted Price: ${discounted_price:.2f}\")\n",
    "\n",
    "\n",
    "\n",
    "\n",
    "\n",
    "\n"
   ]
  },
  {
   "cell_type": "code",
   "execution_count": 20,
   "id": "cc8f3740-1737-4820-8022-2cfb03037b9f",
   "metadata": {},
   "outputs": [
    {
     "name": "stdin",
     "output_type": "stream",
     "text": [
      " Please enter Number of Units you Consumed :  100\n"
     ]
    },
    {
     "name": "stdout",
     "output_type": "stream",
     "text": [
      " Electricity Bill = 511.00\n"
     ]
    }
   ],
   "source": [
    "27.\n",
    "\n",
    "units = int(input(\" Please enter Number of Units you Consumed : \"))\n",
    "\n",
    "if(units > 300):\n",
    "    amount = units * 8.50\n",
    "    surcharge = 85\n",
    "elif(units >= 200):\n",
    "    amount = units * 7.75\n",
    "    surcharge = 75\n",
    "elif(units >= 150):\n",
    "    amount = units * 6.25\n",
    "    surcharge = 55\n",
    "elif(units >= 100):\n",
    "    amount = units * 4.76\n",
    "    surcharge = 35\n",
    "else:\n",
    "    amount = units * 2.25\n",
    "    surcharge = 25\n",
    "\n",
    "total = amount + surcharge\n",
    "print(\" Electricity Bill = %.2f\"  %total)"
   ]
  },
  {
   "cell_type": "code",
   "execution_count": 33,
   "id": "f31cf02d-e545-4c72-bb9e-54042003dad7",
   "metadata": {},
   "outputs": [
    {
     "name": "stdin",
     "output_type": "stream",
     "text": [
      "Input the month (e.g. January, February etc.):  January\n"
     ]
    },
    {
     "name": "stdout",
     "output_type": "stream",
     "text": [
      "Season is winter\n"
     ]
    }
   ],
   "source": [
    "28\n",
    "\n",
    "month = input(\"Input the month (e.g. January, February etc.): \")\n",
    "\n",
    "if month in (\"January\", \"February\", \"March\"):\n",
    "\tseason = \"winter\"\n",
    "elif month in (\"April\", \"May\", \"June\"):\n",
    "\tseason = 'spring'\n",
    "elif month in (\"July\", \"August\", \"September\"):\n",
    "\tseason = \"summer\"\n",
    "else:\n",
    "\tseason = \"autumn\"\n",
    "    \n",
    "print(\"Season is\",season)"
   ]
  },
  {
   "cell_type": "code",
   "execution_count": 34,
   "id": "79e738aa-1b85-4118-a72c-b3fbb1f5a896",
   "metadata": {},
   "outputs": [
    {
     "name": "stdin",
     "output_type": "stream",
     "text": [
      "Enter a year:  1995\n",
      "Enter a month (1-12):  10\n"
     ]
    },
    {
     "name": "stdout",
     "output_type": "stream",
     "text": [
      "The year 1995 is a common year.\n",
      "The month 10 has 31 days.\n"
     ]
    }
   ],
   "source": [
    "\n",
    "year = int(input(\"Enter a year: \"))\n",
    "month = int(input(\"Enter a month (1-12): \"))\n",
    "\n",
    "\n",
    "if (year % 4 == 0 and year % 100 != 0) or (year % 400 == 0):\n",
    "    year_type = \"leap\"\n",
    "else:\n",
    "    year_type = \"common\"\n",
    "\n",
    "\n",
    "if month == 2:\n",
    "    if year_type == \"leap\":\n",
    "        days = 29\n",
    "    else:\n",
    "        days = 28\n",
    "elif month in [4, 6, 9, 11]:\n",
    "    days = 30\n",
    "else:\n",
    "    days = 31\n",
    "\n",
    "\n",
    "print(\"The year\", year, \"is a\", year_type, \"year.\")\n",
    "print(\"The month\", month, \"has\", days, \"days.\")\n"
   ]
  },
  {
   "cell_type": "code",
   "execution_count": null,
   "id": "749cef4e-34a9-4585-b17a-398b6f20894b",
   "metadata": {},
   "outputs": [],
   "source": []
  }
 ],
 "metadata": {
  "kernelspec": {
   "display_name": "Python 3 (ipykernel)",
   "language": "python",
   "name": "python3"
  },
  "language_info": {
   "codemirror_mode": {
    "name": "ipython",
    "version": 3
   },
   "file_extension": ".py",
   "mimetype": "text/x-python",
   "name": "python",
   "nbconvert_exporter": "python",
   "pygments_lexer": "ipython3",
   "version": "3.10.8"
  }
 },
 "nbformat": 4,
 "nbformat_minor": 5
}
