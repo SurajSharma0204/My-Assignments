{
 "cells": [
  {
   "cell_type": "code",
   "execution_count": 1,
   "id": "4ebd9286-93ac-448d-ae73-08fa33259753",
   "metadata": {},
   "outputs": [],
   "source": [
    "#TOPIC: Python Basics Variable"
   ]
  },
  {
   "cell_type": "code",
   "execution_count": 1,
   "id": "040c55a4-52cd-49c9-8b67-588b04cc6ab6",
   "metadata": {},
   "outputs": [],
   "source": [
    "1.\n",
    "\n",
    "x = 5"
   ]
  },
  {
   "cell_type": "code",
   "execution_count": 2,
   "id": "30dff2b0-b901-4bc3-b269-9fe64607a1ce",
   "metadata": {},
   "outputs": [],
   "source": [
    "y = 7"
   ]
  },
  {
   "cell_type": "code",
   "execution_count": 3,
   "id": "932dbd6e-a774-45c8-b7c9-b527ff7c67fb",
   "metadata": {},
   "outputs": [],
   "source": [
    "x,y = y,x"
   ]
  },
  {
   "cell_type": "code",
   "execution_count": 4,
   "id": "d7963842-50ff-484f-98de-5025d8657caa",
   "metadata": {},
   "outputs": [
    {
     "data": {
      "text/plain": [
       "7"
      ]
     },
     "execution_count": 4,
     "metadata": {},
     "output_type": "execute_result"
    }
   ],
   "source": [
    "x"
   ]
  },
  {
   "cell_type": "code",
   "execution_count": 5,
   "id": "f0739d52-85f8-4516-8c3f-cde81f1c7af7",
   "metadata": {},
   "outputs": [
    {
     "data": {
      "text/plain": [
       "5"
      ]
     },
     "execution_count": 5,
     "metadata": {},
     "output_type": "execute_result"
    }
   ],
   "source": [
    "y"
   ]
  },
  {
   "cell_type": "code",
   "execution_count": 6,
   "id": "dae2739c-3470-4dfb-87ae-981caa2ca545",
   "metadata": {},
   "outputs": [
    {
     "name": "stdin",
     "output_type": "stream",
     "text": [
      "enter the length of the rectangle. 50\n",
      "enter the width of the rectangle. 20\n"
     ]
    }
   ],
   "source": [
    "2.\n",
    "\n",
    "length = float(input(\"enter the length of the rectangle.\"))\n",
    "width =  float(input(\"enter the width of the rectangle.\"))\n",
    "\n",
    "area = length*width"
   ]
  },
  {
   "cell_type": "code",
   "execution_count": 7,
   "id": "ebceb69d-783d-4d13-a591-b5ab70d0135d",
   "metadata": {},
   "outputs": [
    {
     "data": {
      "text/plain": [
       "1000.0"
      ]
     },
     "execution_count": 7,
     "metadata": {},
     "output_type": "execute_result"
    }
   ],
   "source": [
    "area"
   ]
  },
  {
   "cell_type": "code",
   "execution_count": 8,
   "id": "7dcf5ade-199b-43d2-8cda-4869f3ff6b37",
   "metadata": {},
   "outputs": [
    {
     "name": "stdin",
     "output_type": "stream",
     "text": [
      "enter the temperature in celsius. 40\n"
     ]
    }
   ],
   "source": [
    "3.\n",
    "\n",
    "celsius = float(input(\"enter the temperature in celsius.\"))\n",
    "fahrenheit = (celsius*9/5) + 32"
   ]
  },
  {
   "cell_type": "code",
   "execution_count": 9,
   "id": "24c1fbf1-a1cf-47a8-90db-64ad5738eee2",
   "metadata": {},
   "outputs": [
    {
     "data": {
      "text/plain": [
       "104.0"
      ]
     },
     "execution_count": 9,
     "metadata": {},
     "output_type": "execute_result"
    }
   ],
   "source": [
    "fahrenheit"
   ]
  },
  {
   "cell_type": "code",
   "execution_count": 11,
   "id": "c4e93b82-bb1b-4608-ae61-25c8ec5a8a8b",
   "metadata": {},
   "outputs": [],
   "source": [
    "#TOPIC: String Based Questions"
   ]
  },
  {
   "cell_type": "code",
   "execution_count": 10,
   "id": "263ad649-3dc7-45a1-929c-6ff43597599d",
   "metadata": {},
   "outputs": [
    {
     "name": "stdin",
     "output_type": "stream",
     "text": [
      "enter the string. sharma\n"
     ]
    }
   ],
   "source": [
    "1.\n",
    "\n",
    "string = (input(\"enter the string.\"))\n",
    "st_len = len(string)"
   ]
  },
  {
   "cell_type": "code",
   "execution_count": 11,
   "id": "f6f0f991-48c9-417d-94a2-91a58827c4b7",
   "metadata": {},
   "outputs": [
    {
     "data": {
      "text/plain": [
       "6"
      ]
     },
     "execution_count": 11,
     "metadata": {},
     "output_type": "execute_result"
    }
   ],
   "source": [
    "st_len"
   ]
  },
  {
   "cell_type": "code",
   "execution_count": 12,
   "id": "b808ab84-0aaf-493a-ac25-a81015b01d1e",
   "metadata": {},
   "outputs": [
    {
     "name": "stdin",
     "output_type": "stream",
     "text": [
      "enter a sentence. its a beautiful day\n"
     ]
    },
    {
     "ename": "NameError",
     "evalue": "name 'a' is not defined",
     "output_type": "error",
     "traceback": [
      "\u001b[0;31m---------------------------------------------------------------------------\u001b[0m",
      "\u001b[0;31mNameError\u001b[0m                                 Traceback (most recent call last)",
      "Cell \u001b[0;32mIn[12], line 4\u001b[0m\n\u001b[1;32m      1\u001b[0m \u001b[38;5;241m2.\u001b[39m\n\u001b[1;32m      3\u001b[0m sentence \u001b[38;5;241m=\u001b[39m \u001b[38;5;28minput\u001b[39m(\u001b[38;5;124m\"\u001b[39m\u001b[38;5;124menter a sentence.\u001b[39m\u001b[38;5;124m\"\u001b[39m)\n\u001b[0;32m----> 4\u001b[0m vowels \u001b[38;5;241m=\u001b[39m (\u001b[43ma\u001b[49m,e,i,o,u)\n\u001b[1;32m      5\u001b[0m count \u001b[38;5;241m=\u001b[39m \u001b[38;5;28msum\u001b[39m(sentence\u001b[38;5;241m.\u001b[39mcount(vowels)\u001b[38;5;28;01mfor\u001b[39;00m vowel \u001b[38;5;129;01min\u001b[39;00m vowels)\n",
      "\u001b[0;31mNameError\u001b[0m: name 'a' is not defined"
     ]
    }
   ],
   "source": [
    "2.\n",
    "\n",
    "sentence = input(\"enter a sentence.\")\n",
    "vowels = (a,e,i,o,u)\n",
    "count = sum(sentence.count(vowels)for vowel in vowels)"
   ]
  },
  {
   "cell_type": "code",
   "execution_count": 13,
   "id": "be1480ff-c223-48ef-9135-e7597cda768d",
   "metadata": {},
   "outputs": [],
   "source": [
    "3.\n",
    "\n",
    "st = \"Hello beautiful people\""
   ]
  },
  {
   "cell_type": "code",
   "execution_count": 14,
   "id": "181cfb0e-3fa2-4775-a7b7-13b9d823be39",
   "metadata": {},
   "outputs": [
    {
     "data": {
      "text/plain": [
       "'Hello beautiful people'"
      ]
     },
     "execution_count": 14,
     "metadata": {},
     "output_type": "execute_result"
    }
   ],
   "source": [
    "st"
   ]
  },
  {
   "cell_type": "code",
   "execution_count": 15,
   "id": "71410e51-7ec6-4241-870a-e02347866c9d",
   "metadata": {},
   "outputs": [],
   "source": [
    "reversed_st = st[::-1]"
   ]
  },
  {
   "cell_type": "code",
   "execution_count": 16,
   "id": "7f9de744-fcec-425f-9036-33a89fdb61ce",
   "metadata": {},
   "outputs": [
    {
     "data": {
      "text/plain": [
       "'elpoep lufituaeb olleH'"
      ]
     },
     "execution_count": 16,
     "metadata": {},
     "output_type": "execute_result"
    }
   ],
   "source": [
    "reversed_st"
   ]
  },
  {
   "cell_type": "code",
   "execution_count": 17,
   "id": "09433ac2-4311-428f-b65a-e075ab841ad8",
   "metadata": {},
   "outputs": [
    {
     "name": "stdin",
     "output_type": "stream",
     "text": [
      "enter the string. my  name  is  suraj\n"
     ]
    }
   ],
   "source": [
    "5.\n",
    "\n",
    "st_1 = input(\"enter the string.\")\n",
    "st_mod = st_1.replace(\"  \", \" \")"
   ]
  },
  {
   "cell_type": "code",
   "execution_count": 18,
   "id": "892b6bc9-7d9f-4d57-92d3-df83ba8b5be0",
   "metadata": {},
   "outputs": [
    {
     "data": {
      "text/plain": [
       "'my name is suraj'"
      ]
     },
     "execution_count": 18,
     "metadata": {},
     "output_type": "execute_result"
    }
   ],
   "source": [
    "st_mod"
   ]
  },
  {
   "cell_type": "code",
   "execution_count": null,
   "id": "42a1057f-8d48-4be5-9c31-c8540bc76602",
   "metadata": {},
   "outputs": [],
   "source": []
  }
 ],
 "metadata": {
  "kernelspec": {
   "display_name": "Python 3 (ipykernel)",
   "language": "python",
   "name": "python3"
  },
  "language_info": {
   "codemirror_mode": {
    "name": "ipython",
    "version": 3
   },
   "file_extension": ".py",
   "mimetype": "text/x-python",
   "name": "python",
   "nbconvert_exporter": "python",
   "pygments_lexer": "ipython3",
   "version": "3.10.8"
  }
 },
 "nbformat": 4,
 "nbformat_minor": 5
}
