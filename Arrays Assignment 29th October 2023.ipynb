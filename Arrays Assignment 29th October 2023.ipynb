{
 "cells": [
  {
   "cell_type": "code",
   "execution_count": 3,
   "id": "323ccdb5-db22-4152-acb0-387300ddbb22",
   "metadata": {},
   "outputs": [
    {
     "name": "stdout",
     "output_type": "stream",
     "text": [
      "True\n"
     ]
    }
   ],
   "source": [
    "#1. Given an array, check if it contains any duplicates or not.\n",
    "#arr = [1, 2, 4, 2, 5, 9]\n",
    "\n",
    "\n",
    "\n",
    "def has_duplicates(arr):\n",
    "    seen = set()\n",
    "    for element in arr:\n",
    "        if element in seen:\n",
    "            return True\n",
    "        seen.add(element)\n",
    "    return False\n",
    "\n",
    "# Driver code\n",
    "arr = [1, 2, 4, 2, 5, 9]\n",
    "output = has_duplicates(arr)\n",
    "print(output)"
   ]
  },
  {
   "cell_type": "code",
   "execution_count": 4,
   "id": "e2f07b4f-3e82-47e9-9ba9-0b64e00523a6",
   "metadata": {},
   "outputs": [
    {
     "name": "stdout",
     "output_type": "stream",
     "text": [
      "[5, 6, 7, 1, 2, 3, 4]\n"
     ]
    }
   ],
   "source": [
    "#2. Given an array and an integer k, rotate the array to the right by k steps.\n",
    "#arr = [1, 2, 3, 4, 5, 6, 7] k = 3\n",
    "\n",
    "def rotate_array(arr, k):\n",
    "    n = len(arr)\n",
    "    k = k % n  # Handle the case where k is larger than the array length\n",
    "\n",
    "    # Rotate the array using slicing\n",
    "    rotated_array = arr[-k:] + arr[:-k]\n",
    "\n",
    "    return rotated_array\n",
    "\n",
    "#Driver code\n",
    "arr = [1, 2, 3, 4, 5, 6, 7]\n",
    "k = 3\n",
    "output = rotate_array(arr, k)\n",
    "print(output)\n",
    "\n"
   ]
  },
  {
   "cell_type": "code",
   "execution_count": 5,
   "id": "ce0b7afc-52e3-4d1f-b0f0-b467bc87213e",
   "metadata": {},
   "outputs": [
    {
     "name": "stdout",
     "output_type": "stream",
     "text": [
      "[12, 9, 7, 5, 4, 2]\n"
     ]
    }
   ],
   "source": [
    "#3. Reverse the given array in-place, means without using any extra data structure.\n",
    "#arr = [2, 4, 5, 7, 9, 12]\n",
    "\n",
    "\n",
    "def reverse_array_in_place(arr):\n",
    "    left, right = 0, len(arr) - 1\n",
    "\n",
    "    while left < right:\n",
    "        # Swap elements at the left and right indices\n",
    "        arr[left], arr[right] = arr[right], arr[left]\n",
    "\n",
    "        # Move the pointers towards the center\n",
    "        left += 1\n",
    "        right -= 1\n",
    "\n",
    "# Driver code\n",
    "arr = [2, 4, 5, 7, 9, 12]\n",
    "reverse_array_in_place(arr)\n",
    "print(arr)"
   ]
  },
  {
   "cell_type": "code",
   "execution_count": 6,
   "id": "be871296-10da-4de3-9873-de1df312d2f5",
   "metadata": {},
   "outputs": [
    {
     "name": "stdout",
     "output_type": "stream",
     "text": [
      "20\n"
     ]
    }
   ],
   "source": [
    "#4. Given an array of integers, find the maximum element in an array\n",
    "#arr = [10, 5, 20, 8, 15]\n",
    "\n",
    "\n",
    "arr = [10, 5, 20, 8, 15]\n",
    "\n",
    "# Initialize max_element with the first element of the array\n",
    "max_element = arr[0]\n",
    "\n",
    "# Iterate through the array to find the maximum element\n",
    "for num in arr:\n",
    "    if num > max_element:\n",
    "        max_element = num\n",
    "\n",
    "print(max_element)"
   ]
  },
  {
   "cell_type": "code",
   "execution_count": 7,
   "id": "737a2da0-8c38-4711-9060-8dd2085d9971",
   "metadata": {},
   "outputs": [
    {
     "name": "stdout",
     "output_type": "stream",
     "text": [
      "20\n"
     ]
    }
   ],
   "source": [
    "arr = [10, 5, 20, 8, 15]\n",
    "max_element = max(arr)\n",
    "print(max_element)"
   ]
  },
  {
   "cell_type": "code",
   "execution_count": 11,
   "id": "6475f4d2-31fa-436f-adce-0a40b35b2db4",
   "metadata": {},
   "outputs": [
    {
     "name": "stdout",
     "output_type": "stream",
     "text": [
      "[1, 2, 3, 4, 5]\n"
     ]
    }
   ],
   "source": [
    "#5. Given a sorted array, remove the duplicate element without using any extra data structure.\n",
    "#arr = [1, 1, 2, 2, 2, 3, 3, 4, 4, 4, 5, 5]\n",
    "\n",
    "\n",
    "def remove_duplicates_in_place(arr):\n",
    "    if not arr:\n",
    "        return []\n",
    "\n",
    "    index = 0  # Index to keep track of the current unique element\n",
    "\n",
    "    for i in range(1, len(arr)):\n",
    "        if arr[i] != arr[index]:\n",
    "            # Move the unique element to the next position\n",
    "            index += 1\n",
    "            arr[index] = arr[i]\n",
    "\n",
    "    # Truncate the array to remove any remaining elements\n",
    "    arr[:] = arr[:index + 1]\n",
    "\n",
    "# Example usage:\n",
    "arr = [1, 1, 2, 2, 2, 3, 3, 4, 4, 4, 5, 5]\n",
    "remove_duplicates_in_place(arr)\n",
    "print(arr)"
   ]
  },
  {
   "cell_type": "code",
   "execution_count": null,
   "id": "ce2f82f8-d36b-4bbc-a79a-a7181b8f0ab4",
   "metadata": {},
   "outputs": [],
   "source": []
  }
 ],
 "metadata": {
  "kernelspec": {
   "display_name": "Python 3 (ipykernel)",
   "language": "python",
   "name": "python3"
  },
  "language_info": {
   "codemirror_mode": {
    "name": "ipython",
    "version": 3
   },
   "file_extension": ".py",
   "mimetype": "text/x-python",
   "name": "python",
   "nbconvert_exporter": "python",
   "pygments_lexer": "ipython3",
   "version": "3.10.8"
  }
 },
 "nbformat": 4,
 "nbformat_minor": 5
}
